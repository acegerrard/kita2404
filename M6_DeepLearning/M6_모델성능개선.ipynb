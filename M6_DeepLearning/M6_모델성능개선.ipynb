{
  "nbformat": 4,
  "nbformat_minor": 0,
  "metadata": {
    "colab": {
      "provenance": []
    },
    "kernelspec": {
      "name": "python3",
      "display_name": "Python 3"
    },
    "language_info": {
      "name": "python"
    }
  },
  "cells": [
    {
      "cell_type": "code",
      "execution_count": null,
      "metadata": {
        "colab": {
          "base_uri": "https://localhost:8080/"
        },
        "id": "jGEh9pWJg56K",
        "outputId": "0c8486b8-8d0e-487a-b9b8-09ad7d65037e"
      },
      "outputs": [
        {
          "output_type": "stream",
          "name": "stdout",
          "text": [
            "Mounted at /content/drive\n"
          ]
        }
      ],
      "source": [
        "from google.colab import drive\n",
        "drive.mount('/content/drive')\n"
      ]
    },
    {
      "cell_type": "markdown",
      "source": [
        "### seed 설정\n",
        "- NumPy의 무작위 작업에 대한 전역 제어를 위해 np.random.seed를 설정.\n",
        "- np.random.seed(123)를 설정해도 스크립트를 실행할 때마다 정확히 동일한 학습 평가데이터 분할이 재현되도록 보장하려는 경우 train_test_split과 같은 scikit-learn 함수에 random_state를 지정.\n",
        "- TensorFlow를 사용하는 경우 TensorFlow 작업에 tf.random.set_seed를 사용하며 신경망 레이어의 무작위 가중치 초기화, 훈련 프로세스의 임의성(예: , 이 특정 코드에 없는 드롭아웃 레이어를 사용하는 경우) 또는 임의성을 포함하는 기타 TensorFlow 작업을 사용하는 경우에 적용. 단순한 모델이나 특정 데이터 세트에 대해 훈련된 모델은 다양한 초기화에서 성능에 큰 변화를 나타내지 않을 수 있다\n",
        "- Python 내장 random 모듈이 스크립트의 어느 곳에서나 사용되는 경우 해당 모듈의 시드를 설정. TensorFlow 작업 자체에 'python_random.seed(123)'를 직접 사용할 필요가 없지만 스크립트 시작 부분에 python_random.seed(123)를 설정하면 난수 생성을 위해 내장된 python random 모듈을 사용하는 모든 Python 작업에 영향을 미칠 수 있다."
      ],
      "metadata": {
        "id": "2ghGgxC8h1SO"
      }
    },
    {
      "cell_type": "markdown",
      "source": [
        "Q. wine.csv로 와의 품종을 예측하는 모델을 텐서플로/케라스로 아래와 같이 생성하고 학습 및 평가를 수행하세요.\n",
        "- 입력층 :  Input 레이어 shape=(12,)\n",
        "- 첫번째층 : 30, activation='relu'\n",
        "- 두번째층 :12, activation='relu'\n",
        "- 세번째층 :8, activation='relu'\n",
        "- 출력층 :1, activation='sigmoid'"
      ],
      "metadata": {
        "id": "RoSoAcO0hemt"
      }
    },
    {
      "cell_type": "markdown",
      "source": [
        "## 와인의 종류 예측하기\n",
        "\n",
        "- 속성 12개 : 주석산 농도, 아세트산 농도, 구연산 농도, 잔류 당분 농도, 염화나트륨 농도, 유리 아황산 농도, 총 아황산 농도, 밀도, pH, 황산칼륨 농도, 알코올 도수, 와인의 맛(0~10등급), 클래스(1:레드 와인, 0: 화이트 와인)"
      ],
      "metadata": {
        "id": "azsF0FiphfGO"
      }
    },
    {
      "cell_type": "code",
      "source": [
        "import tensorflow as tf\n",
        "from tensorflow.keras.models import Sequential\n",
        "from tensorflow.keras.layers import Dense , Input\n",
        "from sklearn.model_selection import train_test_split\n",
        "from sklearn.preprocessing import StandardScaler\n",
        "import pandas as pd\n",
        "import numpy as np\n",
        "import random as python_random\n",
        "\n",
        "\n",
        "tf.random.set_seed(123)\n",
        "np.random.seed(123)\n",
        "python_random.seed(123)\n",
        "\n",
        "# 데이터를 입력\n",
        "\n",
        "df = pd.read_csv('/content/drive/MyDrive/kdt_240424/M6_딥러닝/dataset/wine.csv', header=None)\n",
        "\n",
        "df.head()"
      ],
      "metadata": {
        "colab": {
          "base_uri": "https://localhost:8080/",
          "height": 206
        },
        "id": "Ry3mS3zYhUUf",
        "outputId": "aa3f69e5-c399-4084-e8d6-0b7ef85ce381"
      },
      "execution_count": null,
      "outputs": [
        {
          "output_type": "execute_result",
          "data": {
            "text/plain": [
              "     0     1     2    3      4     5     6       7     8     9    10  11  12\n",
              "0   7.4  0.70  0.00  1.9  0.076  11.0  34.0  0.9978  3.51  0.56  9.4   5   1\n",
              "1   7.8  0.88  0.00  2.6  0.098  25.0  67.0  0.9968  3.20  0.68  9.8   5   1\n",
              "2   7.8  0.76  0.04  2.3  0.092  15.0  54.0  0.9970  3.26  0.65  9.8   5   1\n",
              "3  11.2  0.28  0.56  1.9  0.075  17.0  60.0  0.9980  3.16  0.58  9.8   6   1\n",
              "4   7.4  0.70  0.00  1.9  0.076  11.0  34.0  0.9978  3.51  0.56  9.4   5   1"
            ],
            "text/html": [
              "\n",
              "  <div id=\"df-00736f13-ac58-459b-83bb-689a5888fb9f\" class=\"colab-df-container\">\n",
              "    <div>\n",
              "<style scoped>\n",
              "    .dataframe tbody tr th:only-of-type {\n",
              "        vertical-align: middle;\n",
              "    }\n",
              "\n",
              "    .dataframe tbody tr th {\n",
              "        vertical-align: top;\n",
              "    }\n",
              "\n",
              "    .dataframe thead th {\n",
              "        text-align: right;\n",
              "    }\n",
              "</style>\n",
              "<table border=\"1\" class=\"dataframe\">\n",
              "  <thead>\n",
              "    <tr style=\"text-align: right;\">\n",
              "      <th></th>\n",
              "      <th>0</th>\n",
              "      <th>1</th>\n",
              "      <th>2</th>\n",
              "      <th>3</th>\n",
              "      <th>4</th>\n",
              "      <th>5</th>\n",
              "      <th>6</th>\n",
              "      <th>7</th>\n",
              "      <th>8</th>\n",
              "      <th>9</th>\n",
              "      <th>10</th>\n",
              "      <th>11</th>\n",
              "      <th>12</th>\n",
              "    </tr>\n",
              "  </thead>\n",
              "  <tbody>\n",
              "    <tr>\n",
              "      <th>0</th>\n",
              "      <td>7.4</td>\n",
              "      <td>0.70</td>\n",
              "      <td>0.00</td>\n",
              "      <td>1.9</td>\n",
              "      <td>0.076</td>\n",
              "      <td>11.0</td>\n",
              "      <td>34.0</td>\n",
              "      <td>0.9978</td>\n",
              "      <td>3.51</td>\n",
              "      <td>0.56</td>\n",
              "      <td>9.4</td>\n",
              "      <td>5</td>\n",
              "      <td>1</td>\n",
              "    </tr>\n",
              "    <tr>\n",
              "      <th>1</th>\n",
              "      <td>7.8</td>\n",
              "      <td>0.88</td>\n",
              "      <td>0.00</td>\n",
              "      <td>2.6</td>\n",
              "      <td>0.098</td>\n",
              "      <td>25.0</td>\n",
              "      <td>67.0</td>\n",
              "      <td>0.9968</td>\n",
              "      <td>3.20</td>\n",
              "      <td>0.68</td>\n",
              "      <td>9.8</td>\n",
              "      <td>5</td>\n",
              "      <td>1</td>\n",
              "    </tr>\n",
              "    <tr>\n",
              "      <th>2</th>\n",
              "      <td>7.8</td>\n",
              "      <td>0.76</td>\n",
              "      <td>0.04</td>\n",
              "      <td>2.3</td>\n",
              "      <td>0.092</td>\n",
              "      <td>15.0</td>\n",
              "      <td>54.0</td>\n",
              "      <td>0.9970</td>\n",
              "      <td>3.26</td>\n",
              "      <td>0.65</td>\n",
              "      <td>9.8</td>\n",
              "      <td>5</td>\n",
              "      <td>1</td>\n",
              "    </tr>\n",
              "    <tr>\n",
              "      <th>3</th>\n",
              "      <td>11.2</td>\n",
              "      <td>0.28</td>\n",
              "      <td>0.56</td>\n",
              "      <td>1.9</td>\n",
              "      <td>0.075</td>\n",
              "      <td>17.0</td>\n",
              "      <td>60.0</td>\n",
              "      <td>0.9980</td>\n",
              "      <td>3.16</td>\n",
              "      <td>0.58</td>\n",
              "      <td>9.8</td>\n",
              "      <td>6</td>\n",
              "      <td>1</td>\n",
              "    </tr>\n",
              "    <tr>\n",
              "      <th>4</th>\n",
              "      <td>7.4</td>\n",
              "      <td>0.70</td>\n",
              "      <td>0.00</td>\n",
              "      <td>1.9</td>\n",
              "      <td>0.076</td>\n",
              "      <td>11.0</td>\n",
              "      <td>34.0</td>\n",
              "      <td>0.9978</td>\n",
              "      <td>3.51</td>\n",
              "      <td>0.56</td>\n",
              "      <td>9.4</td>\n",
              "      <td>5</td>\n",
              "      <td>1</td>\n",
              "    </tr>\n",
              "  </tbody>\n",
              "</table>\n",
              "</div>\n",
              "    <div class=\"colab-df-buttons\">\n",
              "\n",
              "  <div class=\"colab-df-container\">\n",
              "    <button class=\"colab-df-convert\" onclick=\"convertToInteractive('df-00736f13-ac58-459b-83bb-689a5888fb9f')\"\n",
              "            title=\"Convert this dataframe to an interactive table.\"\n",
              "            style=\"display:none;\">\n",
              "\n",
              "  <svg xmlns=\"http://www.w3.org/2000/svg\" height=\"24px\" viewBox=\"0 -960 960 960\">\n",
              "    <path d=\"M120-120v-720h720v720H120Zm60-500h600v-160H180v160Zm220 220h160v-160H400v160Zm0 220h160v-160H400v160ZM180-400h160v-160H180v160Zm440 0h160v-160H620v160ZM180-180h160v-160H180v160Zm440 0h160v-160H620v160Z\"/>\n",
              "  </svg>\n",
              "    </button>\n",
              "\n",
              "  <style>\n",
              "    .colab-df-container {\n",
              "      display:flex;\n",
              "      gap: 12px;\n",
              "    }\n",
              "\n",
              "    .colab-df-convert {\n",
              "      background-color: #E8F0FE;\n",
              "      border: none;\n",
              "      border-radius: 50%;\n",
              "      cursor: pointer;\n",
              "      display: none;\n",
              "      fill: #1967D2;\n",
              "      height: 32px;\n",
              "      padding: 0 0 0 0;\n",
              "      width: 32px;\n",
              "    }\n",
              "\n",
              "    .colab-df-convert:hover {\n",
              "      background-color: #E2EBFA;\n",
              "      box-shadow: 0px 1px 2px rgba(60, 64, 67, 0.3), 0px 1px 3px 1px rgba(60, 64, 67, 0.15);\n",
              "      fill: #174EA6;\n",
              "    }\n",
              "\n",
              "    .colab-df-buttons div {\n",
              "      margin-bottom: 4px;\n",
              "    }\n",
              "\n",
              "    [theme=dark] .colab-df-convert {\n",
              "      background-color: #3B4455;\n",
              "      fill: #D2E3FC;\n",
              "    }\n",
              "\n",
              "    [theme=dark] .colab-df-convert:hover {\n",
              "      background-color: #434B5C;\n",
              "      box-shadow: 0px 1px 3px 1px rgba(0, 0, 0, 0.15);\n",
              "      filter: drop-shadow(0px 1px 2px rgba(0, 0, 0, 0.3));\n",
              "      fill: #FFFFFF;\n",
              "    }\n",
              "  </style>\n",
              "\n",
              "    <script>\n",
              "      const buttonEl =\n",
              "        document.querySelector('#df-00736f13-ac58-459b-83bb-689a5888fb9f button.colab-df-convert');\n",
              "      buttonEl.style.display =\n",
              "        google.colab.kernel.accessAllowed ? 'block' : 'none';\n",
              "\n",
              "      async function convertToInteractive(key) {\n",
              "        const element = document.querySelector('#df-00736f13-ac58-459b-83bb-689a5888fb9f');\n",
              "        const dataTable =\n",
              "          await google.colab.kernel.invokeFunction('convertToInteractive',\n",
              "                                                    [key], {});\n",
              "        if (!dataTable) return;\n",
              "\n",
              "        const docLinkHtml = 'Like what you see? Visit the ' +\n",
              "          '<a target=\"_blank\" href=https://colab.research.google.com/notebooks/data_table.ipynb>data table notebook</a>'\n",
              "          + ' to learn more about interactive tables.';\n",
              "        element.innerHTML = '';\n",
              "        dataTable['output_type'] = 'display_data';\n",
              "        await google.colab.output.renderOutput(dataTable, element);\n",
              "        const docLink = document.createElement('div');\n",
              "        docLink.innerHTML = docLinkHtml;\n",
              "        element.appendChild(docLink);\n",
              "      }\n",
              "    </script>\n",
              "  </div>\n",
              "\n",
              "\n",
              "<div id=\"df-6e505c6c-2151-426f-9a27-b79b1382ec99\">\n",
              "  <button class=\"colab-df-quickchart\" onclick=\"quickchart('df-6e505c6c-2151-426f-9a27-b79b1382ec99')\"\n",
              "            title=\"Suggest charts\"\n",
              "            style=\"display:none;\">\n",
              "\n",
              "<svg xmlns=\"http://www.w3.org/2000/svg\" height=\"24px\"viewBox=\"0 0 24 24\"\n",
              "     width=\"24px\">\n",
              "    <g>\n",
              "        <path d=\"M19 3H5c-1.1 0-2 .9-2 2v14c0 1.1.9 2 2 2h14c1.1 0 2-.9 2-2V5c0-1.1-.9-2-2-2zM9 17H7v-7h2v7zm4 0h-2V7h2v10zm4 0h-2v-4h2v4z\"/>\n",
              "    </g>\n",
              "</svg>\n",
              "  </button>\n",
              "\n",
              "<style>\n",
              "  .colab-df-quickchart {\n",
              "      --bg-color: #E8F0FE;\n",
              "      --fill-color: #1967D2;\n",
              "      --hover-bg-color: #E2EBFA;\n",
              "      --hover-fill-color: #174EA6;\n",
              "      --disabled-fill-color: #AAA;\n",
              "      --disabled-bg-color: #DDD;\n",
              "  }\n",
              "\n",
              "  [theme=dark] .colab-df-quickchart {\n",
              "      --bg-color: #3B4455;\n",
              "      --fill-color: #D2E3FC;\n",
              "      --hover-bg-color: #434B5C;\n",
              "      --hover-fill-color: #FFFFFF;\n",
              "      --disabled-bg-color: #3B4455;\n",
              "      --disabled-fill-color: #666;\n",
              "  }\n",
              "\n",
              "  .colab-df-quickchart {\n",
              "    background-color: var(--bg-color);\n",
              "    border: none;\n",
              "    border-radius: 50%;\n",
              "    cursor: pointer;\n",
              "    display: none;\n",
              "    fill: var(--fill-color);\n",
              "    height: 32px;\n",
              "    padding: 0;\n",
              "    width: 32px;\n",
              "  }\n",
              "\n",
              "  .colab-df-quickchart:hover {\n",
              "    background-color: var(--hover-bg-color);\n",
              "    box-shadow: 0 1px 2px rgba(60, 64, 67, 0.3), 0 1px 3px 1px rgba(60, 64, 67, 0.15);\n",
              "    fill: var(--button-hover-fill-color);\n",
              "  }\n",
              "\n",
              "  .colab-df-quickchart-complete:disabled,\n",
              "  .colab-df-quickchart-complete:disabled:hover {\n",
              "    background-color: var(--disabled-bg-color);\n",
              "    fill: var(--disabled-fill-color);\n",
              "    box-shadow: none;\n",
              "  }\n",
              "\n",
              "  .colab-df-spinner {\n",
              "    border: 2px solid var(--fill-color);\n",
              "    border-color: transparent;\n",
              "    border-bottom-color: var(--fill-color);\n",
              "    animation:\n",
              "      spin 1s steps(1) infinite;\n",
              "  }\n",
              "\n",
              "  @keyframes spin {\n",
              "    0% {\n",
              "      border-color: transparent;\n",
              "      border-bottom-color: var(--fill-color);\n",
              "      border-left-color: var(--fill-color);\n",
              "    }\n",
              "    20% {\n",
              "      border-color: transparent;\n",
              "      border-left-color: var(--fill-color);\n",
              "      border-top-color: var(--fill-color);\n",
              "    }\n",
              "    30% {\n",
              "      border-color: transparent;\n",
              "      border-left-color: var(--fill-color);\n",
              "      border-top-color: var(--fill-color);\n",
              "      border-right-color: var(--fill-color);\n",
              "    }\n",
              "    40% {\n",
              "      border-color: transparent;\n",
              "      border-right-color: var(--fill-color);\n",
              "      border-top-color: var(--fill-color);\n",
              "    }\n",
              "    60% {\n",
              "      border-color: transparent;\n",
              "      border-right-color: var(--fill-color);\n",
              "    }\n",
              "    80% {\n",
              "      border-color: transparent;\n",
              "      border-right-color: var(--fill-color);\n",
              "      border-bottom-color: var(--fill-color);\n",
              "    }\n",
              "    90% {\n",
              "      border-color: transparent;\n",
              "      border-bottom-color: var(--fill-color);\n",
              "    }\n",
              "  }\n",
              "</style>\n",
              "\n",
              "  <script>\n",
              "    async function quickchart(key) {\n",
              "      const quickchartButtonEl =\n",
              "        document.querySelector('#' + key + ' button');\n",
              "      quickchartButtonEl.disabled = true;  // To prevent multiple clicks.\n",
              "      quickchartButtonEl.classList.add('colab-df-spinner');\n",
              "      try {\n",
              "        const charts = await google.colab.kernel.invokeFunction(\n",
              "            'suggestCharts', [key], {});\n",
              "      } catch (error) {\n",
              "        console.error('Error during call to suggestCharts:', error);\n",
              "      }\n",
              "      quickchartButtonEl.classList.remove('colab-df-spinner');\n",
              "      quickchartButtonEl.classList.add('colab-df-quickchart-complete');\n",
              "    }\n",
              "    (() => {\n",
              "      let quickchartButtonEl =\n",
              "        document.querySelector('#df-6e505c6c-2151-426f-9a27-b79b1382ec99 button');\n",
              "      quickchartButtonEl.style.display =\n",
              "        google.colab.kernel.accessAllowed ? 'block' : 'none';\n",
              "    })();\n",
              "  </script>\n",
              "</div>\n",
              "\n",
              "    </div>\n",
              "  </div>\n"
            ],
            "application/vnd.google.colaboratory.intrinsic+json": {
              "type": "dataframe",
              "variable_name": "df",
              "summary": "{\n  \"name\": \"df\",\n  \"rows\": 6497,\n  \"fields\": [\n    {\n      \"column\": 0,\n      \"properties\": {\n        \"dtype\": \"number\",\n        \"std\": 1.2964337577998153,\n        \"min\": 3.8,\n        \"max\": 15.9,\n        \"num_unique_values\": 106,\n        \"samples\": [\n          7.15,\n          8.1,\n          7.3\n        ],\n        \"semantic_type\": \"\",\n        \"description\": \"\"\n      }\n    },\n    {\n      \"column\": 1,\n      \"properties\": {\n        \"dtype\": \"number\",\n        \"std\": 0.16463647408467877,\n        \"min\": 0.08,\n        \"max\": 1.58,\n        \"num_unique_values\": 187,\n        \"samples\": [\n          0.405,\n          0.21,\n          0.695\n        ],\n        \"semantic_type\": \"\",\n        \"description\": \"\"\n      }\n    },\n    {\n      \"column\": 2,\n      \"properties\": {\n        \"dtype\": \"number\",\n        \"std\": 0.14531786489759155,\n        \"min\": 0.0,\n        \"max\": 1.66,\n        \"num_unique_values\": 89,\n        \"samples\": [\n          0.1,\n          0.6,\n          0.37\n        ],\n        \"semantic_type\": \"\",\n        \"description\": \"\"\n      }\n    },\n    {\n      \"column\": 3,\n      \"properties\": {\n        \"dtype\": \"number\",\n        \"std\": 4.757803743147418,\n        \"min\": 0.6,\n        \"max\": 65.8,\n        \"num_unique_values\": 316,\n        \"samples\": [\n          18.95,\n          3.2,\n          9.3\n        ],\n        \"semantic_type\": \"\",\n        \"description\": \"\"\n      }\n    },\n    {\n      \"column\": 4,\n      \"properties\": {\n        \"dtype\": \"number\",\n        \"std\": 0.03503360137245907,\n        \"min\": 0.009,\n        \"max\": 0.611,\n        \"num_unique_values\": 214,\n        \"samples\": [\n          0.089,\n          0.217,\n          0.1\n        ],\n        \"semantic_type\": \"\",\n        \"description\": \"\"\n      }\n    },\n    {\n      \"column\": 5,\n      \"properties\": {\n        \"dtype\": \"number\",\n        \"std\": 17.7493997720025,\n        \"min\": 1.0,\n        \"max\": 289.0,\n        \"num_unique_values\": 135,\n        \"samples\": [\n          77.5,\n          65.0,\n          128.0\n        ],\n        \"semantic_type\": \"\",\n        \"description\": \"\"\n      }\n    },\n    {\n      \"column\": 6,\n      \"properties\": {\n        \"dtype\": \"number\",\n        \"std\": 56.521854522630285,\n        \"min\": 6.0,\n        \"max\": 440.0,\n        \"num_unique_values\": 276,\n        \"samples\": [\n          14.0,\n          149.0,\n          227.0\n        ],\n        \"semantic_type\": \"\",\n        \"description\": \"\"\n      }\n    },\n    {\n      \"column\": 7,\n      \"properties\": {\n        \"dtype\": \"number\",\n        \"std\": 0.0029986730037190393,\n        \"min\": 0.98711,\n        \"max\": 1.03898,\n        \"num_unique_values\": 998,\n        \"samples\": [\n          0.9918,\n          0.99412,\n          0.99484\n        ],\n        \"semantic_type\": \"\",\n        \"description\": \"\"\n      }\n    },\n    {\n      \"column\": 8,\n      \"properties\": {\n        \"dtype\": \"number\",\n        \"std\": 0.16078720210398764,\n        \"min\": 2.72,\n        \"max\": 4.01,\n        \"num_unique_values\": 108,\n        \"samples\": [\n          3.74,\n          3.17,\n          3.3\n        ],\n        \"semantic_type\": \"\",\n        \"description\": \"\"\n      }\n    },\n    {\n      \"column\": 9,\n      \"properties\": {\n        \"dtype\": \"number\",\n        \"std\": 0.14880587361449027,\n        \"min\": 0.22,\n        \"max\": 2.0,\n        \"num_unique_values\": 111,\n        \"samples\": [\n          1.11,\n          1.56,\n          0.46\n        ],\n        \"semantic_type\": \"\",\n        \"description\": \"\"\n      }\n    },\n    {\n      \"column\": 10,\n      \"properties\": {\n        \"dtype\": \"number\",\n        \"std\": 1.192711748870993,\n        \"min\": 8.0,\n        \"max\": 14.9,\n        \"num_unique_values\": 111,\n        \"samples\": [\n          10.9333333333333,\n          9.7,\n          10.5\n        ],\n        \"semantic_type\": \"\",\n        \"description\": \"\"\n      }\n    },\n    {\n      \"column\": 11,\n      \"properties\": {\n        \"dtype\": \"number\",\n        \"std\": 0,\n        \"min\": 3,\n        \"max\": 9,\n        \"num_unique_values\": 7,\n        \"samples\": [\n          5,\n          6,\n          3\n        ],\n        \"semantic_type\": \"\",\n        \"description\": \"\"\n      }\n    },\n    {\n      \"column\": 12,\n      \"properties\": {\n        \"dtype\": \"number\",\n        \"std\": 0,\n        \"min\": 0,\n        \"max\": 1,\n        \"num_unique_values\": 2,\n        \"samples\": [\n          0,\n          1\n        ],\n        \"semantic_type\": \"\",\n        \"description\": \"\"\n      }\n    }\n  ]\n}"
            }
          },
          "metadata": {},
          "execution_count": 5
        }
      ]
    },
    {
      "cell_type": "code",
      "source": [
        "X = df.drop('Class', axis=1)\n",
        "y = df['Class']\n",
        "\n",
        "scaler = StandardScaler()\n",
        "X_scaled = scaler.fit_transform(X)\n",
        "\n",
        "X_train, X_test, y_train, y_test = train_test_split(X_scaled, y, test_size=0.2, random_state=123)\n",
        "\n",
        "model = Sequential()\n",
        "model.add(Input(shape=(12,)))\n",
        "model.add(Dense(30, activation='relu'))\n",
        "model.add(Dense(12, activation='relu'))\n",
        "model.add(Dense(8, activation='relu'))\n",
        "model.add(Dense(1, activation='sigmoid'))\n",
        "\n",
        "model.compile(optimizer='adam',\n",
        "              loss='categorical_crossentropy',\n",
        "              metrics=['accuracy'])\n",
        "\n",
        "model.fit(X_train, y_train, epochs=100, batch_size=32)\n",
        "\n",
        "test_loss, test_acc = model.evaluate(X_test, y_test)\n",
        "print('Test accuracy:', test_acc)"
      ],
      "metadata": {
        "colab": {
          "base_uri": "https://localhost:8080/",
          "height": 372
        },
        "id": "dxCYjpVsjHiu",
        "outputId": "e4be595c-9219-4bd0-ebdd-d60f99d5fabc"
      },
      "execution_count": null,
      "outputs": [
        {
          "output_type": "error",
          "ename": "KeyError",
          "evalue": "\"['Class'] not found in axis\"",
          "traceback": [
            "\u001b[0;31m---------------------------------------------------------------------------\u001b[0m",
            "\u001b[0;31mKeyError\u001b[0m                                  Traceback (most recent call last)",
            "\u001b[0;32m<ipython-input-4-a997c095be52>\u001b[0m in \u001b[0;36m<cell line: 1>\u001b[0;34m()\u001b[0m\n\u001b[0;32m----> 1\u001b[0;31m \u001b[0mX\u001b[0m \u001b[0;34m=\u001b[0m \u001b[0mdf\u001b[0m\u001b[0;34m.\u001b[0m\u001b[0mdrop\u001b[0m\u001b[0;34m(\u001b[0m\u001b[0;34m'Class'\u001b[0m\u001b[0;34m,\u001b[0m \u001b[0maxis\u001b[0m\u001b[0;34m=\u001b[0m\u001b[0;36m1\u001b[0m\u001b[0;34m)\u001b[0m\u001b[0;34m\u001b[0m\u001b[0;34m\u001b[0m\u001b[0m\n\u001b[0m\u001b[1;32m      2\u001b[0m \u001b[0my\u001b[0m \u001b[0;34m=\u001b[0m \u001b[0mdf\u001b[0m\u001b[0;34m[\u001b[0m\u001b[0;34m'Class'\u001b[0m\u001b[0;34m]\u001b[0m\u001b[0;34m\u001b[0m\u001b[0;34m\u001b[0m\u001b[0m\n\u001b[1;32m      3\u001b[0m \u001b[0;34m\u001b[0m\u001b[0m\n\u001b[1;32m      4\u001b[0m \u001b[0mscaler\u001b[0m \u001b[0;34m=\u001b[0m \u001b[0mStandardScaler\u001b[0m\u001b[0;34m(\u001b[0m\u001b[0;34m)\u001b[0m\u001b[0;34m\u001b[0m\u001b[0;34m\u001b[0m\u001b[0m\n\u001b[1;32m      5\u001b[0m \u001b[0mX_scaled\u001b[0m \u001b[0;34m=\u001b[0m \u001b[0mscaler\u001b[0m\u001b[0;34m.\u001b[0m\u001b[0mfit_transform\u001b[0m\u001b[0;34m(\u001b[0m\u001b[0mX\u001b[0m\u001b[0;34m)\u001b[0m\u001b[0;34m\u001b[0m\u001b[0;34m\u001b[0m\u001b[0m\n",
            "\u001b[0;32m/usr/local/lib/python3.10/dist-packages/pandas/core/frame.py\u001b[0m in \u001b[0;36mdrop\u001b[0;34m(self, labels, axis, index, columns, level, inplace, errors)\u001b[0m\n\u001b[1;32m   5342\u001b[0m                 \u001b[0mweight\u001b[0m  \u001b[0;36m1.0\u001b[0m     \u001b[0;36m0.8\u001b[0m\u001b[0;34m\u001b[0m\u001b[0;34m\u001b[0m\u001b[0m\n\u001b[1;32m   5343\u001b[0m         \"\"\"\n\u001b[0;32m-> 5344\u001b[0;31m         return super().drop(\n\u001b[0m\u001b[1;32m   5345\u001b[0m             \u001b[0mlabels\u001b[0m\u001b[0;34m=\u001b[0m\u001b[0mlabels\u001b[0m\u001b[0;34m,\u001b[0m\u001b[0;34m\u001b[0m\u001b[0;34m\u001b[0m\u001b[0m\n\u001b[1;32m   5346\u001b[0m             \u001b[0maxis\u001b[0m\u001b[0;34m=\u001b[0m\u001b[0maxis\u001b[0m\u001b[0;34m,\u001b[0m\u001b[0;34m\u001b[0m\u001b[0;34m\u001b[0m\u001b[0m\n",
            "\u001b[0;32m/usr/local/lib/python3.10/dist-packages/pandas/core/generic.py\u001b[0m in \u001b[0;36mdrop\u001b[0;34m(self, labels, axis, index, columns, level, inplace, errors)\u001b[0m\n\u001b[1;32m   4709\u001b[0m         \u001b[0;32mfor\u001b[0m \u001b[0maxis\u001b[0m\u001b[0;34m,\u001b[0m \u001b[0mlabels\u001b[0m \u001b[0;32min\u001b[0m \u001b[0maxes\u001b[0m\u001b[0;34m.\u001b[0m\u001b[0mitems\u001b[0m\u001b[0;34m(\u001b[0m\u001b[0;34m)\u001b[0m\u001b[0;34m:\u001b[0m\u001b[0;34m\u001b[0m\u001b[0;34m\u001b[0m\u001b[0m\n\u001b[1;32m   4710\u001b[0m             \u001b[0;32mif\u001b[0m \u001b[0mlabels\u001b[0m \u001b[0;32mis\u001b[0m \u001b[0;32mnot\u001b[0m \u001b[0;32mNone\u001b[0m\u001b[0;34m:\u001b[0m\u001b[0;34m\u001b[0m\u001b[0;34m\u001b[0m\u001b[0m\n\u001b[0;32m-> 4711\u001b[0;31m                 \u001b[0mobj\u001b[0m \u001b[0;34m=\u001b[0m \u001b[0mobj\u001b[0m\u001b[0;34m.\u001b[0m\u001b[0m_drop_axis\u001b[0m\u001b[0;34m(\u001b[0m\u001b[0mlabels\u001b[0m\u001b[0;34m,\u001b[0m \u001b[0maxis\u001b[0m\u001b[0;34m,\u001b[0m \u001b[0mlevel\u001b[0m\u001b[0;34m=\u001b[0m\u001b[0mlevel\u001b[0m\u001b[0;34m,\u001b[0m \u001b[0merrors\u001b[0m\u001b[0;34m=\u001b[0m\u001b[0merrors\u001b[0m\u001b[0;34m)\u001b[0m\u001b[0;34m\u001b[0m\u001b[0;34m\u001b[0m\u001b[0m\n\u001b[0m\u001b[1;32m   4712\u001b[0m \u001b[0;34m\u001b[0m\u001b[0m\n\u001b[1;32m   4713\u001b[0m         \u001b[0;32mif\u001b[0m \u001b[0minplace\u001b[0m\u001b[0;34m:\u001b[0m\u001b[0;34m\u001b[0m\u001b[0;34m\u001b[0m\u001b[0m\n",
            "\u001b[0;32m/usr/local/lib/python3.10/dist-packages/pandas/core/generic.py\u001b[0m in \u001b[0;36m_drop_axis\u001b[0;34m(self, labels, axis, level, errors, only_slice)\u001b[0m\n\u001b[1;32m   4751\u001b[0m                 \u001b[0mnew_axis\u001b[0m \u001b[0;34m=\u001b[0m \u001b[0maxis\u001b[0m\u001b[0;34m.\u001b[0m\u001b[0mdrop\u001b[0m\u001b[0;34m(\u001b[0m\u001b[0mlabels\u001b[0m\u001b[0;34m,\u001b[0m \u001b[0mlevel\u001b[0m\u001b[0;34m=\u001b[0m\u001b[0mlevel\u001b[0m\u001b[0;34m,\u001b[0m \u001b[0merrors\u001b[0m\u001b[0;34m=\u001b[0m\u001b[0merrors\u001b[0m\u001b[0;34m)\u001b[0m\u001b[0;34m\u001b[0m\u001b[0;34m\u001b[0m\u001b[0m\n\u001b[1;32m   4752\u001b[0m             \u001b[0;32melse\u001b[0m\u001b[0;34m:\u001b[0m\u001b[0;34m\u001b[0m\u001b[0;34m\u001b[0m\u001b[0m\n\u001b[0;32m-> 4753\u001b[0;31m                 \u001b[0mnew_axis\u001b[0m \u001b[0;34m=\u001b[0m \u001b[0maxis\u001b[0m\u001b[0;34m.\u001b[0m\u001b[0mdrop\u001b[0m\u001b[0;34m(\u001b[0m\u001b[0mlabels\u001b[0m\u001b[0;34m,\u001b[0m \u001b[0merrors\u001b[0m\u001b[0;34m=\u001b[0m\u001b[0merrors\u001b[0m\u001b[0;34m)\u001b[0m\u001b[0;34m\u001b[0m\u001b[0;34m\u001b[0m\u001b[0m\n\u001b[0m\u001b[1;32m   4754\u001b[0m             \u001b[0mindexer\u001b[0m \u001b[0;34m=\u001b[0m \u001b[0maxis\u001b[0m\u001b[0;34m.\u001b[0m\u001b[0mget_indexer\u001b[0m\u001b[0;34m(\u001b[0m\u001b[0mnew_axis\u001b[0m\u001b[0;34m)\u001b[0m\u001b[0;34m\u001b[0m\u001b[0;34m\u001b[0m\u001b[0m\n\u001b[1;32m   4755\u001b[0m \u001b[0;34m\u001b[0m\u001b[0m\n",
            "\u001b[0;32m/usr/local/lib/python3.10/dist-packages/pandas/core/indexes/base.py\u001b[0m in \u001b[0;36mdrop\u001b[0;34m(self, labels, errors)\u001b[0m\n\u001b[1;32m   6998\u001b[0m         \u001b[0;32mif\u001b[0m \u001b[0mmask\u001b[0m\u001b[0;34m.\u001b[0m\u001b[0many\u001b[0m\u001b[0;34m(\u001b[0m\u001b[0;34m)\u001b[0m\u001b[0;34m:\u001b[0m\u001b[0;34m\u001b[0m\u001b[0;34m\u001b[0m\u001b[0m\n\u001b[1;32m   6999\u001b[0m             \u001b[0;32mif\u001b[0m \u001b[0merrors\u001b[0m \u001b[0;34m!=\u001b[0m \u001b[0;34m\"ignore\"\u001b[0m\u001b[0;34m:\u001b[0m\u001b[0;34m\u001b[0m\u001b[0;34m\u001b[0m\u001b[0m\n\u001b[0;32m-> 7000\u001b[0;31m                 \u001b[0;32mraise\u001b[0m \u001b[0mKeyError\u001b[0m\u001b[0;34m(\u001b[0m\u001b[0;34mf\"{labels[mask].tolist()} not found in axis\"\u001b[0m\u001b[0;34m)\u001b[0m\u001b[0;34m\u001b[0m\u001b[0;34m\u001b[0m\u001b[0m\n\u001b[0m\u001b[1;32m   7001\u001b[0m             \u001b[0mindexer\u001b[0m \u001b[0;34m=\u001b[0m \u001b[0mindexer\u001b[0m\u001b[0;34m[\u001b[0m\u001b[0;34m~\u001b[0m\u001b[0mmask\u001b[0m\u001b[0;34m]\u001b[0m\u001b[0;34m\u001b[0m\u001b[0;34m\u001b[0m\u001b[0m\n\u001b[1;32m   7002\u001b[0m         \u001b[0;32mreturn\u001b[0m \u001b[0mself\u001b[0m\u001b[0;34m.\u001b[0m\u001b[0mdelete\u001b[0m\u001b[0;34m(\u001b[0m\u001b[0mindexer\u001b[0m\u001b[0;34m)\u001b[0m\u001b[0;34m\u001b[0m\u001b[0;34m\u001b[0m\u001b[0m\n",
            "\u001b[0;31mKeyError\u001b[0m: \"['Class'] not found in axis\""
          ]
        }
      ]
    },
    {
      "cell_type": "code",
      "source": [
        "# EX\n",
        "\n",
        "import tensorflow as tf\n",
        "from tensorflow.keras.models import Sequential\n",
        "from tensorflow.keras.layers import Dense , Input\n",
        "from sklearn.model_selection import train_test_split\n",
        "from sklearn.preprocessing import StandardScaler\n",
        "import pandas as pd\n",
        "import numpy as np\n",
        "import random as python_random\n",
        "\n",
        "# 와인의 속성을 X로 와인의 분류를 y로 저장\n",
        "X = df.iloc[:,0:12]\n",
        "y = df.iloc[:,12]\n",
        "\n",
        "# 학습셋과 테스트셋으로 나눔\n",
        "X_train, X_test, y_train, y_test = train_test_split(X, y, test_size=0.2, shuffle=True, random_state=0)\n",
        "\n",
        "model = Sequential()\n",
        "\n",
        "model.add(Input(shape=(12,)))\n",
        "model.add(Dense(30, activation='relu'))\n",
        "model.add(Dense(12, activation='relu'))\n",
        "model.add(Dense(8, activation='relu'))\n",
        "model.add(Dense(1, activation='sigmoid'))\n",
        "\n",
        "model.compile(optimizer='adam',\n",
        "              loss='binary_crossentropy',\n",
        "              metrics=['accuracy'])\n",
        "\n",
        "history = model.fit(X_train, y_train, epochs=100, batch_size=500, verbose=0) # 검증셋 0.8 x 0.25 = 0.2\n",
        "\n",
        "test_loss, test_acc = model.evaluate(X_test, y_test)\n",
        "print('Test accuracy:', test_acc)\n",
        "\n"
      ],
      "metadata": {
        "colab": {
          "base_uri": "https://localhost:8080/"
        },
        "id": "ER_Y17kiltGh",
        "outputId": "ea39773a-1f37-40e9-d700-61a97e864381"
      },
      "execution_count": null,
      "outputs": [
        {
          "output_type": "stream",
          "name": "stdout",
          "text": [
            "\u001b[1m41/41\u001b[0m \u001b[32m━━━━━━━━━━━━━━━━━━━━\u001b[0m\u001b[37m\u001b[0m \u001b[1m0s\u001b[0m 2ms/step - accuracy: 0.9638 - loss: 0.0933\n",
            "Test accuracy: 0.9646154046058655\n"
          ]
        }
      ]
    },
    {
      "cell_type": "code",
      "source": [
        "model.summary()"
      ],
      "metadata": {
        "colab": {
          "base_uri": "https://localhost:8080/",
          "height": 279
        },
        "id": "DnJtLB7GoarY",
        "outputId": "f28c1cdd-1015-4a43-886e-498946919a0d"
      },
      "execution_count": null,
      "outputs": [
        {
          "output_type": "display_data",
          "data": {
            "text/plain": [
              "\u001b[1mModel: \"sequential_4\"\u001b[0m\n"
            ],
            "text/html": [
              "<pre style=\"white-space:pre;overflow-x:auto;line-height:normal;font-family:Menlo,'DejaVu Sans Mono',consolas,'Courier New',monospace\"><span style=\"font-weight: bold\">Model: \"sequential_4\"</span>\n",
              "</pre>\n"
            ]
          },
          "metadata": {}
        },
        {
          "output_type": "display_data",
          "data": {
            "text/plain": [
              "┏━━━━━━━━━━━━━━━━━━━━━━━━━━━━━━━━━━━━━━┳━━━━━━━━━━━━━━━━━━━━━━━━━━━━━┳━━━━━━━━━━━━━━━━━┓\n",
              "┃\u001b[1m \u001b[0m\u001b[1mLayer (type)                        \u001b[0m\u001b[1m \u001b[0m┃\u001b[1m \u001b[0m\u001b[1mOutput Shape               \u001b[0m\u001b[1m \u001b[0m┃\u001b[1m \u001b[0m\u001b[1m        Param #\u001b[0m\u001b[1m \u001b[0m┃\n",
              "┡━━━━━━━━━━━━━━━━━━━━━━━━━━━━━━━━━━━━━━╇━━━━━━━━━━━━━━━━━━━━━━━━━━━━━╇━━━━━━━━━━━━━━━━━┩\n",
              "│ dense_16 (\u001b[38;5;33mDense\u001b[0m)                     │ (\u001b[38;5;45mNone\u001b[0m, \u001b[38;5;34m30\u001b[0m)                  │             \u001b[38;5;34m390\u001b[0m │\n",
              "├──────────────────────────────────────┼─────────────────────────────┼─────────────────┤\n",
              "│ dense_17 (\u001b[38;5;33mDense\u001b[0m)                     │ (\u001b[38;5;45mNone\u001b[0m, \u001b[38;5;34m12\u001b[0m)                  │             \u001b[38;5;34m372\u001b[0m │\n",
              "├──────────────────────────────────────┼─────────────────────────────┼─────────────────┤\n",
              "│ dense_18 (\u001b[38;5;33mDense\u001b[0m)                     │ (\u001b[38;5;45mNone\u001b[0m, \u001b[38;5;34m8\u001b[0m)                   │             \u001b[38;5;34m104\u001b[0m │\n",
              "├──────────────────────────────────────┼─────────────────────────────┼─────────────────┤\n",
              "│ dense_19 (\u001b[38;5;33mDense\u001b[0m)                     │ (\u001b[38;5;45mNone\u001b[0m, \u001b[38;5;34m1\u001b[0m)                   │               \u001b[38;5;34m9\u001b[0m │\n",
              "└──────────────────────────────────────┴─────────────────────────────┴─────────────────┘\n"
            ],
            "text/html": [
              "<pre style=\"white-space:pre;overflow-x:auto;line-height:normal;font-family:Menlo,'DejaVu Sans Mono',consolas,'Courier New',monospace\">┏━━━━━━━━━━━━━━━━━━━━━━━━━━━━━━━━━━━━━━┳━━━━━━━━━━━━━━━━━━━━━━━━━━━━━┳━━━━━━━━━━━━━━━━━┓\n",
              "┃<span style=\"font-weight: bold\"> Layer (type)                         </span>┃<span style=\"font-weight: bold\"> Output Shape                </span>┃<span style=\"font-weight: bold\">         Param # </span>┃\n",
              "┡━━━━━━━━━━━━━━━━━━━━━━━━━━━━━━━━━━━━━━╇━━━━━━━━━━━━━━━━━━━━━━━━━━━━━╇━━━━━━━━━━━━━━━━━┩\n",
              "│ dense_16 (<span style=\"color: #0087ff; text-decoration-color: #0087ff\">Dense</span>)                     │ (<span style=\"color: #00d7ff; text-decoration-color: #00d7ff\">None</span>, <span style=\"color: #00af00; text-decoration-color: #00af00\">30</span>)                  │             <span style=\"color: #00af00; text-decoration-color: #00af00\">390</span> │\n",
              "├──────────────────────────────────────┼─────────────────────────────┼─────────────────┤\n",
              "│ dense_17 (<span style=\"color: #0087ff; text-decoration-color: #0087ff\">Dense</span>)                     │ (<span style=\"color: #00d7ff; text-decoration-color: #00d7ff\">None</span>, <span style=\"color: #00af00; text-decoration-color: #00af00\">12</span>)                  │             <span style=\"color: #00af00; text-decoration-color: #00af00\">372</span> │\n",
              "├──────────────────────────────────────┼─────────────────────────────┼─────────────────┤\n",
              "│ dense_18 (<span style=\"color: #0087ff; text-decoration-color: #0087ff\">Dense</span>)                     │ (<span style=\"color: #00d7ff; text-decoration-color: #00d7ff\">None</span>, <span style=\"color: #00af00; text-decoration-color: #00af00\">8</span>)                   │             <span style=\"color: #00af00; text-decoration-color: #00af00\">104</span> │\n",
              "├──────────────────────────────────────┼─────────────────────────────┼─────────────────┤\n",
              "│ dense_19 (<span style=\"color: #0087ff; text-decoration-color: #0087ff\">Dense</span>)                     │ (<span style=\"color: #00d7ff; text-decoration-color: #00d7ff\">None</span>, <span style=\"color: #00af00; text-decoration-color: #00af00\">1</span>)                   │               <span style=\"color: #00af00; text-decoration-color: #00af00\">9</span> │\n",
              "└──────────────────────────────────────┴─────────────────────────────┴─────────────────┘\n",
              "</pre>\n"
            ]
          },
          "metadata": {}
        },
        {
          "output_type": "display_data",
          "data": {
            "text/plain": [
              "\u001b[1m Total params: \u001b[0m\u001b[38;5;34m2,627\u001b[0m (10.27 KB)\n"
            ],
            "text/html": [
              "<pre style=\"white-space:pre;overflow-x:auto;line-height:normal;font-family:Menlo,'DejaVu Sans Mono',consolas,'Courier New',monospace\"><span style=\"font-weight: bold\"> Total params: </span><span style=\"color: #00af00; text-decoration-color: #00af00\">2,627</span> (10.27 KB)\n",
              "</pre>\n"
            ]
          },
          "metadata": {}
        },
        {
          "output_type": "display_data",
          "data": {
            "text/plain": [
              "\u001b[1m Trainable params: \u001b[0m\u001b[38;5;34m875\u001b[0m (3.42 KB)\n"
            ],
            "text/html": [
              "<pre style=\"white-space:pre;overflow-x:auto;line-height:normal;font-family:Menlo,'DejaVu Sans Mono',consolas,'Courier New',monospace\"><span style=\"font-weight: bold\"> Trainable params: </span><span style=\"color: #00af00; text-decoration-color: #00af00\">875</span> (3.42 KB)\n",
              "</pre>\n"
            ]
          },
          "metadata": {}
        },
        {
          "output_type": "display_data",
          "data": {
            "text/plain": [
              "\u001b[1m Non-trainable params: \u001b[0m\u001b[38;5;34m0\u001b[0m (0.00 B)\n"
            ],
            "text/html": [
              "<pre style=\"white-space:pre;overflow-x:auto;line-height:normal;font-family:Menlo,'DejaVu Sans Mono',consolas,'Courier New',monospace\"><span style=\"font-weight: bold\"> Non-trainable params: </span><span style=\"color: #00af00; text-decoration-color: #00af00\">0</span> (0.00 B)\n",
              "</pre>\n"
            ]
          },
          "metadata": {}
        },
        {
          "output_type": "display_data",
          "data": {
            "text/plain": [
              "\u001b[1m Optimizer params: \u001b[0m\u001b[38;5;34m1,752\u001b[0m (6.85 KB)\n"
            ],
            "text/html": [
              "<pre style=\"white-space:pre;overflow-x:auto;line-height:normal;font-family:Menlo,'DejaVu Sans Mono',consolas,'Courier New',monospace\"><span style=\"font-weight: bold\"> Optimizer params: </span><span style=\"color: #00af00; text-decoration-color: #00af00\">1,752</span> (6.85 KB)\n",
              "</pre>\n"
            ]
          },
          "metadata": {}
        }
      ]
    },
    {
      "cell_type": "markdown",
      "source": [
        ".keras 파일\n",
        "- 기본적으로 TensorFlow의 SavedModel 형식을 따릅니다. 이는 TensorFlow의 공식 모델 저장 형식으로, 모델 아키텍처, 가중치, 그리고 훈련 구성(옵티마이저 상태 등)을 포함할 수 있습니다."
      ],
      "metadata": {
        "id": "tHjJTAL4og3G"
      }
    },
    {
      "cell_type": "code",
      "source": [
        "from tensorflow.keras.callbacks import ModelCheckpoint\n",
        "# 모델 저장의 조건을 설정\n",
        "\n",
        "modelpath='/content/drive/MyDrive/kdt_240424/M6_딥러닝/dataset/model/all/{epoch:02d}-{val_accuracy:.4f}.keras'\n",
        "checkpointer = ModelCheckpoint(filepath=modelpath, verbose=1)\n",
        "\n",
        "# 모델 실행\n",
        "history=model.fit(X_train, y_train, epochs=50, batch_size=500, validation_split=0.25, verbose=0, callbacks=[checkpointer])"
      ],
      "metadata": {
        "colab": {
          "base_uri": "https://localhost:8080/"
        },
        "id": "P5UFaj-xof13",
        "outputId": "5416e2e8-254c-4832-cd6f-3fc4c7abe6e8"
      },
      "execution_count": null,
      "outputs": [
        {
          "output_type": "stream",
          "name": "stdout",
          "text": [
            "\n",
            "Epoch 1: saving model to /content/drive/MyDrive/kdt_240424/M6_딥러닝/dataset/model/all/01-0.9838.keras\n",
            "\n",
            "Epoch 2: saving model to /content/drive/MyDrive/kdt_240424/M6_딥러닝/dataset/model/all/02-0.9838.keras\n",
            "\n",
            "Epoch 3: saving model to /content/drive/MyDrive/kdt_240424/M6_딥러닝/dataset/model/all/03-0.9838.keras\n",
            "\n",
            "Epoch 4: saving model to /content/drive/MyDrive/kdt_240424/M6_딥러닝/dataset/model/all/04-0.9838.keras\n",
            "\n",
            "Epoch 5: saving model to /content/drive/MyDrive/kdt_240424/M6_딥러닝/dataset/model/all/05-0.9838.keras\n",
            "\n",
            "Epoch 6: saving model to /content/drive/MyDrive/kdt_240424/M6_딥러닝/dataset/model/all/06-0.9838.keras\n",
            "\n",
            "Epoch 7: saving model to /content/drive/MyDrive/kdt_240424/M6_딥러닝/dataset/model/all/07-0.9838.keras\n",
            "\n",
            "Epoch 8: saving model to /content/drive/MyDrive/kdt_240424/M6_딥러닝/dataset/model/all/08-0.9838.keras\n",
            "\n",
            "Epoch 9: saving model to /content/drive/MyDrive/kdt_240424/M6_딥러닝/dataset/model/all/09-0.9838.keras\n",
            "\n",
            "Epoch 10: saving model to /content/drive/MyDrive/kdt_240424/M6_딥러닝/dataset/model/all/10-0.9838.keras\n",
            "\n",
            "Epoch 11: saving model to /content/drive/MyDrive/kdt_240424/M6_딥러닝/dataset/model/all/11-0.9838.keras\n",
            "\n",
            "Epoch 12: saving model to /content/drive/MyDrive/kdt_240424/M6_딥러닝/dataset/model/all/12-0.9838.keras\n",
            "\n",
            "Epoch 13: saving model to /content/drive/MyDrive/kdt_240424/M6_딥러닝/dataset/model/all/13-0.9838.keras\n",
            "\n",
            "Epoch 14: saving model to /content/drive/MyDrive/kdt_240424/M6_딥러닝/dataset/model/all/14-0.9838.keras\n",
            "\n",
            "Epoch 15: saving model to /content/drive/MyDrive/kdt_240424/M6_딥러닝/dataset/model/all/15-0.9838.keras\n",
            "\n",
            "Epoch 16: saving model to /content/drive/MyDrive/kdt_240424/M6_딥러닝/dataset/model/all/16-0.9838.keras\n",
            "\n",
            "Epoch 17: saving model to /content/drive/MyDrive/kdt_240424/M6_딥러닝/dataset/model/all/17-0.9838.keras\n",
            "\n",
            "Epoch 18: saving model to /content/drive/MyDrive/kdt_240424/M6_딥러닝/dataset/model/all/18-0.9838.keras\n",
            "\n",
            "Epoch 19: saving model to /content/drive/MyDrive/kdt_240424/M6_딥러닝/dataset/model/all/19-0.9838.keras\n",
            "\n",
            "Epoch 20: saving model to /content/drive/MyDrive/kdt_240424/M6_딥러닝/dataset/model/all/20-0.9838.keras\n",
            "\n",
            "Epoch 21: saving model to /content/drive/MyDrive/kdt_240424/M6_딥러닝/dataset/model/all/21-0.9838.keras\n",
            "\n",
            "Epoch 22: saving model to /content/drive/MyDrive/kdt_240424/M6_딥러닝/dataset/model/all/22-0.9838.keras\n",
            "\n",
            "Epoch 23: saving model to /content/drive/MyDrive/kdt_240424/M6_딥러닝/dataset/model/all/23-0.9838.keras\n",
            "\n",
            "Epoch 24: saving model to /content/drive/MyDrive/kdt_240424/M6_딥러닝/dataset/model/all/24-0.9838.keras\n",
            "\n",
            "Epoch 25: saving model to /content/drive/MyDrive/kdt_240424/M6_딥러닝/dataset/model/all/25-0.9838.keras\n",
            "\n",
            "Epoch 26: saving model to /content/drive/MyDrive/kdt_240424/M6_딥러닝/dataset/model/all/26-0.9838.keras\n",
            "\n",
            "Epoch 27: saving model to /content/drive/MyDrive/kdt_240424/M6_딥러닝/dataset/model/all/27-0.9838.keras\n",
            "\n",
            "Epoch 28: saving model to /content/drive/MyDrive/kdt_240424/M6_딥러닝/dataset/model/all/28-0.9838.keras\n",
            "\n",
            "Epoch 29: saving model to /content/drive/MyDrive/kdt_240424/M6_딥러닝/dataset/model/all/29-0.9838.keras\n",
            "\n",
            "Epoch 30: saving model to /content/drive/MyDrive/kdt_240424/M6_딥러닝/dataset/model/all/30-0.9838.keras\n",
            "\n",
            "Epoch 31: saving model to /content/drive/MyDrive/kdt_240424/M6_딥러닝/dataset/model/all/31-0.9838.keras\n",
            "\n",
            "Epoch 32: saving model to /content/drive/MyDrive/kdt_240424/M6_딥러닝/dataset/model/all/32-0.9838.keras\n",
            "\n",
            "Epoch 33: saving model to /content/drive/MyDrive/kdt_240424/M6_딥러닝/dataset/model/all/33-0.9838.keras\n",
            "\n",
            "Epoch 34: saving model to /content/drive/MyDrive/kdt_240424/M6_딥러닝/dataset/model/all/34-0.9838.keras\n",
            "\n",
            "Epoch 35: saving model to /content/drive/MyDrive/kdt_240424/M6_딥러닝/dataset/model/all/35-0.9838.keras\n",
            "\n",
            "Epoch 36: saving model to /content/drive/MyDrive/kdt_240424/M6_딥러닝/dataset/model/all/36-0.9838.keras\n",
            "\n",
            "Epoch 37: saving model to /content/drive/MyDrive/kdt_240424/M6_딥러닝/dataset/model/all/37-0.9838.keras\n",
            "\n",
            "Epoch 38: saving model to /content/drive/MyDrive/kdt_240424/M6_딥러닝/dataset/model/all/38-0.9838.keras\n",
            "\n",
            "Epoch 39: saving model to /content/drive/MyDrive/kdt_240424/M6_딥러닝/dataset/model/all/39-0.9838.keras\n",
            "\n",
            "Epoch 40: saving model to /content/drive/MyDrive/kdt_240424/M6_딥러닝/dataset/model/all/40-0.9838.keras\n",
            "\n",
            "Epoch 41: saving model to /content/drive/MyDrive/kdt_240424/M6_딥러닝/dataset/model/all/41-0.9838.keras\n",
            "\n",
            "Epoch 42: saving model to /content/drive/MyDrive/kdt_240424/M6_딥러닝/dataset/model/all/42-0.9838.keras\n",
            "\n",
            "Epoch 43: saving model to /content/drive/MyDrive/kdt_240424/M6_딥러닝/dataset/model/all/43-0.9838.keras\n",
            "\n",
            "Epoch 44: saving model to /content/drive/MyDrive/kdt_240424/M6_딥러닝/dataset/model/all/44-0.9838.keras\n",
            "\n",
            "Epoch 45: saving model to /content/drive/MyDrive/kdt_240424/M6_딥러닝/dataset/model/all/45-0.9838.keras\n",
            "\n",
            "Epoch 46: saving model to /content/drive/MyDrive/kdt_240424/M6_딥러닝/dataset/model/all/46-0.9838.keras\n",
            "\n",
            "Epoch 47: saving model to /content/drive/MyDrive/kdt_240424/M6_딥러닝/dataset/model/all/47-0.9838.keras\n",
            "\n",
            "Epoch 48: saving model to /content/drive/MyDrive/kdt_240424/M6_딥러닝/dataset/model/all/48-0.9838.keras\n",
            "\n",
            "Epoch 49: saving model to /content/drive/MyDrive/kdt_240424/M6_딥러닝/dataset/model/all/49-0.9838.keras\n",
            "\n",
            "Epoch 50: saving model to /content/drive/MyDrive/kdt_240424/M6_딥러닝/dataset/model/all/50-0.9838.keras\n"
          ]
        }
      ]
    },
    {
      "cell_type": "code",
      "source": [
        "# 데스트 결과 출력\n",
        "score=model.evaluate(X_test, y_test)\n",
        "print('Test accuracy:', score[1])"
      ],
      "metadata": {
        "colab": {
          "base_uri": "https://localhost:8080/"
        },
        "id": "UmZ9V8dGqWm7",
        "outputId": "4c8eed1e-c01f-4e55-834d-1e408e662ab3"
      },
      "execution_count": null,
      "outputs": [
        {
          "output_type": "stream",
          "name": "stdout",
          "text": [
            "\u001b[1m41/41\u001b[0m \u001b[32m━━━━━━━━━━━━━━━━━━━━\u001b[0m\u001b[37m\u001b[0m \u001b[1m0s\u001b[0m 1ms/step - accuracy: 0.9781 - loss: 0.0714 \n",
            "Test accuracy: 0.9792307615280151\n"
          ]
        }
      ]
    },
    {
      "cell_type": "markdown",
      "source": [
        "History 객체\n",
        "\n",
        "- 신경망 훈련을 위해 Keras 또는 TensorFlow 사용 시 model.fit()과 같은 호출로 훈련 작업을 실행하면 History 객체가 반환. 이 객체에는 연속적인 에포크의 훈련 손실 값과 측정항목 값 기록뿐만 아니라 해당하는 경우 검증 손실 값과 검증 측정항목 값도 포함.\n",
        "- 코드에서 얻은 History 객체의 내용을 보려면 훈련 과정 중에 기록된 측정항목이 포함된 사전인 history 속성에 액세스. 'history.history' 사전의 각 키는 훈련 중에 모니터링된 측정항목에 해당"
      ],
      "metadata": {
        "id": "i6EHL5AiqvNG"
      }
    },
    {
      "cell_type": "code",
      "source": [
        "# 그래프 확인을 위한 긴 학습 (컴퓨터 환경에 따라 시간이 다소 걸림)\n",
        "history=model.fit(X_train, y_train, epochs=1000, batch_size=500, verbose=0, validation_split=0.25)"
      ],
      "metadata": {
        "id": "MkwxrqE4q0Ld"
      },
      "execution_count": null,
      "outputs": []
    },
    {
      "cell_type": "code",
      "source": [
        "print(history.history.keys())\n",
        "\n",
        "print(history.history['loss'])\n",
        "print(history.history['val_loss'])"
      ],
      "metadata": {
        "colab": {
          "base_uri": "https://localhost:8080/"
        },
        "id": "2pahICl9rQ65",
        "outputId": "b934e2c1-633a-40fb-ca6d-f282aa2d6d51"
      },
      "execution_count": null,
      "outputs": [
        {
          "output_type": "stream",
          "name": "stdout",
          "text": [
            "dict_keys(['accuracy', 'loss', 'val_accuracy', 'val_loss'])\n",
            "[0.0534580759704113, 0.053418178111314774, 0.053438130766153336, 0.05342856049537659, 0.05339701473712921, 0.05333928391337395, 0.05334051698446274, 0.05333460867404938, 0.05330630764365196, 0.053318217396736145, 0.0532786101102829, 0.05327163636684418, 0.0532548651099205, 0.05322929471731186, 0.05321779102087021, 0.05323038995265961, 0.05321219190955162, 0.053169697523117065, 0.05321503430604935, 0.053228605538606644, 0.05330389365553856, 0.05322879180312157, 0.053448181599378586, 0.05358463525772095, 0.05375159904360771, 0.05366310477256775, 0.05375794321298599, 0.05380687117576599, 0.05386693403124809, 0.0537797249853611, 0.05372082442045212, 0.05363950505852699, 0.05346972495317459, 0.05334626883268356, 0.053302038460969925, 0.05317682400345802, 0.05303734168410301, 0.05298405513167381, 0.05276584252715111, 0.05268240347504616, 0.05258503928780556, 0.05250486359000206, 0.05247648060321808, 0.05243896320462227, 0.05235801264643669, 0.05231773853302002, 0.05228947475552559, 0.05232939496636391, 0.052312374114990234, 0.052247554063797, 0.052233874797821045, 0.05217446759343147, 0.052165690809488297, 0.05210886895656586, 0.05207505077123642, 0.05209693685173988, 0.05213949829339981, 0.052109260112047195, 0.05205782875418663, 0.05200048163533211, 0.05202393978834152, 0.05197076126933098, 0.05201384797692299, 0.05197681486606598, 0.05190357193350792, 0.05190074071288109, 0.051884524524211884, 0.05186261981725693, 0.05185052007436752, 0.051789626479148865, 0.05181775987148285, 0.05175697058439255, 0.051762886345386505, 0.05174146592617035, 0.05163579434156418, 0.05167734995484352, 0.051705121994018555, 0.05163583159446716, 0.05152361840009689, 0.05155792459845543, 0.05153679475188255, 0.05153706297278404, 0.05148981139063835, 0.05145678669214249, 0.05143660679459572, 0.05141613632440567, 0.051464956253767014, 0.05140046402812004, 0.05144743248820305, 0.051380500197410583, 0.0512712299823761, 0.051296040415763855, 0.051305193454027176, 0.05129522085189819, 0.05125071480870247, 0.05127834901213646, 0.051222063601017, 0.05118495598435402, 0.05119439214468002, 0.05113467201590538, 0.05112893506884575, 0.05110112577676773, 0.051075585186481476, 0.051080621778964996, 0.051094137132167816, 0.051091406494379044, 0.05106664076447487, 0.05102017521858215, 0.05105995386838913, 0.05098439007997513, 0.050964415073394775, 0.05089689791202545, 0.05078597366809845, 0.050843022763729095, 0.05082276090979576, 0.05083450675010681, 0.050792988389730453, 0.05077662318944931, 0.050802502781152725, 0.05076772719621658, 0.0507909432053566, 0.05075778812170029, 0.05073161423206329, 0.05067463591694832, 0.05067553371191025, 0.05065702646970749, 0.050603073090314865, 0.05058887228369713, 0.050570305436849594, 0.05056780204176903, 0.05051327124238014, 0.05047279968857765, 0.050501614809036255, 0.05049211159348488, 0.05048004910349846, 0.050442252308130264, 0.05042330548167229, 0.05037611350417137, 0.050353288650512695, 0.05037687346339226, 0.05033183842897415, 0.05029776692390442, 0.05029551312327385, 0.05027433857321739, 0.05017640069127083, 0.0502084381878376, 0.050201356410980225, 0.05016768351197243, 0.05012473464012146, 0.05012943223118782, 0.050077736377716064, 0.05004765838384628, 0.0500333271920681, 0.04999665170907974, 0.049996353685855865, 0.049935050308704376, 0.0499388687312603, 0.04995371773838997, 0.04987449198961258, 0.049858834594488144, 0.0498114638030529, 0.04978523403406143, 0.04980824515223503, 0.04977315291762352, 0.049749795347452164, 0.04975295439362526, 0.04969410598278046, 0.049725379794836044, 0.0496734157204628, 0.049638744443655014, 0.04965348169207573, 0.049615807831287384, 0.049613822251558304, 0.049583520740270615, 0.0495336577296257, 0.04955512285232544, 0.04949602484703064, 0.049528494477272034, 0.04947267472743988, 0.0493905246257782, 0.04935169219970703, 0.049407653510570526, 0.04937460273504257, 0.049408912658691406, 0.04933170601725578, 0.049302928149700165, 0.049319591373205185, 0.04936741665005684, 0.04927812144160271, 0.0493154339492321, 0.049302831292152405, 0.04927454888820648, 0.04921485856175423, 0.04919332638382912, 0.04913821071386337, 0.0491064079105854, 0.04911899194121361, 0.04910781607031822, 0.0490805059671402, 0.04903716593980789, 0.04901706799864769, 0.049006711691617966, 0.048971690237522125, 0.04896000027656555, 0.04894917458295822, 0.04891540855169296, 0.04892648383975029, 0.04894464835524559, 0.04889844357967377, 0.0488627664744854, 0.048837810754776, 0.04882364720106125, 0.04878796637058258, 0.048778146505355835, 0.04876197874546051, 0.04871799424290657, 0.04873012378811836, 0.04875846952199936, 0.04871358349919319, 0.04861025512218475, 0.04862387105822563, 0.04863270744681358, 0.04859486222267151, 0.048623234033584595, 0.048573050647974014, 0.048603449016809464, 0.04852570965886116, 0.048402849584817886, 0.0484466589987278, 0.04840538278222084, 0.048388849943876266, 0.0483284592628479, 0.04827117547392845, 0.0482659786939621, 0.04823607951402664, 0.04816095530986786, 0.0481305830180645, 0.04817758873105049, 0.04814022406935692, 0.04812224209308624, 0.048092857003211975, 0.048083748668432236, 0.048044800758361816, 0.048019591718912125, 0.04802294820547104, 0.048118021339178085, 0.04803415760397911, 0.04806037247180939, 0.048140861093997955, 0.048107411712408066, 0.04806152358651161, 0.04814758151769638, 0.048180487006902695, 0.04828856885433197, 0.048425789922475815, 0.048604816198349, 0.04865884780883789, 0.04875103384256363, 0.04875403642654419, 0.04902906343340874, 0.04936962574720383, 0.04959189519286156, 0.04960060119628906, 0.04976547136902809, 0.05014285072684288, 0.050671543926000595, 0.05091918259859085, 0.05121244862675667, 0.051622066646814346, 0.05183403939008713, 0.05200927332043648, 0.05291234701871872, 0.05293947458267212, 0.05279898643493652, 0.052873644977808, 0.05328064039349556, 0.05356404185295105, 0.0539223849773407, 0.054527800530195236, 0.05472390726208687, 0.05540895462036133, 0.05557290092110634, 0.056029632687568665, 0.055949773639440536, 0.05601115524768829, 0.055717483162879944, 0.05571931600570679, 0.05525233969092369, 0.054862380027770996, 0.0536109022796154, 0.052478428930044174, 0.05098918080329895, 0.049752362072467804, 0.048762667924165726, 0.047679778188467026, 0.04715638607740402, 0.0465410090982914, 0.04625451937317848, 0.04598873853683472, 0.04582112282514572, 0.0456121563911438, 0.045529644936323166, 0.04570133611559868, 0.045740481466054916, 0.045698847621679306, 0.04557504877448082, 0.04573523998260498, 0.04575338214635849, 0.04611232131719589, 0.04627560079097748, 0.04662426933646202, 0.04692728817462921, 0.04721660539507866, 0.047436170279979706, 0.04772765561938286, 0.047891996800899506, 0.04841543361544609, 0.04818621277809143, 0.04867323860526085, 0.048610445111989975, 0.048765137791633606, 0.04870325326919556, 0.04898080974817276, 0.04861017316579819, 0.04877326637506485, 0.04824448004364967, 0.048480771481990814, 0.04757897928357124, 0.047759316861629486, 0.0467153862118721, 0.046997763216495514, 0.04616143926978111, 0.04648822546005249, 0.04592109099030495, 0.04598017781972885, 0.04553120210766792, 0.04565703868865967, 0.04520847275853157, 0.045338597148656845, 0.04504649341106415, 0.0451427586376667, 0.044914864003658295, 0.04503018781542778, 0.04481787979602814, 0.04498782008886337, 0.044883228838443756, 0.04503112658858299, 0.045066941529512405, 0.04518517479300499, 0.04519093781709671, 0.04534682258963585, 0.04543187841773033, 0.04554542526602745, 0.04563096538186073, 0.04576677829027176, 0.04583166912198067, 0.04608985409140587, 0.04601539671421051, 0.04620485007762909, 0.04624013230204582, 0.046415992081165314, 0.04631410539150238, 0.046656448394060135, 0.04644013196229935, 0.04650171846151352, 0.04633520916104317, 0.04635770618915558, 0.04608426243066788, 0.04616673290729523, 0.045928966253995895, 0.04582802578806877, 0.045601293444633484, 0.045511260628700256, 0.04516709968447685, 0.04503945633769035, 0.04477040842175484, 0.04458639398217201, 0.0443664975464344, 0.04421357065439224, 0.043991491198539734, 0.04387163743376732, 0.04375316947698593, 0.04368433356285095, 0.043589405715465546, 0.043555136770009995, 0.043562762439250946, 0.04356543719768524, 0.04363616183400154, 0.0436021164059639, 0.043774619698524475, 0.0439143106341362, 0.044030193239450455, 0.04428869113326073, 0.04446391761302948, 0.0447237566113472, 0.04494451731443405, 0.04509664699435234, 0.04512161761522293, 0.045451048761606216, 0.045207951217889786, 0.04542617127299309, 0.04516610503196716, 0.04528219625353813, 0.044982314109802246, 0.04518376290798187, 0.04477589949965477, 0.044872794300317764, 0.044602639973163605, 0.044637903571128845, 0.04423646256327629, 0.044250134378671646, 0.043893519788980484, 0.04386281594634056, 0.043642930686473846, 0.04359481483697891, 0.043174296617507935, 0.04323481768369675, 0.04289959743618965, 0.04284360259771347, 0.042662061750888824, 0.04263810068368912, 0.04247746989130974, 0.04260057955980301, 0.04248807206749916, 0.042565274983644485, 0.042475901544094086, 0.04260842874646187, 0.04253719747066498, 0.04255059361457825, 0.04260776937007904, 0.04269273579120636, 0.04262203723192215, 0.042798347771167755, 0.04297056794166565, 0.04303496330976486, 0.04326842352747917, 0.043418820947408676, 0.04348749667406082, 0.043846726417541504, 0.04393763467669487, 0.044126734137535095, 0.044396836310625076, 0.04448666423559189, 0.04467610642313957, 0.044933710247278214, 0.04504407197237015, 0.04560896381735802, 0.045359499752521515, 0.045516565442085266, 0.04502514377236366, 0.04512132331728935, 0.04486672580242157, 0.04469575360417366, 0.04445002228021622, 0.0439860038459301, 0.043606504797935486, 0.04297911003232002, 0.04260333254933357, 0.0419405959546566, 0.041673868894577026, 0.041227150708436966, 0.04096580669283867, 0.0406426340341568, 0.04062860831618309, 0.040398143231868744, 0.04047295078635216, 0.040284112095832825, 0.04026861488819122, 0.04030719771981239, 0.04015257582068443, 0.040295831859111786, 0.04007837548851967, 0.04023889824748039, 0.040018025785684586, 0.04018634930253029, 0.04002170264720917, 0.04008835181593895, 0.03998144716024399, 0.04005897045135498, 0.03991992771625519, 0.039968520402908325, 0.03988764435052872, 0.039910707622766495, 0.039861518889665604, 0.039827387779951096, 0.03982088342308998, 0.03977507725358009, 0.03983788937330246, 0.03972775489091873, 0.039757199585437775, 0.039752304553985596, 0.03969646990299225, 0.039697229862213135, 0.03970654681324959, 0.039622947573661804, 0.039680253714323044, 0.039609700441360474, 0.0396079495549202, 0.039646342396736145, 0.039490215480327606, 0.039578139781951904, 0.03953247144818306, 0.03943079337477684, 0.03952161222696304, 0.0394531711935997, 0.03942492976784706, 0.039364516735076904, 0.03944671154022217, 0.03929579630494118, 0.039488352835178375, 0.03931222856044769, 0.03934116289019585, 0.03933436796069145, 0.03936448320746422, 0.03924199566245079, 0.039429448544979095, 0.039262399077415466, 0.039282627403736115, 0.03938273340463638, 0.039406415075063705, 0.039397187530994415, 0.03943312540650368, 0.03950319439172745, 0.03955337405204773, 0.03957510367035866, 0.03965813294053078, 0.03963736817240715, 0.03971558064222336, 0.039844539016485214, 0.039916202425956726, 0.039987336844205856, 0.04005885124206543, 0.04007111117243767, 0.040281880646944046, 0.04019710049033165, 0.040587954223155975, 0.04052704945206642, 0.0408027358353138, 0.04050780087709427, 0.04045100882649422, 0.04005945101380348, 0.04048527404665947, 0.04017186164855957, 0.03982215002179146, 0.0400824099779129, 0.03959143906831741, 0.03968992829322815, 0.03946773707866669, 0.03932660073041916, 0.039489153772592545, 0.03921666368842125, 0.0391683354973793, 0.03913204371929169, 0.03913750499486923, 0.039145514369010925, 0.03895476087927818, 0.03923776000738144, 0.038985345512628555, 0.039012361317873, 0.039179880172014236, 0.03902338445186615, 0.03929934650659561, 0.03902330994606018, 0.03910578042268753, 0.039138950407505035, 0.038987573236227036, 0.03929596021771431, 0.039143774658441544, 0.0391874797642231, 0.039323847740888596, 0.03903092071413994, 0.03932006284594536, 0.039064209908246994, 0.0391322486102581, 0.038982223719358444, 0.03910554572939873, 0.03899432718753815, 0.03908538445830345, 0.03892681747674942, 0.03906041756272316, 0.038913991302251816, 0.03910680115222931, 0.039086900651454926, 0.038878124207258224, 0.03913075104355812, 0.03885137662291527, 0.038818180561065674, 0.03899264708161354, 0.03870411589741707, 0.03872491046786308, 0.03894970938563347, 0.03871101140975952, 0.03897916153073311, 0.03891286626458168, 0.03865235298871994, 0.03898266330361366, 0.03883875161409378, 0.03868155553936958, 0.038961559534072876, 0.03906746208667755, 0.039331354200839996, 0.039336804300546646, 0.03922414407134056, 0.03904034197330475, 0.03895019367337227, 0.03888661414384842, 0.03886821120977402, 0.038978904485702515, 0.03869873657822609, 0.03892127424478531, 0.038790423423051834, 0.03866301104426384, 0.038897108286619186, 0.038864199072122574, 0.03892847150564194, 0.03882911056280136, 0.03862018883228302, 0.03867384418845177, 0.03865267336368561, 0.03846494480967522, 0.03856907784938812, 0.03860107436776161, 0.038396209478378296, 0.038563404232263565, 0.038533248007297516, 0.03829441964626312, 0.03864673152565956, 0.03853277862071991, 0.038209084421396255, 0.03857286646962166, 0.03849373012781143, 0.038177382200956345, 0.03861411660909653, 0.03834395483136177, 0.03818691521883011, 0.038452956825494766, 0.03865068405866623, 0.03879641741514206, 0.03858849033713341, 0.03859741613268852, 0.038908254355192184, 0.03847697004675865, 0.03828614950180054, 0.03843926265835762, 0.03860355541110039, 0.03812957555055618, 0.03858756273984909, 0.03850085288286209, 0.03809044137597084, 0.03851441293954849, 0.03842177242040634, 0.0381036214530468, 0.03842107206583023, 0.03848361223936081, 0.03876939043402672, 0.038659460842609406, 0.03851787745952606, 0.038871388882398605, 0.03876911476254463, 0.03859635069966316, 0.038492098450660706, 0.03849930688738823, 0.03877965360879898, 0.038811128586530685, 0.038334693759679794, 0.03831051290035248, 0.03827010095119476, 0.037814028561115265, 0.03811424970626831, 0.03803853690624237, 0.037546154111623764, 0.037869326770305634, 0.03803761675953865, 0.037689223885536194, 0.03786954656243324, 0.037581633776426315, 0.037646278738975525, 0.037622012197971344, 0.037326548248529434, 0.037628449499607086, 0.03805144131183624, 0.03730124235153198, 0.037798210978507996, 0.0377582348883152, 0.03721797466278076, 0.03745974600315094, 0.037563666701316833, 0.037053462117910385, 0.03740786015987396, 0.037216536700725555, 0.037148844450712204, 0.037501055747270584, 0.0372137650847435, 0.037275221198797226, 0.03739842772483826, 0.037253011018037796, 0.03718544542789459, 0.03716925531625748, 0.037341684103012085, 0.03721889480948448, 0.037158653140068054, 0.037004414945840836, 0.03721335530281067, 0.03711709380149841, 0.036889057606458664, 0.037148989737033844, 0.03690287098288536, 0.03684469312429428, 0.037259090691804886, 0.0368448905646801, 0.03715153783559799, 0.0368841290473938, 0.03689251095056534, 0.03696679696440697, 0.036747515201568604, 0.036657609045505524, 0.03691596910357475, 0.03677034005522728, 0.03686821460723877, 0.0367249958217144, 0.03695043921470642, 0.03670281171798706, 0.0368073470890522, 0.036769792437553406, 0.03655531257390976, 0.03671066090464592, 0.0366324782371521, 0.03639128804206848, 0.0365552082657814, 0.03672700747847557, 0.036674875766038895, 0.03634624183177948, 0.03662483021616936, 0.03677239641547203, 0.03657286986708641, 0.03642478585243225, 0.036529604345560074, 0.036416273564100266, 0.036602869629859924, 0.03661196306347847, 0.03650948405265808, 0.0363287553191185, 0.036543767899274826, 0.03640242666006088, 0.03640154376626015, 0.03638704866170883, 0.03636455163359642, 0.0363951176404953, 0.03626267611980438, 0.036361537873744965, 0.036393266171216965, 0.03644692525267601, 0.036166250705718994, 0.036035407334566116, 0.036310698837041855, 0.03609064593911171, 0.036465562880039215, 0.03624987229704857, 0.036446988582611084, 0.03592013195157051, 0.03614076226949692, 0.036080315709114075, 0.03614828363060951, 0.03623903915286064, 0.03609427437186241, 0.03605177253484726, 0.036094892770051956, 0.03594548627734184, 0.03595929220318794, 0.035862017422914505, 0.03601592779159546, 0.03595591336488724, 0.036253299564123154, 0.03587443381547928, 0.0359981432557106, 0.03594555705785751, 0.03588490188121796, 0.03582023084163666, 0.03607975319027901, 0.035986147820949554, 0.0359826497733593, 0.03636966645717621, 0.035924267023801804, 0.03626686707139015, 0.036447975784540176, 0.03605925664305687, 0.03614770621061325, 0.03607591614127159, 0.03602603077888489, 0.03611112758517265, 0.03614792227745056, 0.0365716926753521, 0.03645041957497597, 0.036685511469841, 0.036789413541555405, 0.03661887347698212, 0.03630482405424118, 0.03671116754412651, 0.036700066179037094, 0.03662998601794243, 0.03669867664575577, 0.03696008026599884, 0.036699287593364716, 0.03646339476108551, 0.03726044297218323, 0.03705957904458046, 0.03727813437581062, 0.037290628999471664, 0.03727753460407257, 0.03710511326789856, 0.03797382861375809, 0.03774355724453926, 0.038923319429159164, 0.03957603871822357, 0.03987932950258255, 0.040258314460515976, 0.039693959057331085, 0.040426354855298996, 0.03988649696111679, 0.039686474949121475, 0.03913309797644615, 0.03848978504538536, 0.037106819450855255, 0.036936938762664795, 0.03647174313664436, 0.03688140586018562, 0.036743439733982086, 0.0365915521979332, 0.03687359765172005, 0.03702341020107269, 0.0368787944316864, 0.037322524935007095, 0.036521151661872864, 0.0366702675819397, 0.03678842633962631, 0.0371115580201149, 0.037473827600479126, 0.037567753344774246, 0.03692905977368355, 0.037107523530721664, 0.037009548395872116, 0.03672998026013374, 0.037196557968854904, 0.036829136312007904, 0.036602411419153214, 0.03646925836801529, 0.03611079975962639, 0.03652840480208397, 0.03630928322672844, 0.03640023246407509, 0.03626629710197449, 0.03590932860970497, 0.036250047385692596, 0.03634979575872421, 0.03655838966369629, 0.036696139723062515, 0.037038404494524, 0.036268480122089386, 0.03615458682179451, 0.03625408932566643, 0.03659175708889961, 0.03622381016612053, 0.03635960444808006, 0.03628997504711151, 0.03613511472940445, 0.03595111891627312, 0.035781871527433395, 0.03617652505636215, 0.03612420707941055, 0.035778291523456573, 0.03568262606859207, 0.035939864814281464, 0.035626523196697235, 0.03549851477146149, 0.0356527641415596, 0.035630349069833755, 0.03542385622859001, 0.0356048159301281, 0.03561073914170265, 0.03583027049899101, 0.03583826124668121, 0.03605859354138374, 0.03559490293264389, 0.035507023334503174, 0.03590284660458565, 0.03609941154718399, 0.03610057756304741, 0.03572734445333481, 0.03566421940922737, 0.035336002707481384, 0.03545798733830452, 0.0360136553645134, 0.03593691438436508, 0.03557444363832474, 0.03571281582117081, 0.03546870872378349, 0.035702332854270935, 0.03564022481441498, 0.03532121703028679, 0.035376422107219696, 0.03536417335271835, 0.03519980609416962, 0.03582169860601425, 0.03595266491174698, 0.035436514765024185, 0.03522757440805435, 0.035324230790138245, 0.035137321799993515, 0.034978993237018585, 0.03510325029492378, 0.03477264940738678, 0.03469623625278473, 0.03496290370821953, 0.0351310595870018, 0.035335663706064224, 0.035438261926174164, 0.03501588851213455, 0.03484424203634262, 0.03462626785039902, 0.0346975177526474, 0.034570515155792236, 0.0346602238714695, 0.03508744016289711, 0.03520625829696655, 0.03488977253437042, 0.03503195941448212, 0.035517577081918716, 0.034945789724588394, 0.034933626651763916, 0.03487161919474602, 0.034632474184036255, 0.034840941429138184, 0.03495435789227486, 0.03508012741804123, 0.03484262526035309, 0.03510519862174988, 0.035187214612960815, 0.035145193338394165, 0.035354916006326675, 0.03504689782857895, 0.035196639597415924, 0.035189319401979446, 0.035589829087257385, 0.03529435396194458, 0.03581516817212105, 0.03598872944712639, 0.035655464977025986, 0.0357632040977478, 0.03505110368132591, 0.0355488583445549, 0.035651568323373795, 0.035160213708877563, 0.03521524369716644, 0.035123031586408615, 0.03539785370230675, 0.0357273668050766, 0.036012135446071625, 0.03532307222485542, 0.0360025055706501, 0.0359615683555603, 0.03574323654174805, 0.035566460341215134, 0.03489973768591881, 0.03571036085486412, 0.03578024357557297, 0.03542148321866989, 0.0351293720304966, 0.03487222269177437, 0.03509346395730972, 0.03543762117624283, 0.035415127873420715, 0.035346005111932755, 0.034936826676130295, 0.035338543355464935, 0.03554771468043327, 0.034868840128183365, 0.03528200089931488, 0.03522627800703049, 0.03518294170498848, 0.035579219460487366, 0.03518804907798767, 0.035576846450567245, 0.03573182225227356, 0.035206012427806854, 0.03539958968758583, 0.035542845726013184, 0.03554490581154823, 0.03551264479756355, 0.0355491004884243, 0.035294219851493835, 0.03544297814369202, 0.035677552223205566, 0.03626004233956337, 0.03666335344314575, 0.036042340099811554, 0.03590055927634239, 0.035587161779403687, 0.03555414080619812, 0.03575557470321655, 0.036142442375421524]\n",
            "[0.05604277923703194, 0.05612781643867493, 0.056122731417417526, 0.056055016815662384, 0.056078050285577774, 0.05602888762950897, 0.05595532804727554, 0.05598331615328789, 0.056042034178972244, 0.056030530482530594, 0.05604251101613045, 0.05596516653895378, 0.05590055510401726, 0.05605867877602577, 0.05590106174349785, 0.05599972605705261, 0.05609254166483879, 0.05625443160533905, 0.05646958574652672, 0.05664389953017235, 0.057352688163518906, 0.05620970577001572, 0.05702380836009979, 0.056243158876895905, 0.05699057877063751, 0.05705937370657921, 0.05719642713665962, 0.0577055998146534, 0.05765366926789284, 0.05776682496070862, 0.05777212977409363, 0.0577721931040287, 0.05753777176141739, 0.057595137506723404, 0.05681277811527252, 0.057515792548656464, 0.05660581216216087, 0.056809909641742706, 0.056448306888341904, 0.05660528317093849, 0.056067194789648056, 0.05621210113167763, 0.05594392120838165, 0.056116051971912384, 0.05609157681465149, 0.056097447872161865, 0.056178413331508636, 0.0556396059691906, 0.05628332868218422, 0.05606585741043091, 0.05618557706475258, 0.05596284195780754, 0.05602701008319855, 0.056055109947919846, 0.0559702068567276, 0.05628538876771927, 0.056087248027324677, 0.05614304170012474, 0.056211888790130615, 0.05618312582373619, 0.05580069497227669, 0.05626131594181061, 0.05615738034248352, 0.05620284005999565, 0.056148938834667206, 0.05627003684639931, 0.05620669946074486, 0.05630059912800789, 0.05598895624279976, 0.056310512125492096, 0.05608420819044113, 0.056327514350414276, 0.05583953857421875, 0.05603631213307381, 0.0561736635863781, 0.056306205689907074, 0.056069519370794296, 0.055985596030950546, 0.05610335245728493, 0.05587836727499962, 0.05618870630860329, 0.05594379082322121, 0.05596719682216644, 0.05601644515991211, 0.05597500130534172, 0.05626319348812103, 0.0558631494641304, 0.0563194639980793, 0.055959250777959824, 0.05589042231440544, 0.05604606121778488, 0.056082833558321, 0.05621812492609024, 0.0561043955385685, 0.05625813826918602, 0.05594344064593315, 0.0561416931450367, 0.05594194680452347, 0.05617280676960945, 0.05613785237073898, 0.056000154465436935, 0.05602548271417618, 0.05594545230269432, 0.05627325177192688, 0.05619024857878685, 0.056218333542346954, 0.056140974164009094, 0.0563017912209034, 0.055915411561727524, 0.056152090430259705, 0.05583208054304123, 0.05578415095806122, 0.0560128316283226, 0.05607518181204796, 0.05597411096096039, 0.056111808866262436, 0.05601911246776581, 0.0561499148607254, 0.055974483489990234, 0.05615421012043953, 0.05628525838255882, 0.0560602992773056, 0.05599719285964966, 0.056166764348745346, 0.0561293326318264, 0.05606744438409805, 0.05595172569155693, 0.05618871748447418, 0.055985305458307266, 0.05611002817749977, 0.055913202464580536, 0.05605103820562363, 0.055967945605516434, 0.05602843686938286, 0.056150712072849274, 0.056032944470644, 0.05587650090456009, 0.05603501573204994, 0.05610191449522972, 0.05608588084578514, 0.055759500712156296, 0.05610025301575661, 0.05597757175564766, 0.05576132982969284, 0.05608014762401581, 0.05608480051159859, 0.05594514682888985, 0.05598767101764679, 0.05606450140476227, 0.05594029277563095, 0.05599530041217804, 0.05602523684501648, 0.055922981351614, 0.05601133033633232, 0.05589207634329796, 0.05602329596877098, 0.05595272406935692, 0.055920496582984924, 0.056001972407102585, 0.05590948835015297, 0.05578964948654175, 0.05606211721897125, 0.05594645068049431, 0.056033071130514145, 0.055988237261772156, 0.05599430948495865, 0.05605902895331383, 0.05608817934989929, 0.05593857541680336, 0.056120701134204865, 0.05594627931714058, 0.05618162825703621, 0.056049611419439316, 0.05609254166483879, 0.056094106286764145, 0.05609003081917763, 0.05609197914600372, 0.0561969056725502, 0.055874697864055634, 0.05582635849714279, 0.05612650886178017, 0.05595614016056061, 0.05616925656795502, 0.05606022849678993, 0.055782049894332886, 0.056149210780858994, 0.05624620243906975, 0.05619916319847107, 0.05629483610391617, 0.05628340318799019, 0.056357212364673615, 0.05632434040307999, 0.0562874898314476, 0.056260693818330765, 0.05617868900299072, 0.0561947263777256, 0.05619240924715996, 0.05627553537487984, 0.05624157190322876, 0.056160349398851395, 0.056246109306812286, 0.056262124329805374, 0.056152720004320145, 0.05625063553452492, 0.056249454617500305, 0.05621320754289627, 0.05639010667800903, 0.05634850263595581, 0.056411631405353546, 0.05625922605395317, 0.05633160099387169, 0.05634171888232231, 0.05623866245150566, 0.05634602531790733, 0.05628389120101929, 0.05625170096755028, 0.056406691670417786, 0.05640510469675064, 0.05624944716691971, 0.05614849552512169, 0.05631282553076744, 0.05625903233885765, 0.056295692920684814, 0.056286197155714035, 0.056582607328891754, 0.05642656609416008, 0.055871523916721344, 0.05609755963087082, 0.05632007122039795, 0.05603591352701187, 0.05589553341269493, 0.056007690727710724, 0.05586059391498566, 0.055908091366291046, 0.05571771040558815, 0.055729299783706665, 0.055972300469875336, 0.05578900873661041, 0.055918291211128235, 0.0559539869427681, 0.05579332262277603, 0.055951520800590515, 0.05576176568865776, 0.05569037050008774, 0.05597921460866928, 0.05560959875583649, 0.055578701198101044, 0.05599147453904152, 0.055766694247722626, 0.055727701634168625, 0.056152183562517166, 0.05565597116947174, 0.055419545620679855, 0.055711716413497925, 0.05607118457555771, 0.05597803741693497, 0.056064676493406296, 0.056161440908908844, 0.05547916889190674, 0.05540799722075462, 0.05578025057911873, 0.05465937778353691, 0.0537412203848362, 0.05357356742024422, 0.053713906556367874, 0.053604286164045334, 0.05369226261973381, 0.05380114167928696, 0.05357515066862106, 0.05353909358382225, 0.05346938967704773, 0.0534936748445034, 0.053052157163619995, 0.05279558151960373, 0.052307434380054474, 0.0518290139734745, 0.05133279785513878, 0.050932157784700394, 0.050457458943128586, 0.05008190870285034, 0.049628641456365585, 0.049086615443229675, 0.04872877150774002, 0.04837949946522713, 0.048136111348867416, 0.04807077720761299, 0.048098374158144, 0.04805566743016243, 0.04819426313042641, 0.047958679497241974, 0.048160750418901443, 0.047918107360601425, 0.04790098965167999, 0.04786553233861923, 0.04798442870378494, 0.04823732376098633, 0.04807048663496971, 0.04837493970990181, 0.048611175268888474, 0.04855720326304436, 0.04890315234661102, 0.0492706298828125, 0.04895010590553284, 0.04912171885371208, 0.049053508788347244, 0.0491546094417572, 0.04904418811202049, 0.049128152430057526, 0.0490131601691246, 0.04868512600660324, 0.04873432591557503, 0.04860194772481918, 0.048515960574150085, 0.048353396356105804, 0.04835999757051468, 0.048311397433280945, 0.048238083720207214, 0.04811142385005951, 0.04816555231809616, 0.0479314960539341, 0.048096220940351486, 0.04811601713299751, 0.04812652990221977, 0.04793141409754753, 0.04803290218114853, 0.04780969023704529, 0.04801959544420242, 0.04775132238864899, 0.04800229147076607, 0.04793693497776985, 0.047906771302223206, 0.048004359006881714, 0.04810057580471039, 0.048017024993896484, 0.04820947349071503, 0.04821062460541725, 0.04822200909256935, 0.04830840975046158, 0.04828447848558426, 0.04837241768836975, 0.04840297996997833, 0.048447489738464355, 0.04836023226380348, 0.048527613282203674, 0.04852752387523651, 0.0483124665915966, 0.048500917851924896, 0.0485478900372982, 0.04843425005674362, 0.04856453835964203, 0.04838484525680542, 0.0483967661857605, 0.04838443174958229, 0.04835793003439903, 0.04823152348399162, 0.04822073131799698, 0.04809495061635971, 0.04806061089038849, 0.04799434915184975, 0.047927968204021454, 0.04776335880160332, 0.04791615903377533, 0.047785818576812744, 0.04748707637190819, 0.04762682318687439, 0.04766190052032471, 0.04754238948225975, 0.047616325318813324, 0.04749848693609238, 0.047517403960227966, 0.047533418983221054, 0.047546014189720154, 0.04750958830118179, 0.047678142786026, 0.04761921614408493, 0.047752745449543, 0.04772670567035675, 0.047773461788892746, 0.04779709875583649, 0.047906577587127686, 0.04794050008058548, 0.04807600751519203, 0.04809372127056122, 0.04826716333627701, 0.04817755147814751, 0.04817163199186325, 0.04831177368760109, 0.04820869490504265, 0.04832311347126961, 0.04818455129861832, 0.04829242825508118, 0.048151686787605286, 0.047968167811632156, 0.04812876507639885, 0.04798327013850212, 0.04783886298537254, 0.0477348193526268, 0.047829460352659225, 0.047599922865629196, 0.047466397285461426, 0.047561392188072205, 0.04731407016515732, 0.04735632613301277, 0.04740940034389496, 0.04733322560787201, 0.047345176339149475, 0.04736589267849922, 0.0472988523542881, 0.04723631218075752, 0.047359712421894073, 0.04738406464457512, 0.047277066856622696, 0.04763888567686081, 0.047407861799001694, 0.04739446938037872, 0.04765329509973526, 0.04768453910946846, 0.04758341610431671, 0.04787735641002655, 0.04781883582472801, 0.04784777760505676, 0.04809347912669182, 0.04793310910463333, 0.0477769710123539, 0.047863736748695374, 0.04811152070760727, 0.04799734428524971, 0.047750238329172134, 0.04797714576125145, 0.047904469072818756, 0.047827478498220444, 0.048096828162670135, 0.048009008169174194, 0.04780210182070732, 0.04797885939478874, 0.047829270362854004, 0.04769846796989441, 0.04792986437678337, 0.04774843528866768, 0.047480516135692596, 0.04773281514644623, 0.047546129673719406, 0.04722750186920166, 0.04716844856739044, 0.04702625051140785, 0.0473184771835804, 0.04701783135533333, 0.04683081433176994, 0.046845607459545135, 0.04685065522789955, 0.04665466770529747, 0.046732231974601746, 0.046609409153461456, 0.04672744497656822, 0.0465318001806736, 0.046981703490018845, 0.04683646932244301, 0.04689442738890648, 0.04741605371236801, 0.04756907746195793, 0.047828033566474915, 0.04840407893061638, 0.048840057104825974, 0.04911856725811958, 0.04938150942325592, 0.049862153828144073, 0.04978138953447342, 0.04989686980843544, 0.05013640224933624, 0.04993779584765434, 0.050411105155944824, 0.05015246570110321, 0.05042567476630211, 0.05024546757340431, 0.050623390823602676, 0.05051995441317558, 0.050393182784318924, 0.05053797736763954, 0.05065925046801567, 0.050437796860933304, 0.05017896741628647, 0.050495486706495285, 0.05061415582895279, 0.05074881389737129, 0.05081386864185333, 0.05063178390264511, 0.05038224533200264, 0.05049647390842438, 0.05041477084159851, 0.05045372620224953, 0.050505440682172775, 0.0504719614982605, 0.05039393529295921, 0.05065422132611275, 0.050548799335956573, 0.05070826783776283, 0.05064868554472923, 0.05093863978981972, 0.05082911625504494, 0.050536148250103, 0.05055273324251175, 0.05045974627137184, 0.0504559725522995, 0.05004965513944626, 0.05008463189005852, 0.04993470385670662, 0.04990990087389946, 0.05029839649796486, 0.05030110105872154, 0.05012785643339157, 0.0499342679977417, 0.05021248012781143, 0.05026596039533615, 0.05038106441497803, 0.050492431968450546, 0.050419874489307404, 0.050179872661828995, 0.05024433881044388, 0.05005595460534096, 0.04998312145471573, 0.04967484250664711, 0.04972848296165466, 0.049589842557907104, 0.04959488660097122, 0.04967988282442093, 0.0493970662355423, 0.0495268777012825, 0.0496368482708931, 0.04929135739803314, 0.04945772513747215, 0.049614012241363525, 0.049912795424461365, 0.049801625311374664, 0.04970741271972656, 0.049629177898168564, 0.05026694014668465, 0.04993229731917381, 0.05088534578680992, 0.051458653062582016, 0.05183329060673714, 0.051779963076114655, 0.05291391909122467, 0.0520641915500164, 0.051747869700193405, 0.05302004888653755, 0.0528445802628994, 0.05258064344525337, 0.051561061292886734, 0.051442693918943405, 0.051340941339731216, 0.05078472942113876, 0.05089918151497841, 0.05039446800947189, 0.050769828259944916, 0.05038774386048317, 0.05037873610854149, 0.051036641001701355, 0.050119441002607346, 0.05101897194981575, 0.05051477253437042, 0.050563566386699677, 0.050989117473363876, 0.0501457154750824, 0.05080411583185196, 0.05008698254823685, 0.05021914094686508, 0.0503997802734375, 0.04948735237121582, 0.05011826753616333, 0.04996015131473541, 0.04997528716921806, 0.05056213214993477, 0.050562720745801926, 0.05069824308156967, 0.05059639737010002, 0.05025366693735123, 0.05056530237197876, 0.050775300711393356, 0.05061505362391472, 0.05066099762916565, 0.05052972212433815, 0.05088032782077789, 0.05067523196339607, 0.0507131963968277, 0.051322948187589645, 0.0504380501806736, 0.050494372844696045, 0.05115726217627525, 0.05049717798829079, 0.050481777638196945, 0.050628263503313065, 0.05050641670823097, 0.05068192258477211, 0.050380636006593704, 0.05013116076588631, 0.05117308348417282, 0.05030915513634682, 0.049789950251579285, 0.05098416283726692, 0.049910496920347214, 0.050791654735803604, 0.04988629370927811, 0.04994405806064606, 0.050260551273822784, 0.050369713455438614, 0.050071846693754196, 0.05026084929704666, 0.05057268589735031, 0.0509779118001461, 0.05142964422702789, 0.04997297003865242, 0.05044199898838997, 0.05165062099695206, 0.05051719769835472, 0.05051257833838463, 0.050801221281290054, 0.050754595547914505, 0.05080185458064079, 0.05085287243127823, 0.05036429688334465, 0.05081463232636452, 0.05081463232636452, 0.05104941874742508, 0.05159691348671913, 0.05059025064110756, 0.050584204494953156, 0.05157724395394325, 0.050595857203006744, 0.05028059706091881, 0.05116451531648636, 0.050583306699991226, 0.04980458691716194, 0.05117393657565117, 0.05084716156125069, 0.05001761391758919, 0.050845466554164886, 0.050602298229932785, 0.05083708465099335, 0.05052769184112549, 0.05010947585105896, 0.05072849616408348, 0.050180938094854355, 0.049979910254478455, 0.051382459700107574, 0.05056273937225342, 0.05024928227066994, 0.0516577810049057, 0.05100427567958832, 0.05020583048462868, 0.05159759521484375, 0.050529398024082184, 0.050013218075037, 0.05125325173139572, 0.05126001313328743, 0.05169103667140007, 0.05089080333709717, 0.05086027830839157, 0.051309868693351746, 0.050756484270095825, 0.05152276158332825, 0.05122799053788185, 0.05116816610097885, 0.052564460784196854, 0.05145043134689331, 0.05143717676401138, 0.05248410627245903, 0.051874179393053055, 0.0515727698802948, 0.052726346999406815, 0.05121447145938873, 0.05079888552427292, 0.052463773638010025, 0.05226010084152222, 0.051981255412101746, 0.052610915154218674, 0.05228934809565544, 0.05202123895287514, 0.05212928354740143, 0.05177981033921242, 0.052922505885362625, 0.052111465483903885, 0.05133476108312607, 0.05228002741932869, 0.051981471478939056, 0.05106376111507416, 0.05277353897690773, 0.05161745473742485, 0.051095861941576004, 0.05216572806239128, 0.05185491219162941, 0.0523274801671505, 0.05258551239967346, 0.052225857973098755, 0.05262213945388794, 0.052742768079042435, 0.05228698253631592, 0.05228425934910774, 0.05267026275396347, 0.051875852048397064, 0.052109282463788986, 0.052008625119924545, 0.051979728043079376, 0.05267653241753578, 0.051716409623622894, 0.05153731256723404, 0.05245892331004143, 0.0513756200671196, 0.05231589823961258, 0.05206533521413803, 0.05190984904766083, 0.05167260393500328, 0.05196107178926468, 0.051685404032468796, 0.051467977464199066, 0.05089426413178444, 0.051578763872385025, 0.05109356343746185, 0.05172750726342201, 0.051815491169691086, 0.05211889371275902, 0.05118625983595848, 0.05140569806098938, 0.051465537399053574, 0.0513615645468235, 0.05127040669322014, 0.05189330875873566, 0.05075743421912193, 0.05130505934357643, 0.05157053843140602, 0.05178716778755188, 0.050974272191524506, 0.05168827995657921, 0.05149300768971443, 0.051206402480602264, 0.05110057070851326, 0.051587894558906555, 0.05151527002453804, 0.051418937742710114, 0.05138254538178444, 0.051385194063186646, 0.05100789666175842, 0.05109132453799248, 0.05109581723809242, 0.05108485743403435, 0.05087484419345856, 0.0506751611828804, 0.051467638462781906, 0.050745438784360886, 0.050865113735198975, 0.05151110142469406, 0.0513443648815155, 0.05039147660136223, 0.0502982959151268, 0.050891000777482986, 0.05021941661834717, 0.05080592259764671, 0.049039360135793686, 0.050193093717098236, 0.049595706164836884, 0.04958592355251312, 0.05033639818429947, 0.05077064409852028, 0.05075843632221222, 0.05072442442178726, 0.05061886087059975, 0.05062754824757576, 0.05037917569279671, 0.05075887218117714, 0.05057684704661369, 0.05125263333320618, 0.05088575929403305, 0.05131501331925392, 0.050102874636650085, 0.05017876252532005, 0.050622645765542984, 0.05074826255440712, 0.05033956840634346, 0.050242673605680466, 0.049464110285043716, 0.04907293617725372, 0.05074053257703781, 0.04901205748319626, 0.04854745417833328, 0.05036089941859245, 0.04916005581617355, 0.048720479011535645, 0.04963437467813492, 0.04999522864818573, 0.04997752234339714, 0.04934535548090935, 0.049213655292987823, 0.049508627504110336, 0.050112828612327576, 0.04906824976205826, 0.04890551045536995, 0.048823706805706024, 0.049396004527807236, 0.04966910183429718, 0.04886410012841225, 0.04991684481501579, 0.049918390810489655, 0.05007148161530495, 0.04878256469964981, 0.05040440335869789, 0.04997679591178894, 0.05031929165124893, 0.04963713884353638, 0.05014151334762573, 0.04922467842698097, 0.050770267844200134, 0.050797633826732635, 0.05169569328427315, 0.05407480150461197, 0.056106436997652054, 0.05545198917388916, 0.05686265975236893, 0.056541964411735535, 0.060630686581134796, 0.05457932874560356, 0.05570323020219803, 0.05114445462822914, 0.05257086083292961, 0.04911801218986511, 0.052004776895046234, 0.05279447138309479, 0.055547162890434265, 0.05510958656668663, 0.054790955036878586, 0.056665703654289246, 0.05494975298643112, 0.05356297269463539, 0.055314067751169205, 0.05414105951786041, 0.05471055209636688, 0.05616798996925354, 0.05504050478339195, 0.054828543215990067, 0.05626770108938217, 0.055904459208250046, 0.05533013120293617, 0.05448439344763756, 0.0527631901204586, 0.056520309299230576, 0.05531251057982445, 0.05524840205907822, 0.05462218075990677, 0.054392583668231964, 0.05554085969924927, 0.05443592369556427, 0.055258579552173615, 0.0545060969889164, 0.05366974323987961, 0.054823778569698334, 0.055677272379398346, 0.05563696101307869, 0.055900152772665024, 0.05566033720970154, 0.054336436092853546, 0.05400906503200531, 0.055590737611055374, 0.05482524633407593, 0.05372673645615578, 0.05475471541285515, 0.05460798367857933, 0.053832028061151505, 0.05387887358665466, 0.05282791703939438, 0.055206816643476486, 0.054746177047491074, 0.05401242896914482, 0.054219864308834076, 0.05403485149145126, 0.053912870585918427, 0.053980953991413116, 0.05408710613846779, 0.05418559908866882, 0.05378986522555351, 0.05275195091962814, 0.053064975887537, 0.05395256727933884, 0.055021293461322784, 0.05464250594377518, 0.05311235785484314, 0.05283714458346367, 0.053631097078323364, 0.055165935307741165, 0.05461287125945091, 0.05378454178571701, 0.053924232721328735, 0.052577149122953415, 0.053340230137109756, 0.05464991554617882, 0.05350160598754883, 0.053937505930662155, 0.05323613062500954, 0.05287705734372139, 0.053693924099206924, 0.05396486818790436, 0.053377967327833176, 0.05390895530581474, 0.05326392501592636, 0.05329838767647743, 0.05390002951025963, 0.054497458040714264, 0.05380716174840927, 0.053317777812480927, 0.05412830784916878, 0.05247483029961586, 0.05280327424407005, 0.051544688642024994, 0.05162859335541725, 0.051369957625865936, 0.053517896682024, 0.053243789821863174, 0.05381539463996887, 0.051730651408433914, 0.05286364629864693, 0.05110318586230278, 0.0519878976047039, 0.05195847898721695, 0.05245741456747055, 0.05205818638205528, 0.053124282509088516, 0.052949871867895126, 0.05268315225839615, 0.05357014015316963, 0.05187372490763664, 0.052753958851099014, 0.05243789032101631, 0.05143415555357933, 0.05322989821434021, 0.051469262689352036, 0.05292128771543503, 0.0523538663983345, 0.052170317620038986, 0.05338878929615021, 0.052485059946775436, 0.05307897552847862, 0.052491385489702225, 0.05335523188114166, 0.05274679511785507, 0.053538814187049866, 0.05236562713980675, 0.0515906922519207, 0.054074160754680634, 0.05292869731783867, 0.05289841443300247, 0.0531487800180912, 0.05384225770831108, 0.054990168660879135, 0.05328065901994705, 0.05388074368238449, 0.052558980882167816, 0.05418417230248451, 0.05378390848636627, 0.05467287451028824, 0.05321398377418518, 0.05256924033164978, 0.056287601590156555, 0.053885821253061295, 0.054064661264419556, 0.05396062508225441, 0.05332842469215393, 0.05519118160009384, 0.053760018199682236, 0.052208852022886276, 0.05264019966125488, 0.05299602821469307, 0.05448590964078903, 0.05420466512441635, 0.05433306097984314, 0.05383218452334404, 0.05293792113661766, 0.0556003674864769, 0.05388506501913071, 0.05359424278140068, 0.05459943413734436, 0.0533769354224205, 0.05392308905720711, 0.054242607206106186, 0.053139619529247284, 0.05522650480270386, 0.053915493190288544, 0.05486435443162918, 0.05520977824926376, 0.055257443338632584, 0.05488976091146469, 0.05540797486901283, 0.05353439226746559, 0.05449824407696724, 0.05254440754652023, 0.053697165101766586, 0.054919950664043427, 0.05447564274072647, 0.05204810947179794, 0.05125384405255318, 0.052139170467853546, 0.052137669175863266, 0.05197330191731453, 0.05272291973233223]\n"
          ]
        }
      ]
    },
    {
      "cell_type": "code",
      "source": [
        "# history에 저장된 학습 결과를 확인\n",
        "\n",
        "hist_df=pd.DataFrame(history.history)\n",
        "hist_df.head()"
      ],
      "metadata": {
        "colab": {
          "base_uri": "https://localhost:8080/",
          "height": 206
        },
        "id": "6ALnY7wXrdBy",
        "outputId": "131d69f9-deb9-4f1f-9841-0fbd0dcaf130"
      },
      "execution_count": null,
      "outputs": [
        {
          "output_type": "execute_result",
          "data": {
            "text/plain": [
              "   accuracy      loss  val_accuracy  val_loss\n",
              "0  0.984347  0.053458      0.984615  0.056043\n",
              "1  0.984090  0.053418      0.984615  0.056128\n",
              "2  0.984347  0.053438      0.984615  0.056123\n",
              "3  0.984347  0.053429      0.984615  0.056055\n",
              "4  0.984347  0.053397      0.984615  0.056078"
            ],
            "text/html": [
              "\n",
              "  <div id=\"df-ed230780-6d6f-40eb-bdaf-df594f4dfd8c\" class=\"colab-df-container\">\n",
              "    <div>\n",
              "<style scoped>\n",
              "    .dataframe tbody tr th:only-of-type {\n",
              "        vertical-align: middle;\n",
              "    }\n",
              "\n",
              "    .dataframe tbody tr th {\n",
              "        vertical-align: top;\n",
              "    }\n",
              "\n",
              "    .dataframe thead th {\n",
              "        text-align: right;\n",
              "    }\n",
              "</style>\n",
              "<table border=\"1\" class=\"dataframe\">\n",
              "  <thead>\n",
              "    <tr style=\"text-align: right;\">\n",
              "      <th></th>\n",
              "      <th>accuracy</th>\n",
              "      <th>loss</th>\n",
              "      <th>val_accuracy</th>\n",
              "      <th>val_loss</th>\n",
              "    </tr>\n",
              "  </thead>\n",
              "  <tbody>\n",
              "    <tr>\n",
              "      <th>0</th>\n",
              "      <td>0.984347</td>\n",
              "      <td>0.053458</td>\n",
              "      <td>0.984615</td>\n",
              "      <td>0.056043</td>\n",
              "    </tr>\n",
              "    <tr>\n",
              "      <th>1</th>\n",
              "      <td>0.984090</td>\n",
              "      <td>0.053418</td>\n",
              "      <td>0.984615</td>\n",
              "      <td>0.056128</td>\n",
              "    </tr>\n",
              "    <tr>\n",
              "      <th>2</th>\n",
              "      <td>0.984347</td>\n",
              "      <td>0.053438</td>\n",
              "      <td>0.984615</td>\n",
              "      <td>0.056123</td>\n",
              "    </tr>\n",
              "    <tr>\n",
              "      <th>3</th>\n",
              "      <td>0.984347</td>\n",
              "      <td>0.053429</td>\n",
              "      <td>0.984615</td>\n",
              "      <td>0.056055</td>\n",
              "    </tr>\n",
              "    <tr>\n",
              "      <th>4</th>\n",
              "      <td>0.984347</td>\n",
              "      <td>0.053397</td>\n",
              "      <td>0.984615</td>\n",
              "      <td>0.056078</td>\n",
              "    </tr>\n",
              "  </tbody>\n",
              "</table>\n",
              "</div>\n",
              "    <div class=\"colab-df-buttons\">\n",
              "\n",
              "  <div class=\"colab-df-container\">\n",
              "    <button class=\"colab-df-convert\" onclick=\"convertToInteractive('df-ed230780-6d6f-40eb-bdaf-df594f4dfd8c')\"\n",
              "            title=\"Convert this dataframe to an interactive table.\"\n",
              "            style=\"display:none;\">\n",
              "\n",
              "  <svg xmlns=\"http://www.w3.org/2000/svg\" height=\"24px\" viewBox=\"0 -960 960 960\">\n",
              "    <path d=\"M120-120v-720h720v720H120Zm60-500h600v-160H180v160Zm220 220h160v-160H400v160Zm0 220h160v-160H400v160ZM180-400h160v-160H180v160Zm440 0h160v-160H620v160ZM180-180h160v-160H180v160Zm440 0h160v-160H620v160Z\"/>\n",
              "  </svg>\n",
              "    </button>\n",
              "\n",
              "  <style>\n",
              "    .colab-df-container {\n",
              "      display:flex;\n",
              "      gap: 12px;\n",
              "    }\n",
              "\n",
              "    .colab-df-convert {\n",
              "      background-color: #E8F0FE;\n",
              "      border: none;\n",
              "      border-radius: 50%;\n",
              "      cursor: pointer;\n",
              "      display: none;\n",
              "      fill: #1967D2;\n",
              "      height: 32px;\n",
              "      padding: 0 0 0 0;\n",
              "      width: 32px;\n",
              "    }\n",
              "\n",
              "    .colab-df-convert:hover {\n",
              "      background-color: #E2EBFA;\n",
              "      box-shadow: 0px 1px 2px rgba(60, 64, 67, 0.3), 0px 1px 3px 1px rgba(60, 64, 67, 0.15);\n",
              "      fill: #174EA6;\n",
              "    }\n",
              "\n",
              "    .colab-df-buttons div {\n",
              "      margin-bottom: 4px;\n",
              "    }\n",
              "\n",
              "    [theme=dark] .colab-df-convert {\n",
              "      background-color: #3B4455;\n",
              "      fill: #D2E3FC;\n",
              "    }\n",
              "\n",
              "    [theme=dark] .colab-df-convert:hover {\n",
              "      background-color: #434B5C;\n",
              "      box-shadow: 0px 1px 3px 1px rgba(0, 0, 0, 0.15);\n",
              "      filter: drop-shadow(0px 1px 2px rgba(0, 0, 0, 0.3));\n",
              "      fill: #FFFFFF;\n",
              "    }\n",
              "  </style>\n",
              "\n",
              "    <script>\n",
              "      const buttonEl =\n",
              "        document.querySelector('#df-ed230780-6d6f-40eb-bdaf-df594f4dfd8c button.colab-df-convert');\n",
              "      buttonEl.style.display =\n",
              "        google.colab.kernel.accessAllowed ? 'block' : 'none';\n",
              "\n",
              "      async function convertToInteractive(key) {\n",
              "        const element = document.querySelector('#df-ed230780-6d6f-40eb-bdaf-df594f4dfd8c');\n",
              "        const dataTable =\n",
              "          await google.colab.kernel.invokeFunction('convertToInteractive',\n",
              "                                                    [key], {});\n",
              "        if (!dataTable) return;\n",
              "\n",
              "        const docLinkHtml = 'Like what you see? Visit the ' +\n",
              "          '<a target=\"_blank\" href=https://colab.research.google.com/notebooks/data_table.ipynb>data table notebook</a>'\n",
              "          + ' to learn more about interactive tables.';\n",
              "        element.innerHTML = '';\n",
              "        dataTable['output_type'] = 'display_data';\n",
              "        await google.colab.output.renderOutput(dataTable, element);\n",
              "        const docLink = document.createElement('div');\n",
              "        docLink.innerHTML = docLinkHtml;\n",
              "        element.appendChild(docLink);\n",
              "      }\n",
              "    </script>\n",
              "  </div>\n",
              "\n",
              "\n",
              "<div id=\"df-d4cfba00-6119-4931-87cc-56a3f40d77b0\">\n",
              "  <button class=\"colab-df-quickchart\" onclick=\"quickchart('df-d4cfba00-6119-4931-87cc-56a3f40d77b0')\"\n",
              "            title=\"Suggest charts\"\n",
              "            style=\"display:none;\">\n",
              "\n",
              "<svg xmlns=\"http://www.w3.org/2000/svg\" height=\"24px\"viewBox=\"0 0 24 24\"\n",
              "     width=\"24px\">\n",
              "    <g>\n",
              "        <path d=\"M19 3H5c-1.1 0-2 .9-2 2v14c0 1.1.9 2 2 2h14c1.1 0 2-.9 2-2V5c0-1.1-.9-2-2-2zM9 17H7v-7h2v7zm4 0h-2V7h2v10zm4 0h-2v-4h2v4z\"/>\n",
              "    </g>\n",
              "</svg>\n",
              "  </button>\n",
              "\n",
              "<style>\n",
              "  .colab-df-quickchart {\n",
              "      --bg-color: #E8F0FE;\n",
              "      --fill-color: #1967D2;\n",
              "      --hover-bg-color: #E2EBFA;\n",
              "      --hover-fill-color: #174EA6;\n",
              "      --disabled-fill-color: #AAA;\n",
              "      --disabled-bg-color: #DDD;\n",
              "  }\n",
              "\n",
              "  [theme=dark] .colab-df-quickchart {\n",
              "      --bg-color: #3B4455;\n",
              "      --fill-color: #D2E3FC;\n",
              "      --hover-bg-color: #434B5C;\n",
              "      --hover-fill-color: #FFFFFF;\n",
              "      --disabled-bg-color: #3B4455;\n",
              "      --disabled-fill-color: #666;\n",
              "  }\n",
              "\n",
              "  .colab-df-quickchart {\n",
              "    background-color: var(--bg-color);\n",
              "    border: none;\n",
              "    border-radius: 50%;\n",
              "    cursor: pointer;\n",
              "    display: none;\n",
              "    fill: var(--fill-color);\n",
              "    height: 32px;\n",
              "    padding: 0;\n",
              "    width: 32px;\n",
              "  }\n",
              "\n",
              "  .colab-df-quickchart:hover {\n",
              "    background-color: var(--hover-bg-color);\n",
              "    box-shadow: 0 1px 2px rgba(60, 64, 67, 0.3), 0 1px 3px 1px rgba(60, 64, 67, 0.15);\n",
              "    fill: var(--button-hover-fill-color);\n",
              "  }\n",
              "\n",
              "  .colab-df-quickchart-complete:disabled,\n",
              "  .colab-df-quickchart-complete:disabled:hover {\n",
              "    background-color: var(--disabled-bg-color);\n",
              "    fill: var(--disabled-fill-color);\n",
              "    box-shadow: none;\n",
              "  }\n",
              "\n",
              "  .colab-df-spinner {\n",
              "    border: 2px solid var(--fill-color);\n",
              "    border-color: transparent;\n",
              "    border-bottom-color: var(--fill-color);\n",
              "    animation:\n",
              "      spin 1s steps(1) infinite;\n",
              "  }\n",
              "\n",
              "  @keyframes spin {\n",
              "    0% {\n",
              "      border-color: transparent;\n",
              "      border-bottom-color: var(--fill-color);\n",
              "      border-left-color: var(--fill-color);\n",
              "    }\n",
              "    20% {\n",
              "      border-color: transparent;\n",
              "      border-left-color: var(--fill-color);\n",
              "      border-top-color: var(--fill-color);\n",
              "    }\n",
              "    30% {\n",
              "      border-color: transparent;\n",
              "      border-left-color: var(--fill-color);\n",
              "      border-top-color: var(--fill-color);\n",
              "      border-right-color: var(--fill-color);\n",
              "    }\n",
              "    40% {\n",
              "      border-color: transparent;\n",
              "      border-right-color: var(--fill-color);\n",
              "      border-top-color: var(--fill-color);\n",
              "    }\n",
              "    60% {\n",
              "      border-color: transparent;\n",
              "      border-right-color: var(--fill-color);\n",
              "    }\n",
              "    80% {\n",
              "      border-color: transparent;\n",
              "      border-right-color: var(--fill-color);\n",
              "      border-bottom-color: var(--fill-color);\n",
              "    }\n",
              "    90% {\n",
              "      border-color: transparent;\n",
              "      border-bottom-color: var(--fill-color);\n",
              "    }\n",
              "  }\n",
              "</style>\n",
              "\n",
              "  <script>\n",
              "    async function quickchart(key) {\n",
              "      const quickchartButtonEl =\n",
              "        document.querySelector('#' + key + ' button');\n",
              "      quickchartButtonEl.disabled = true;  // To prevent multiple clicks.\n",
              "      quickchartButtonEl.classList.add('colab-df-spinner');\n",
              "      try {\n",
              "        const charts = await google.colab.kernel.invokeFunction(\n",
              "            'suggestCharts', [key], {});\n",
              "      } catch (error) {\n",
              "        console.error('Error during call to suggestCharts:', error);\n",
              "      }\n",
              "      quickchartButtonEl.classList.remove('colab-df-spinner');\n",
              "      quickchartButtonEl.classList.add('colab-df-quickchart-complete');\n",
              "    }\n",
              "    (() => {\n",
              "      let quickchartButtonEl =\n",
              "        document.querySelector('#df-d4cfba00-6119-4931-87cc-56a3f40d77b0 button');\n",
              "      quickchartButtonEl.style.display =\n",
              "        google.colab.kernel.accessAllowed ? 'block' : 'none';\n",
              "    })();\n",
              "  </script>\n",
              "</div>\n",
              "\n",
              "    </div>\n",
              "  </div>\n"
            ],
            "application/vnd.google.colaboratory.intrinsic+json": {
              "type": "dataframe",
              "variable_name": "hist_df",
              "summary": "{\n  \"name\": \"hist_df\",\n  \"rows\": 1000,\n  \"fields\": [\n    {\n      \"column\": \"accuracy\",\n      \"properties\": {\n        \"dtype\": \"number\",\n        \"std\": 0.0015674274803459311,\n        \"min\": 0.9815242290496826,\n        \"max\": 0.9897357225418091,\n        \"num_unique_values\": 31,\n        \"samples\": [\n          0.9889658689498901,\n          0.9835771322250366,\n          0.9879394173622131\n        ],\n        \"semantic_type\": \"\",\n        \"description\": \"\"\n      }\n    },\n    {\n      \"column\": \"loss\",\n      \"properties\": {\n        \"dtype\": \"number\",\n        \"std\": 0.006217117581470561,\n        \"min\": 0.034570515155792236,\n        \"max\": 0.056029632687568665,\n        \"num_unique_values\": 1000,\n        \"samples\": [\n          0.03943312540650368,\n          0.036416273564100266,\n          0.03650948405265808\n        ],\n        \"semantic_type\": \"\",\n        \"description\": \"\"\n      }\n    },\n    {\n      \"column\": \"val_accuracy\",\n      \"properties\": {\n        \"dtype\": \"number\",\n        \"std\": 0.0012797096130522459,\n        \"min\": 0.9830769300460815,\n        \"max\": 0.989230751991272,\n        \"num_unique_values\": 9,\n        \"samples\": [\n          0.9884615540504456,\n          0.9853846430778503,\n          0.986923098564148\n        ],\n        \"semantic_type\": \"\",\n        \"description\": \"\"\n      }\n    },\n    {\n      \"column\": \"val_loss\",\n      \"properties\": {\n        \"dtype\": \"number\",\n        \"std\": 0.0030582868252227607,\n        \"min\": 0.0465318001806736,\n        \"max\": 0.060630686581134796,\n        \"num_unique_values\": 998,\n        \"samples\": [\n          0.0465318001806736,\n          0.04890551045536995,\n          0.05633160099387169\n        ],\n        \"semantic_type\": \"\",\n        \"description\": \"\"\n      }\n    }\n  ]\n}"
            }
          },
          "metadata": {},
          "execution_count": 40
        }
      ]
    },
    {
      "cell_type": "code",
      "source": [
        "hist_df.shape"
      ],
      "metadata": {
        "colab": {
          "base_uri": "https://localhost:8080/"
        },
        "id": "GeSNoPntvR0E",
        "outputId": "8a82c48c-e300-4e82-d96c-2f404628d322"
      },
      "execution_count": null,
      "outputs": [
        {
          "output_type": "execute_result",
          "data": {
            "text/plain": [
              "(1000, 4)"
            ]
          },
          "metadata": {},
          "execution_count": 41
        }
      ]
    },
    {
      "cell_type": "code",
      "source": [
        "import matplotlib.pyplot as plt\n",
        "\n",
        "# y_vloss에 테스트셋(여기서는 검증셋)의 오차를 저장\n",
        "y_vloss = hist_df['val_loss']\n",
        "\n",
        "# y_loss에 학습셋의 오차를 저장\n",
        "y_loss=hist_df['loss']\n",
        "\n",
        "# x값을 지정하고 테스트셋(검증셋)의 오차를 빨간색으로, 학습셋의 오차를 파란색으로 표시\n",
        "x_len = np.arange(len(y_loss))\n",
        "plt.plot(x_len, y_vloss, 'o', c='red', markersize=2, label='Validation_loss')\n",
        "plt.plot(x_len, y_loss, 'o', c='blue', markersize=2, label='Training_loss')\n",
        "\n",
        "\n",
        "plt.legend(loc='upper right')\n",
        "plt.xlabel('epoch')\n",
        "plt.ylabel('loss')\n",
        "plt.show()"
      ],
      "metadata": {
        "colab": {
          "base_uri": "https://localhost:8080/",
          "height": 449
        },
        "id": "VHVUijmJvZAf",
        "outputId": "4792a5f4-7e7d-4d12-bb3f-f6b6dfcf20a9"
      },
      "execution_count": null,
      "outputs": [
        {
          "output_type": "display_data",
          "data": {
            "text/plain": [
              "<Figure size 640x480 with 1 Axes>"
            ],
            "image/png": "[encoded data removed]"
          },
          "metadata": {}
        }
      ]
    },
    {
      "cell_type": "code",
      "source": [
        "# history 객체에서 학습셋과 검증셋의 정확도를 가져옴\n",
        "# 'acc' 대신 'accuracy' 를 사용해야 할 수도 있다. 이는 keras 버전에 따라 다름\n",
        "y_acc = history.history['accuracy'] # acc대신 accuracy를 사용하는 경우\n",
        "y_val_acc = history.history['val_accuracy'] # 마찬가지로 val_accuracy를 사용\n",
        "\n",
        "# x 값을 저장\n",
        "x_len = np.arange(len(y_acc))\n",
        "\n",
        "# 검증셋의 정확도를 빨간색으로, 학습셋의 정확도를 파란색으로 표시\n",
        "plt.plot(x_len, y_val_acc, 'o', c='red', markersize=2, label='Validation_Accuracy')\n",
        "plt.plot(x_len, y_acc, 'o', c='blue', markersize=2, label='Training_Accuracy')\n",
        "\n",
        "# 범례와 축 라벨을 추가\n",
        "plt.legend(loc='upper left')\n",
        "plt.xlabel('epoch')\n",
        "plt.ylabel('accuracy')\n",
        "plt.show()"
      ],
      "metadata": {
        "colab": {
          "base_uri": "https://localhost:8080/",
          "height": 449
        },
        "id": "eK6M6Quvx6w6",
        "outputId": "fb95c5b2-d023-4519-e61e-c2991ec27e26"
      },
      "execution_count": null,
      "outputs": [
        {
          "output_type": "display_data",
          "data": {
            "text/plain": [
              "<Figure size 640x480 with 1 Axes>"
            ],
            "image/png": "[encoded data removed]"
          },
          "metadata": {}
        }
      ]
    },
    {
      "cell_type": "code",
      "source": [
        "from tensorflow.keras.models import Sequential\n",
        "from tensorflow.keras.layers import Dense\n",
        "from sklearn.model_selection import train_test_split\n",
        "from tensorflow.keras.callbacks import ModelCheckpoint, EarlyStopping\n",
        "import os\n",
        "import pandas as pd\n",
        "import random as python_random\n",
        "\n",
        "np.random.seed(123)  # Numpy module.\n",
        "python_random.seed(123)  # Python random module.\n",
        "tf.random.set_seed(123)  # TensorFlow module.\n",
        "\n",
        "# 데이터를 입력합니다.\n",
        "df = pd.read_csv('/content/drive/MyDrive/kdt_240424/M6_딥러닝/dataset/wine.csv', header=None)\n",
        "\n",
        "# 와인의 속성을 X로 와인의 분류를 y로 저장합니다.\n",
        "X = df.iloc[:,0:12]\n",
        "y = df.iloc[:,12]\n",
        "\n",
        "#학습셋과 테스트셋으로 나눕니다.\n",
        "X_train, X_test, y_train, y_test = train_test_split(X, y, test_size=0.2, shuffle=True, random_state=0)\n",
        "\n",
        "# 모델 구조를 설정합니다.\n",
        "model = Sequential()\n",
        "model.add(Input(shape=(12,)))\n",
        "model.add(Dense(12, activation='relu'))\n",
        "model.add(Dense(8, activation='relu'))\n",
        "model.add(Dense(1, activation='sigmoid'))\n",
        "model.summary()\n",
        "\n",
        "#모델을 컴파일합니다.\n",
        "model.compile(loss='binary_crossentropy', optimizer='adam', metrics=['accuracy'])"
      ],
      "metadata": {
        "colab": {
          "base_uri": "https://localhost:8080/",
          "height": 230
        },
        "id": "WsCaSmznzPNE",
        "outputId": "cfc54af4-4868-4804-8c1a-15bde216a2c8"
      },
      "execution_count": null,
      "outputs": [
        {
          "output_type": "display_data",
          "data": {
            "text/plain": [
              "\u001b[1mModel: \"sequential_5\"\u001b[0m\n"
            ],
            "text/html": [
              "<pre style=\"white-space:pre;overflow-x:auto;line-height:normal;font-family:Menlo,'DejaVu Sans Mono',consolas,'Courier New',monospace\"><span style=\"font-weight: bold\">Model: \"sequential_5\"</span>\n",
              "</pre>\n"
            ]
          },
          "metadata": {}
        },
        {
          "output_type": "display_data",
          "data": {
            "text/plain": [
              "┏━━━━━━━━━━━━━━━━━━━━━━━━━━━━━━━━━━━━━━┳━━━━━━━━━━━━━━━━━━━━━━━━━━━━━┳━━━━━━━━━━━━━━━━━┓\n",
              "┃\u001b[1m \u001b[0m\u001b[1mLayer (type)                        \u001b[0m\u001b[1m \u001b[0m┃\u001b[1m \u001b[0m\u001b[1mOutput Shape               \u001b[0m\u001b[1m \u001b[0m┃\u001b[1m \u001b[0m\u001b[1m        Param #\u001b[0m\u001b[1m \u001b[0m┃\n",
              "┡━━━━━━━━━━━━━━━━━━━━━━━━━━━━━━━━━━━━━━╇━━━━━━━━━━━━━━━━━━━━━━━━━━━━━╇━━━━━━━━━━━━━━━━━┩\n",
              "│ dense_20 (\u001b[38;5;33mDense\u001b[0m)                     │ (\u001b[38;5;45mNone\u001b[0m, \u001b[38;5;34m12\u001b[0m)                  │             \u001b[38;5;34m156\u001b[0m │\n",
              "├──────────────────────────────────────┼─────────────────────────────┼─────────────────┤\n",
              "│ dense_21 (\u001b[38;5;33mDense\u001b[0m)                     │ (\u001b[38;5;45mNone\u001b[0m, \u001b[38;5;34m8\u001b[0m)                   │             \u001b[38;5;34m104\u001b[0m │\n",
              "├──────────────────────────────────────┼─────────────────────────────┼─────────────────┤\n",
              "│ dense_22 (\u001b[38;5;33mDense\u001b[0m)                     │ (\u001b[38;5;45mNone\u001b[0m, \u001b[38;5;34m1\u001b[0m)                   │               \u001b[38;5;34m9\u001b[0m │\n",
              "└──────────────────────────────────────┴─────────────────────────────┴─────────────────┘\n"
            ],
            "text/html": [
              "<pre style=\"white-space:pre;overflow-x:auto;line-height:normal;font-family:Menlo,'DejaVu Sans Mono',consolas,'Courier New',monospace\">┏━━━━━━━━━━━━━━━━━━━━━━━━━━━━━━━━━━━━━━┳━━━━━━━━━━━━━━━━━━━━━━━━━━━━━┳━━━━━━━━━━━━━━━━━┓\n",
              "┃<span style=\"font-weight: bold\"> Layer (type)                         </span>┃<span style=\"font-weight: bold\"> Output Shape                </span>┃<span style=\"font-weight: bold\">         Param # </span>┃\n",
              "┡━━━━━━━━━━━━━━━━━━━━━━━━━━━━━━━━━━━━━━╇━━━━━━━━━━━━━━━━━━━━━━━━━━━━━╇━━━━━━━━━━━━━━━━━┩\n",
              "│ dense_20 (<span style=\"color: #0087ff; text-decoration-color: #0087ff\">Dense</span>)                     │ (<span style=\"color: #00d7ff; text-decoration-color: #00d7ff\">None</span>, <span style=\"color: #00af00; text-decoration-color: #00af00\">12</span>)                  │             <span style=\"color: #00af00; text-decoration-color: #00af00\">156</span> │\n",
              "├──────────────────────────────────────┼─────────────────────────────┼─────────────────┤\n",
              "│ dense_21 (<span style=\"color: #0087ff; text-decoration-color: #0087ff\">Dense</span>)                     │ (<span style=\"color: #00d7ff; text-decoration-color: #00d7ff\">None</span>, <span style=\"color: #00af00; text-decoration-color: #00af00\">8</span>)                   │             <span style=\"color: #00af00; text-decoration-color: #00af00\">104</span> │\n",
              "├──────────────────────────────────────┼─────────────────────────────┼─────────────────┤\n",
              "│ dense_22 (<span style=\"color: #0087ff; text-decoration-color: #0087ff\">Dense</span>)                     │ (<span style=\"color: #00d7ff; text-decoration-color: #00d7ff\">None</span>, <span style=\"color: #00af00; text-decoration-color: #00af00\">1</span>)                   │               <span style=\"color: #00af00; text-decoration-color: #00af00\">9</span> │\n",
              "└──────────────────────────────────────┴─────────────────────────────┴─────────────────┘\n",
              "</pre>\n"
            ]
          },
          "metadata": {}
        },
        {
          "output_type": "display_data",
          "data": {
            "text/plain": [
              "\u001b[1m Total params: \u001b[0m\u001b[38;5;34m269\u001b[0m (1.05 KB)\n"
            ],
            "text/html": [
              "<pre style=\"white-space:pre;overflow-x:auto;line-height:normal;font-family:Menlo,'DejaVu Sans Mono',consolas,'Courier New',monospace\"><span style=\"font-weight: bold\"> Total params: </span><span style=\"color: #00af00; text-decoration-color: #00af00\">269</span> (1.05 KB)\n",
              "</pre>\n"
            ]
          },
          "metadata": {}
        },
        {
          "output_type": "display_data",
          "data": {
            "text/plain": [
              "\u001b[1m Trainable params: \u001b[0m\u001b[38;5;34m269\u001b[0m (1.05 KB)\n"
            ],
            "text/html": [
              "<pre style=\"white-space:pre;overflow-x:auto;line-height:normal;font-family:Menlo,'DejaVu Sans Mono',consolas,'Courier New',monospace\"><span style=\"font-weight: bold\"> Trainable params: </span><span style=\"color: #00af00; text-decoration-color: #00af00\">269</span> (1.05 KB)\n",
              "</pre>\n"
            ]
          },
          "metadata": {}
        },
        {
          "output_type": "display_data",
          "data": {
            "text/plain": [
              "\u001b[1m Non-trainable params: \u001b[0m\u001b[38;5;34m0\u001b[0m (0.00 B)\n"
            ],
            "text/html": [
              "<pre style=\"white-space:pre;overflow-x:auto;line-height:normal;font-family:Menlo,'DejaVu Sans Mono',consolas,'Courier New',monospace\"><span style=\"font-weight: bold\"> Non-trainable params: </span><span style=\"color: #00af00; text-decoration-color: #00af00\">0</span> (0.00 B)\n",
              "</pre>\n"
            ]
          },
          "metadata": {}
        }
      ]
    },
    {
      "cell_type": "markdown",
      "source": [
        "[ callback ]\n",
        "\n",
        "callbacks=[early_stopping_callback, checkpointer]\n",
        "\n",
        "학습 과정 중에 특정 이벤트가 발생했을 때, 취할 행동을 정의.\n",
        "\n",
        "- early_stopping_callback: 이 콜백은 모델의 성능이 더 이상 개선되지 않을 때 학습을 조기에 중단하도록 설정. 예를 들어, 검증 데이터에 대한 손실이 일정 기간 동안 개선되지 않으면 학습을 멈춘다. 이는 과적합을 방지하고 학습 시간을 단축시키는 데 도움이 된다.\n",
        "- checkpointer: 이 콜백은 모델의 중간 학습 상태를 파일로 저장하여, 학습 과정에서 가장 좋은 모델을 보존할 수 있게 한다. 이를 통해 나중에 모델을 재사용하거나, 학습 과정이 끝난 후 최적의 모델 상태로 복원할 수 있다.\n",
        "\n",
        "이 코드는 신경망 모델의 학습 과정을 세밀하게 제어하면서, 과적합을 방지하고, 학습 과정에서 모델의 최적 상태를 저장하는 방법을 보여준다."
      ],
      "metadata": {
        "id": "fKkdseBkz2oq"
      }
    },
    {
      "cell_type": "code",
      "source": [
        "# 학습이 언제 자동 중단 될지를 설정\n",
        "early_stopping_callback = EarlyStopping(monitor='val_loss', patience=30)\n",
        "\n",
        "# 최적화 모델이 저장될 폴더와 모델의 이름을 정함\n",
        "modelpath='/content/drive/MyDrive/kdt_240424/M6_딥러닝/dataset/model/bestmodel.keras'\n",
        "\n",
        "# 최적화 모델을 업데이트하고 저장\n",
        "checkpointer = ModelCheckpoint(filepath=modelpath, monitor='val_loss', verbose=0, save_best_only=True)\n",
        "\n",
        "# 모델 실행\n",
        "history=model.fit(X_train, y_train, epochs=500, batch_size=500, verbose=1, validation_split=0.25, callbacks=[early_stopping_callback, checkpointer])\n",
        "#"
      ],
      "metadata": {
        "colab": {
          "base_uri": "https://localhost:8080/"
        },
        "id": "Z0BPVeqXz3Ci",
        "outputId": "27702806-5806-4585-9f0c-6340ae076837"
      },
      "execution_count": null,
      "outputs": [
        {
          "output_type": "stream",
          "name": "stdout",
          "text": [
            "Epoch 1/500\n",
            "\u001b[1m8/8\u001b[0m \u001b[32m━━━━━━━━━━━━━━━━━━━━\u001b[0m\u001b[37m\u001b[0m \u001b[1m0s\u001b[0m 23ms/step - accuracy: 0.9861 - loss: 0.0573 - val_accuracy: 0.9846 - val_loss: 0.0571\n",
            "Epoch 2/500\n",
            "\u001b[1m8/8\u001b[0m \u001b[32m━━━━━━━━━━━━━━━━━━━━\u001b[0m\u001b[37m\u001b[0m \u001b[1m0s\u001b[0m 17ms/step - accuracy: 0.9861 - loss: 0.0573 - val_accuracy: 0.9854 - val_loss: 0.0571\n",
            "Epoch 3/500\n",
            "\u001b[1m8/8\u001b[0m \u001b[32m━━━━━━━━━━━━━━━━━━━━\u001b[0m\u001b[37m\u001b[0m \u001b[1m0s\u001b[0m 9ms/step - accuracy: 0.9861 - loss: 0.0573 - val_accuracy: 0.9846 - val_loss: 0.0571\n",
            "Epoch 4/500\n",
            "\u001b[1m8/8\u001b[0m \u001b[32m━━━━━━━━━━━━━━━━━━━━\u001b[0m\u001b[37m\u001b[0m \u001b[1m0s\u001b[0m 8ms/step - accuracy: 0.9861 - loss: 0.0573 - val_accuracy: 0.9854 - val_loss: 0.0571\n",
            "Epoch 5/500\n",
            "\u001b[1m8/8\u001b[0m \u001b[32m━━━━━━━━━━━━━━━━━━━━\u001b[0m\u001b[37m\u001b[0m \u001b[1m0s\u001b[0m 7ms/step - accuracy: 0.9861 - loss: 0.0572 - val_accuracy: 0.9846 - val_loss: 0.0571\n",
            "Epoch 6/500\n",
            "\u001b[1m8/8\u001b[0m \u001b[32m━━━━━━━━━━━━━━━━━━━━\u001b[0m\u001b[37m\u001b[0m \u001b[1m0s\u001b[0m 9ms/step - accuracy: 0.9861 - loss: 0.0573 - val_accuracy: 0.9854 - val_loss: 0.0571\n",
            "Epoch 7/500\n",
            "\u001b[1m8/8\u001b[0m \u001b[32m━━━━━━━━━━━━━━━━━━━━\u001b[0m\u001b[37m\u001b[0m \u001b[1m0s\u001b[0m 6ms/step - accuracy: 0.9861 - loss: 0.0572 - val_accuracy: 0.9854 - val_loss: 0.0573\n",
            "Epoch 8/500\n",
            "\u001b[1m8/8\u001b[0m \u001b[32m━━━━━━━━━━━━━━━━━━━━\u001b[0m\u001b[37m\u001b[0m \u001b[1m0s\u001b[0m 10ms/step - accuracy: 0.9861 - loss: 0.0572 - val_accuracy: 0.9854 - val_loss: 0.0575\n",
            "Epoch 9/500\n",
            "\u001b[1m8/8\u001b[0m \u001b[32m━━━━━━━━━━━━━━━━━━━━\u001b[0m\u001b[37m\u001b[0m \u001b[1m0s\u001b[0m 7ms/step - accuracy: 0.9861 - loss: 0.0572 - val_accuracy: 0.9854 - val_loss: 0.0578\n",
            "Epoch 10/500\n",
            "\u001b[1m8/8\u001b[0m \u001b[32m━━━━━━━━━━━━━━━━━━━━\u001b[0m\u001b[37m\u001b[0m \u001b[1m0s\u001b[0m 16ms/step - accuracy: 0.9861 - loss: 0.0572 - val_accuracy: 0.9854 - val_loss: 0.0564\n",
            "Epoch 11/500\n",
            "\u001b[1m8/8\u001b[0m \u001b[32m━━━━━━━━━━━━━━━━━━━━\u001b[0m\u001b[37m\u001b[0m \u001b[1m0s\u001b[0m 16ms/step - accuracy: 0.9862 - loss: 0.0573 - val_accuracy: 0.9838 - val_loss: 0.0563\n",
            "Epoch 12/500\n",
            "\u001b[1m8/8\u001b[0m \u001b[32m━━━━━━━━━━━━━━━━━━━━\u001b[0m\u001b[37m\u001b[0m \u001b[1m0s\u001b[0m 6ms/step - accuracy: 0.9862 - loss: 0.0575 - val_accuracy: 0.9838 - val_loss: 0.0563\n",
            "Epoch 13/500\n",
            "\u001b[1m8/8\u001b[0m \u001b[32m━━━━━━━━━━━━━━━━━━━━\u001b[0m\u001b[37m\u001b[0m \u001b[1m0s\u001b[0m 9ms/step - accuracy: 0.9853 - loss: 0.0574 - val_accuracy: 0.9838 - val_loss: 0.0565\n",
            "Epoch 14/500\n",
            "\u001b[1m8/8\u001b[0m \u001b[32m━━━━━━━━━━━━━━━━━━━━\u001b[0m\u001b[37m\u001b[0m \u001b[1m0s\u001b[0m 9ms/step - accuracy: 0.9853 - loss: 0.0573 - val_accuracy: 0.9846 - val_loss: 0.0570\n",
            "Epoch 15/500\n",
            "\u001b[1m8/8\u001b[0m \u001b[32m━━━━━━━━━━━━━━━━━━━━\u001b[0m\u001b[37m\u001b[0m \u001b[1m0s\u001b[0m 9ms/step - accuracy: 0.9853 - loss: 0.0572 - val_accuracy: 0.9846 - val_loss: 0.0576\n",
            "Epoch 16/500\n",
            "\u001b[1m8/8\u001b[0m \u001b[32m━━━━━━━━━━━━━━━━━━━━\u001b[0m\u001b[37m\u001b[0m \u001b[1m0s\u001b[0m 6ms/step - accuracy: 0.9861 - loss: 0.0571 - val_accuracy: 0.9854 - val_loss: 0.0578\n",
            "Epoch 17/500\n",
            "\u001b[1m8/8\u001b[0m \u001b[32m━━━━━━━━━━━━━━━━━━━━\u001b[0m\u001b[37m\u001b[0m \u001b[1m0s\u001b[0m 10ms/step - accuracy: 0.9859 - loss: 0.0571 - val_accuracy: 0.9854 - val_loss: 0.0578\n",
            "Epoch 18/500\n",
            "\u001b[1m8/8\u001b[0m \u001b[32m━━━━━━━━━━━━━━━━━━━━\u001b[0m\u001b[37m\u001b[0m \u001b[1m0s\u001b[0m 9ms/step - accuracy: 0.9861 - loss: 0.0570 - val_accuracy: 0.9854 - val_loss: 0.0577\n",
            "Epoch 19/500\n",
            "\u001b[1m8/8\u001b[0m \u001b[32m━━━━━━━━━━━━━━━━━━━━\u001b[0m\u001b[37m\u001b[0m \u001b[1m0s\u001b[0m 7ms/step - accuracy: 0.9861 - loss: 0.0570 - val_accuracy: 0.9854 - val_loss: 0.0576\n",
            "Epoch 20/500\n",
            "\u001b[1m8/8\u001b[0m \u001b[32m━━━━━━━━━━━━━━━━━━━━\u001b[0m\u001b[37m\u001b[0m \u001b[1m0s\u001b[0m 9ms/step - accuracy: 0.9862 - loss: 0.0570 - val_accuracy: 0.9854 - val_loss: 0.0564\n",
            "Epoch 21/500\n",
            "\u001b[1m8/8\u001b[0m \u001b[32m━━━━━━━━━━━━━━━━━━━━\u001b[0m\u001b[37m\u001b[0m \u001b[1m0s\u001b[0m 14ms/step - accuracy: 0.9862 - loss: 0.0571 - val_accuracy: 0.9838 - val_loss: 0.0561\n",
            "Epoch 22/500\n",
            "\u001b[1m8/8\u001b[0m \u001b[32m━━━━━━━━━━━━━━━━━━━━\u001b[0m\u001b[37m\u001b[0m \u001b[1m0s\u001b[0m 9ms/step - accuracy: 0.9855 - loss: 0.0572 - val_accuracy: 0.9846 - val_loss: 0.0565\n",
            "Epoch 23/500\n",
            "\u001b[1m8/8\u001b[0m \u001b[32m━━━━━━━━━━━━━━━━━━━━\u001b[0m\u001b[37m\u001b[0m \u001b[1m0s\u001b[0m 7ms/step - accuracy: 0.9853 - loss: 0.0571 - val_accuracy: 0.9846 - val_loss: 0.0573\n",
            "Epoch 24/500\n",
            "\u001b[1m8/8\u001b[0m \u001b[32m━━━━━━━━━━━━━━━━━━━━\u001b[0m\u001b[37m\u001b[0m \u001b[1m0s\u001b[0m 7ms/step - accuracy: 0.9853 - loss: 0.0570 - val_accuracy: 0.9854 - val_loss: 0.0578\n",
            "Epoch 25/500\n",
            "\u001b[1m8/8\u001b[0m \u001b[32m━━━━━━━━━━━━━━━━━━━━\u001b[0m\u001b[37m\u001b[0m \u001b[1m0s\u001b[0m 7ms/step - accuracy: 0.9861 - loss: 0.0569 - val_accuracy: 0.9854 - val_loss: 0.0580\n",
            "Epoch 26/500\n",
            "\u001b[1m8/8\u001b[0m \u001b[32m━━━━━━━━━━━━━━━━━━━━\u001b[0m\u001b[37m\u001b[0m \u001b[1m0s\u001b[0m 10ms/step - accuracy: 0.9861 - loss: 0.0569 - val_accuracy: 0.9854 - val_loss: 0.0581\n",
            "Epoch 27/500\n",
            "\u001b[1m8/8\u001b[0m \u001b[32m━━━━━━━━━━━━━━━━━━━━\u001b[0m\u001b[37m\u001b[0m \u001b[1m0s\u001b[0m 9ms/step - accuracy: 0.9861 - loss: 0.0569 - val_accuracy: 0.9854 - val_loss: 0.0578\n",
            "Epoch 28/500\n",
            "\u001b[1m8/8\u001b[0m \u001b[32m━━━━━━━━━━━━━━━━━━━━\u001b[0m\u001b[37m\u001b[0m \u001b[1m0s\u001b[0m 7ms/step - accuracy: 0.9861 - loss: 0.0569 - val_accuracy: 0.9854 - val_loss: 0.0565\n",
            "Epoch 29/500\n",
            "\u001b[1m8/8\u001b[0m \u001b[32m━━━━━━━━━━━━━━━━━━━━\u001b[0m\u001b[37m\u001b[0m \u001b[1m0s\u001b[0m 7ms/step - accuracy: 0.9862 - loss: 0.0570 - val_accuracy: 0.9838 - val_loss: 0.0561\n",
            "Epoch 30/500\n",
            "\u001b[1m8/8\u001b[0m \u001b[32m━━━━━━━━━━━━━━━━━━━━\u001b[0m\u001b[37m\u001b[0m \u001b[1m0s\u001b[0m 9ms/step - accuracy: 0.9861 - loss: 0.0571 - val_accuracy: 0.9846 - val_loss: 0.0564\n",
            "Epoch 31/500\n",
            "\u001b[1m8/8\u001b[0m \u001b[32m━━━━━━━━━━━━━━━━━━━━\u001b[0m\u001b[37m\u001b[0m \u001b[1m0s\u001b[0m 9ms/step - accuracy: 0.9859 - loss: 0.0570 - val_accuracy: 0.9846 - val_loss: 0.0570\n",
            "Epoch 32/500\n",
            "\u001b[1m8/8\u001b[0m \u001b[32m━━━━━━━━━━━━━━━━━━━━\u001b[0m\u001b[37m\u001b[0m \u001b[1m0s\u001b[0m 7ms/step - accuracy: 0.9853 - loss: 0.0569 - val_accuracy: 0.9854 - val_loss: 0.0576\n",
            "Epoch 33/500\n",
            "\u001b[1m8/8\u001b[0m \u001b[32m━━━━━━━━━━━━━━━━━━━━\u001b[0m\u001b[37m\u001b[0m \u001b[1m0s\u001b[0m 6ms/step - accuracy: 0.9861 - loss: 0.0568 - val_accuracy: 0.9854 - val_loss: 0.0579\n",
            "Epoch 34/500\n",
            "\u001b[1m8/8\u001b[0m \u001b[32m━━━━━━━━━━━━━━━━━━━━\u001b[0m\u001b[37m\u001b[0m \u001b[1m0s\u001b[0m 7ms/step - accuracy: 0.9861 - loss: 0.0568 - val_accuracy: 0.9854 - val_loss: 0.0578\n",
            "Epoch 35/500\n",
            "\u001b[1m8/8\u001b[0m \u001b[32m━━━━━━━━━━━━━━━━━━━━\u001b[0m\u001b[37m\u001b[0m \u001b[1m0s\u001b[0m 8ms/step - accuracy: 0.9861 - loss: 0.0568 - val_accuracy: 0.9854 - val_loss: 0.0577\n",
            "Epoch 36/500\n",
            "\u001b[1m8/8\u001b[0m \u001b[32m━━━━━━━━━━━━━━━━━━━━\u001b[0m\u001b[37m\u001b[0m \u001b[1m0s\u001b[0m 11ms/step - accuracy: 0.9861 - loss: 0.0568 - val_accuracy: 0.9854 - val_loss: 0.0576\n",
            "Epoch 37/500\n",
            "\u001b[1m8/8\u001b[0m \u001b[32m━━━━━━━━━━━━━━━━━━━━\u001b[0m\u001b[37m\u001b[0m \u001b[1m0s\u001b[0m 7ms/step - accuracy: 0.9861 - loss: 0.0568 - val_accuracy: 0.9854 - val_loss: 0.0576\n",
            "Epoch 38/500\n",
            "\u001b[1m8/8\u001b[0m \u001b[32m━━━━━━━━━━━━━━━━━━━━\u001b[0m\u001b[37m\u001b[0m \u001b[1m0s\u001b[0m 9ms/step - accuracy: 0.9861 - loss: 0.0568 - val_accuracy: 0.9854 - val_loss: 0.0575\n",
            "Epoch 39/500\n",
            "\u001b[1m8/8\u001b[0m \u001b[32m━━━━━━━━━━━━━━━━━━━━\u001b[0m\u001b[37m\u001b[0m \u001b[1m0s\u001b[0m 7ms/step - accuracy: 0.9861 - loss: 0.0567 - val_accuracy: 0.9854 - val_loss: 0.0575\n",
            "Epoch 40/500\n",
            "\u001b[1m8/8\u001b[0m \u001b[32m━━━━━━━━━━━━━━━━━━━━\u001b[0m\u001b[37m\u001b[0m \u001b[1m0s\u001b[0m 6ms/step - accuracy: 0.9861 - loss: 0.0568 - val_accuracy: 0.9854 - val_loss: 0.0565\n",
            "Epoch 41/500\n",
            "\u001b[1m8/8\u001b[0m \u001b[32m━━━━━━━━━━━━━━━━━━━━\u001b[0m\u001b[37m\u001b[0m \u001b[1m0s\u001b[0m 13ms/step - accuracy: 0.9861 - loss: 0.0568 - val_accuracy: 0.9846 - val_loss: 0.0561\n",
            "Epoch 42/500\n",
            "\u001b[1m8/8\u001b[0m \u001b[32m━━━━━━━━━━━━━━━━━━━━\u001b[0m\u001b[37m\u001b[0m \u001b[1m0s\u001b[0m 7ms/step - accuracy: 0.9855 - loss: 0.0569 - val_accuracy: 0.9846 - val_loss: 0.0563\n",
            "Epoch 43/500\n",
            "\u001b[1m8/8\u001b[0m \u001b[32m━━━━━━━━━━━━━━━━━━━━\u001b[0m\u001b[37m\u001b[0m \u001b[1m0s\u001b[0m 7ms/step - accuracy: 0.9859 - loss: 0.0568 - val_accuracy: 0.9846 - val_loss: 0.0570\n",
            "Epoch 44/500\n",
            "\u001b[1m8/8\u001b[0m \u001b[32m━━━━━━━━━━━━━━━━━━━━\u001b[0m\u001b[37m\u001b[0m \u001b[1m0s\u001b[0m 7ms/step - accuracy: 0.9855 - loss: 0.0568 - val_accuracy: 0.9854 - val_loss: 0.0575\n",
            "Epoch 45/500\n",
            "\u001b[1m8/8\u001b[0m \u001b[32m━━━━━━━━━━━━━━━━━━━━\u001b[0m\u001b[37m\u001b[0m \u001b[1m0s\u001b[0m 12ms/step - accuracy: 0.9862 - loss: 0.0567 - val_accuracy: 0.9854 - val_loss: 0.0579\n",
            "Epoch 46/500\n",
            "\u001b[1m8/8\u001b[0m \u001b[32m━━━━━━━━━━━━━━━━━━━━\u001b[0m\u001b[37m\u001b[0m \u001b[1m0s\u001b[0m 7ms/step - accuracy: 0.9860 - loss: 0.0567 - val_accuracy: 0.9854 - val_loss: 0.0579\n",
            "Epoch 47/500\n",
            "\u001b[1m8/8\u001b[0m \u001b[32m━━━━━━━━━━━━━━━━━━━━\u001b[0m\u001b[37m\u001b[0m \u001b[1m0s\u001b[0m 6ms/step - accuracy: 0.9861 - loss: 0.0566 - val_accuracy: 0.9854 - val_loss: 0.0569\n",
            "Epoch 48/500\n",
            "\u001b[1m8/8\u001b[0m \u001b[32m━━━━━━━━━━━━━━━━━━━━\u001b[0m\u001b[37m\u001b[0m \u001b[1m0s\u001b[0m 7ms/step - accuracy: 0.9860 - loss: 0.0567 - val_accuracy: 0.9854 - val_loss: 0.0563\n",
            "Epoch 49/500\n",
            "\u001b[1m8/8\u001b[0m \u001b[32m━━━━━━━━━━━━━━━━━━━━\u001b[0m\u001b[37m\u001b[0m \u001b[1m0s\u001b[0m 7ms/step - accuracy: 0.9861 - loss: 0.0567 - val_accuracy: 0.9854 - val_loss: 0.0567\n",
            "Epoch 50/500\n",
            "\u001b[1m8/8\u001b[0m \u001b[32m━━━━━━━━━━━━━━━━━━━━\u001b[0m\u001b[37m\u001b[0m \u001b[1m0s\u001b[0m 6ms/step - accuracy: 0.9855 - loss: 0.0567 - val_accuracy: 0.9854 - val_loss: 0.0577\n",
            "Epoch 51/500\n",
            "\u001b[1m8/8\u001b[0m \u001b[32m━━━━━━━━━━━━━━━━━━━━\u001b[0m\u001b[37m\u001b[0m \u001b[1m0s\u001b[0m 6ms/step - accuracy: 0.9861 - loss: 0.0567 - val_accuracy: 0.9854 - val_loss: 0.0577\n",
            "Epoch 52/500\n",
            "\u001b[1m8/8\u001b[0m \u001b[32m━━━━━━━━━━━━━━━━━━━━\u001b[0m\u001b[37m\u001b[0m \u001b[1m0s\u001b[0m 9ms/step - accuracy: 0.9861 - loss: 0.0566 - val_accuracy: 0.9854 - val_loss: 0.0578\n",
            "Epoch 53/500\n",
            "\u001b[1m8/8\u001b[0m \u001b[32m━━━━━━━━━━━━━━━━━━━━\u001b[0m\u001b[37m\u001b[0m \u001b[1m0s\u001b[0m 7ms/step - accuracy: 0.9861 - loss: 0.0565 - val_accuracy: 0.9854 - val_loss: 0.0579\n",
            "Epoch 54/500\n",
            "\u001b[1m8/8\u001b[0m \u001b[32m━━━━━━━━━━━━━━━━━━━━\u001b[0m\u001b[37m\u001b[0m \u001b[1m0s\u001b[0m 8ms/step - accuracy: 0.9861 - loss: 0.0565 - val_accuracy: 0.9854 - val_loss: 0.0568\n",
            "Epoch 55/500\n",
            "\u001b[1m8/8\u001b[0m \u001b[32m━━━━━━━━━━━━━━━━━━━━\u001b[0m\u001b[37m\u001b[0m \u001b[1m0s\u001b[0m 9ms/step - accuracy: 0.9861 - loss: 0.0566 - val_accuracy: 0.9854 - val_loss: 0.0562\n",
            "Epoch 56/500\n",
            "\u001b[1m8/8\u001b[0m \u001b[32m━━━━━━━━━━━━━━━━━━━━\u001b[0m\u001b[37m\u001b[0m \u001b[1m0s\u001b[0m 10ms/step - accuracy: 0.9861 - loss: 0.0566 - val_accuracy: 0.9854 - val_loss: 0.0564\n",
            "Epoch 57/500\n",
            "\u001b[1m8/8\u001b[0m \u001b[32m━━━━━━━━━━━━━━━━━━━━\u001b[0m\u001b[37m\u001b[0m \u001b[1m0s\u001b[0m 9ms/step - accuracy: 0.9855 - loss: 0.0566 - val_accuracy: 0.9854 - val_loss: 0.0569\n",
            "Epoch 58/500\n",
            "\u001b[1m8/8\u001b[0m \u001b[32m━━━━━━━━━━━━━━━━━━━━\u001b[0m\u001b[37m\u001b[0m \u001b[1m0s\u001b[0m 8ms/step - accuracy: 0.9861 - loss: 0.0565 - val_accuracy: 0.9854 - val_loss: 0.0573\n",
            "Epoch 59/500\n",
            "\u001b[1m8/8\u001b[0m \u001b[32m━━━━━━━━━━━━━━━━━━━━\u001b[0m\u001b[37m\u001b[0m \u001b[1m0s\u001b[0m 7ms/step - accuracy: 0.9861 - loss: 0.0565 - val_accuracy: 0.9854 - val_loss: 0.0577\n",
            "Epoch 60/500\n",
            "\u001b[1m8/8\u001b[0m \u001b[32m━━━━━━━━━━━━━━━━━━━━\u001b[0m\u001b[37m\u001b[0m \u001b[1m0s\u001b[0m 7ms/step - accuracy: 0.9862 - loss: 0.0565 - val_accuracy: 0.9854 - val_loss: 0.0578\n",
            "Epoch 61/500\n",
            "\u001b[1m8/8\u001b[0m \u001b[32m━━━━━━━━━━━━━━━━━━━━\u001b[0m\u001b[37m\u001b[0m \u001b[1m0s\u001b[0m 7ms/step - accuracy: 0.9860 - loss: 0.0565 - val_accuracy: 0.9854 - val_loss: 0.0578\n",
            "Epoch 62/500\n",
            "\u001b[1m8/8\u001b[0m \u001b[32m━━━━━━━━━━━━━━━━━━━━\u001b[0m\u001b[37m\u001b[0m \u001b[1m0s\u001b[0m 8ms/step - accuracy: 0.9861 - loss: 0.0564 - val_accuracy: 0.9854 - val_loss: 0.0577\n",
            "Epoch 63/500\n",
            "\u001b[1m8/8\u001b[0m \u001b[32m━━━━━━━━━━━━━━━━━━━━\u001b[0m\u001b[37m\u001b[0m \u001b[1m0s\u001b[0m 9ms/step - accuracy: 0.9861 - loss: 0.0564 - val_accuracy: 0.9854 - val_loss: 0.0577\n",
            "Epoch 64/500\n",
            "\u001b[1m8/8\u001b[0m \u001b[32m━━━━━━━━━━━━━━━━━━━━\u001b[0m\u001b[37m\u001b[0m \u001b[1m0s\u001b[0m 9ms/step - accuracy: 0.9861 - loss: 0.0564 - val_accuracy: 0.9854 - val_loss: 0.0576\n",
            "Epoch 65/500\n",
            "\u001b[1m8/8\u001b[0m \u001b[32m━━━━━━━━━━━━━━━━━━━━\u001b[0m\u001b[37m\u001b[0m \u001b[1m0s\u001b[0m 10ms/step - accuracy: 0.9861 - loss: 0.0564 - val_accuracy: 0.9854 - val_loss: 0.0576\n",
            "Epoch 66/500\n",
            "\u001b[1m8/8\u001b[0m \u001b[32m━━━━━━━━━━━━━━━━━━━━\u001b[0m\u001b[37m\u001b[0m \u001b[1m0s\u001b[0m 7ms/step - accuracy: 0.9861 - loss: 0.0564 - val_accuracy: 0.9854 - val_loss: 0.0567\n",
            "Epoch 67/500\n",
            "\u001b[1m8/8\u001b[0m \u001b[32m━━━━━━━━━━━━━━━━━━━━\u001b[0m\u001b[37m\u001b[0m \u001b[1m0s\u001b[0m 9ms/step - accuracy: 0.9861 - loss: 0.0565 - val_accuracy: 0.9854 - val_loss: 0.0562\n",
            "Epoch 68/500\n",
            "\u001b[1m8/8\u001b[0m \u001b[32m━━━━━━━━━━━━━━━━━━━━\u001b[0m\u001b[37m\u001b[0m \u001b[1m0s\u001b[0m 10ms/step - accuracy: 0.9861 - loss: 0.0565 - val_accuracy: 0.9854 - val_loss: 0.0565\n",
            "Epoch 69/500\n",
            "\u001b[1m8/8\u001b[0m \u001b[32m━━━━━━━━━━━━━━━━━━━━\u001b[0m\u001b[37m\u001b[0m \u001b[1m0s\u001b[0m 7ms/step - accuracy: 0.9855 - loss: 0.0565 - val_accuracy: 0.9854 - val_loss: 0.0569\n",
            "Epoch 70/500\n",
            "\u001b[1m8/8\u001b[0m \u001b[32m━━━━━━━━━━━━━━━━━━━━\u001b[0m\u001b[37m\u001b[0m \u001b[1m0s\u001b[0m 6ms/step - accuracy: 0.9861 - loss: 0.0564 - val_accuracy: 0.9854 - val_loss: 0.0574\n",
            "Epoch 71/500\n",
            "\u001b[1m8/8\u001b[0m \u001b[32m━━━━━━━━━━━━━━━━━━━━\u001b[0m\u001b[37m\u001b[0m \u001b[1m0s\u001b[0m 9ms/step - accuracy: 0.9861 - loss: 0.0564 - val_accuracy: 0.9854 - val_loss: 0.0577\n"
          ]
        }
      ]
    },
    {
      "cell_type": "code",
      "source": [
        "# 테스트 결과 출력\n",
        "\n",
        "score = model.evaluate(X_test, y_test)\n",
        "print('Test accuracy:', score[1])"
      ],
      "metadata": {
        "colab": {
          "base_uri": "https://localhost:8080/"
        },
        "id": "7fAc57GY1aGG",
        "outputId": "4633e6b3-b986-4893-e710-bfdc201a0780"
      },
      "execution_count": null,
      "outputs": [
        {
          "output_type": "stream",
          "name": "stdout",
          "text": [
            "\u001b[1m41/41\u001b[0m \u001b[32m━━━━━━━━━━━━━━━━━━━━\u001b[0m\u001b[37m\u001b[0m \u001b[1m0s\u001b[0m 2ms/step - accuracy: 0.9906 - loss: 0.0395\n",
            "Test accuracy: 0.989230751991272\n"
          ]
        }
      ]
    },
    {
      "cell_type": "code",
      "source": [
        "# 저장된 모델을 로드\n",
        "from tensorflow.keras.models import load_model\n",
        "\n",
        "# 저장된 모델 로드\n",
        "\n",
        "best_model_path = '/content/drive/MyDrive/kdt_240424/M6_딥러닝/dataset/model/bestmodel.keras'\n",
        "model = load_model(best_model_path)\n",
        "\n",
        "# 모델 요약 출략 (선택 사항)\n",
        "model.summary()"
      ],
      "metadata": {
        "colab": {
          "base_uri": "https://localhost:8080/",
          "height": 246
        },
        "id": "AZhJXKFL1nrd",
        "outputId": "3b289a2c-56ba-4abf-ec70-67c01ed01310"
      },
      "execution_count": null,
      "outputs": [
        {
          "output_type": "display_data",
          "data": {
            "text/plain": [
              "\u001b[1mModel: \"sequential_5\"\u001b[0m\n"
            ],
            "text/html": [
              "<pre style=\"white-space:pre;overflow-x:auto;line-height:normal;font-family:Menlo,'DejaVu Sans Mono',consolas,'Courier New',monospace\"><span style=\"font-weight: bold\">Model: \"sequential_5\"</span>\n",
              "</pre>\n"
            ]
          },
          "metadata": {}
        },
        {
          "output_type": "display_data",
          "data": {
            "text/plain": [
              "┏━━━━━━━━━━━━━━━━━━━━━━━━━━━━━━━━━━━━━━┳━━━━━━━━━━━━━━━━━━━━━━━━━━━━━┳━━━━━━━━━━━━━━━━━┓\n",
              "┃\u001b[1m \u001b[0m\u001b[1mLayer (type)                        \u001b[0m\u001b[1m \u001b[0m┃\u001b[1m \u001b[0m\u001b[1mOutput Shape               \u001b[0m\u001b[1m \u001b[0m┃\u001b[1m \u001b[0m\u001b[1m        Param #\u001b[0m\u001b[1m \u001b[0m┃\n",
              "┡━━━━━━━━━━━━━━━━━━━━━━━━━━━━━━━━━━━━━━╇━━━━━━━━━━━━━━━━━━━━━━━━━━━━━╇━━━━━━━━━━━━━━━━━┩\n",
              "│ dense_20 (\u001b[38;5;33mDense\u001b[0m)                     │ (\u001b[38;5;45mNone\u001b[0m, \u001b[38;5;34m12\u001b[0m)                  │             \u001b[38;5;34m156\u001b[0m │\n",
              "├──────────────────────────────────────┼─────────────────────────────┼─────────────────┤\n",
              "│ dense_21 (\u001b[38;5;33mDense\u001b[0m)                     │ (\u001b[38;5;45mNone\u001b[0m, \u001b[38;5;34m8\u001b[0m)                   │             \u001b[38;5;34m104\u001b[0m │\n",
              "├──────────────────────────────────────┼─────────────────────────────┼─────────────────┤\n",
              "│ dense_22 (\u001b[38;5;33mDense\u001b[0m)                     │ (\u001b[38;5;45mNone\u001b[0m, \u001b[38;5;34m1\u001b[0m)                   │               \u001b[38;5;34m9\u001b[0m │\n",
              "└──────────────────────────────────────┴─────────────────────────────┴─────────────────┘\n"
            ],
            "text/html": [
              "<pre style=\"white-space:pre;overflow-x:auto;line-height:normal;font-family:Menlo,'DejaVu Sans Mono',consolas,'Courier New',monospace\">┏━━━━━━━━━━━━━━━━━━━━━━━━━━━━━━━━━━━━━━┳━━━━━━━━━━━━━━━━━━━━━━━━━━━━━┳━━━━━━━━━━━━━━━━━┓\n",
              "┃<span style=\"font-weight: bold\"> Layer (type)                         </span>┃<span style=\"font-weight: bold\"> Output Shape                </span>┃<span style=\"font-weight: bold\">         Param # </span>┃\n",
              "┡━━━━━━━━━━━━━━━━━━━━━━━━━━━━━━━━━━━━━━╇━━━━━━━━━━━━━━━━━━━━━━━━━━━━━╇━━━━━━━━━━━━━━━━━┩\n",
              "│ dense_20 (<span style=\"color: #0087ff; text-decoration-color: #0087ff\">Dense</span>)                     │ (<span style=\"color: #00d7ff; text-decoration-color: #00d7ff\">None</span>, <span style=\"color: #00af00; text-decoration-color: #00af00\">12</span>)                  │             <span style=\"color: #00af00; text-decoration-color: #00af00\">156</span> │\n",
              "├──────────────────────────────────────┼─────────────────────────────┼─────────────────┤\n",
              "│ dense_21 (<span style=\"color: #0087ff; text-decoration-color: #0087ff\">Dense</span>)                     │ (<span style=\"color: #00d7ff; text-decoration-color: #00d7ff\">None</span>, <span style=\"color: #00af00; text-decoration-color: #00af00\">8</span>)                   │             <span style=\"color: #00af00; text-decoration-color: #00af00\">104</span> │\n",
              "├──────────────────────────────────────┼─────────────────────────────┼─────────────────┤\n",
              "│ dense_22 (<span style=\"color: #0087ff; text-decoration-color: #0087ff\">Dense</span>)                     │ (<span style=\"color: #00d7ff; text-decoration-color: #00d7ff\">None</span>, <span style=\"color: #00af00; text-decoration-color: #00af00\">1</span>)                   │               <span style=\"color: #00af00; text-decoration-color: #00af00\">9</span> │\n",
              "└──────────────────────────────────────┴─────────────────────────────┴─────────────────┘\n",
              "</pre>\n"
            ]
          },
          "metadata": {}
        },
        {
          "output_type": "display_data",
          "data": {
            "text/plain": [
              "\u001b[1m Total params: \u001b[0m\u001b[38;5;34m809\u001b[0m (3.16 KB)\n"
            ],
            "text/html": [
              "<pre style=\"white-space:pre;overflow-x:auto;line-height:normal;font-family:Menlo,'DejaVu Sans Mono',consolas,'Courier New',monospace\"><span style=\"font-weight: bold\"> Total params: </span><span style=\"color: #00af00; text-decoration-color: #00af00\">809</span> (3.16 KB)\n",
              "</pre>\n"
            ]
          },
          "metadata": {}
        },
        {
          "output_type": "display_data",
          "data": {
            "text/plain": [
              "\u001b[1m Trainable params: \u001b[0m\u001b[38;5;34m269\u001b[0m (1.05 KB)\n"
            ],
            "text/html": [
              "<pre style=\"white-space:pre;overflow-x:auto;line-height:normal;font-family:Menlo,'DejaVu Sans Mono',consolas,'Courier New',monospace\"><span style=\"font-weight: bold\"> Trainable params: </span><span style=\"color: #00af00; text-decoration-color: #00af00\">269</span> (1.05 KB)\n",
              "</pre>\n"
            ]
          },
          "metadata": {}
        },
        {
          "output_type": "display_data",
          "data": {
            "text/plain": [
              "\u001b[1m Non-trainable params: \u001b[0m\u001b[38;5;34m0\u001b[0m (0.00 B)\n"
            ],
            "text/html": [
              "<pre style=\"white-space:pre;overflow-x:auto;line-height:normal;font-family:Menlo,'DejaVu Sans Mono',consolas,'Courier New',monospace\"><span style=\"font-weight: bold\"> Non-trainable params: </span><span style=\"color: #00af00; text-decoration-color: #00af00\">0</span> (0.00 B)\n",
              "</pre>\n"
            ]
          },
          "metadata": {}
        },
        {
          "output_type": "display_data",
          "data": {
            "text/plain": [
              "\u001b[1m Optimizer params: \u001b[0m\u001b[38;5;34m540\u001b[0m (2.11 KB)\n"
            ],
            "text/html": [
              "<pre style=\"white-space:pre;overflow-x:auto;line-height:normal;font-family:Menlo,'DejaVu Sans Mono',consolas,'Courier New',monospace\"><span style=\"font-weight: bold\"> Optimizer params: </span><span style=\"color: #00af00; text-decoration-color: #00af00\">540</span> (2.11 KB)\n",
              "</pre>\n"
            ]
          },
          "metadata": {}
        }
      ]
    }
  ]
}