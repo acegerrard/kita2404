{
  "nbformat": 4,
  "nbformat_minor": 0,
  "metadata": {
    "colab": {
      "provenance": []
    },
    "kernelspec": {
      "name": "python3",
      "display_name": "Python 3"
    },
    "language_info": {
      "name": "python"
    }
  },
  "cells": [
    {
      "cell_type": "markdown",
      "source": [
        "## 분류 평가\n",
        "\n",
        "분류 모델 평가 지표\n",
        "\n",
        "정확도(Accuracy), 정밀도(Precision), 재현율(Recall), F1 Score, ROC AUC. 이러한 지표들은 모델의 성능을 다양한 관점에서 평가하는 데 중요.\n",
        "\n",
        "정확도 (Accuracy):\n",
        "- 정확도는 가장 직관적인 분류 성능 평가 지표. 모델이 전체 데이터 중 얼마나 정확하게 예측했는지를 나타낸다.\n",
        "- 계산 방법: (정확히 예측된 데이터의 수) / (전체 데이터의 수)\n",
        "- (TP + TN) / (TP + TN + FP + FN)\n",
        "\n",
        "정밀도 (Precision):\n",
        "- 정밀도는 양성(Positive)으로 예측된 데이터 중 실제로 양성인 데이터의 비율. 즉, 모델이 '양성'이라고 예측한 것들 중 실제 '양성'인 경우의 비율.\n",
        "- 계산 방법: TP / (TP + FP)\n",
        "여기서 TP(True Positive)는 실제 양성을 양성으로 올바르게 예측한 경우, FP(False Positive)는 실제 음성을 잘못해서 양성으로 예측한 경우.  P: 예측 , 양성이 기준\n",
        "- 양성으로 예측한게 정밀한 경우\n",
        "\n",
        "재현율 (Recall) 또는 민감도 (Sensitivity):\n",
        "- 재현율은 실제 양성인 데이터 중 모델이 양성으로 올바르게 예측한 데이터의 비율. 즉, 실제 '양성'인 경우들 중 모델이 얼마나 잘 잡아내는지를 나타낸다.\n",
        "- 계산 방법: TP / (TP + FN)\n",
        "여기서 FN(False Negative)는 실제 양성을 잘못해서 음성으로 예측한 경우.\n",
        "\n",
        "F1 Score:\n",
        "- F1 Score는 정밀도와 재현율의 조화 평균(harmonic mean). 모델이 양성 데이터를 얼마나 잘 예측하는지에 대한 전반적인 측정치로, 특히 불균형 데이터셋에서 유용.\n",
        "- 계산 방법: 2 * (Precision * Recall) / (Precision + Recall)\n",
        "\n",
        "ROC AUC (Receiver Operating Characteristic - Area Under Curve):\n",
        "- ROC 곡선은 모델이 양성 클래스를 어떻게 잘 예측하는지에 대한 성능을 그래프로 나타낸 것. 이 곡선은 재현율과 1-특이성(실제 음성 중 잘못 양성으로 예측한 비율)의 관계를 나타낸다.\n",
        "- AUC(Area Under the ROC Curve) 값은 ROC 곡선 아래의 면적을 의미하며, 이 값이 클수록 모델의 성능이 좋다고 평가. AUC는 0과 1 사이의 값을 가지며, 1에 가까울수록 더 좋은 모델."
      ],
      "metadata": {
        "id": "uyFLpdOVHzjH"
      }
    },
    {
      "cell_type": "markdown",
      "source": [
        "\n",
        "* TP, FP, FN, TN는 예측 클래스와 실제 클래스의 Positive 결정 값과 Negative 결정 값의 결합에 따라 결정\n",
        "* 앞문자 True/False는 예측값과 실제값이 같은가/틀린가를 의미하고 뒤 문자 Negative/Positive는 예측 결과 값이 부정/긍정을 의미\n",
        "* TN는 예측값을 Negative 값 0으로 예측했고 실제값 역시 Negative 값 0\n",
        "* FP는 예측값을 Positive 값 1로 예측했고 실제값은 Negative 값 0\n",
        "* FN은 예측값을 Negative 값 0으로 예측했고 실제값은 Positive 값 1\n",
        "* TP는 예측값을 Positive 값 1로 예측했고 실제값 역시 Positive 값 1\n",
        "* 정확도 = (TP + TN) / ( TP + TN + FP + FN)\n",
        "* 정밀도 = TP / ( TP + FP)\n",
        "* 재현율 = TP / ( TP + FN) : 정밀도와 재현율이 어느 한쪽으로 치우치지 않는 수치를 나타낼때 높아짐.\n",
        "* F1 = 2 * ( 정밀도 * 재현율) / (정밀도 + 재현율)\n",
        "* 정밀도와 재현율은 Positive 데이터 세트의 예측 성능에 좀 더 초점을 맞춘 평가 지표\n",
        "* 재현율이 중요 지표인 경우는 실제 Positive 양성 데이터를 Negative로 잘못 판단하게 되면 업무상 큰 영향이 발생하는 경우(ex. 보험사기, 암진단)\n",
        "* 정밀도가 더 중요한 지표인 사례는 스팸 메일 여부를 판단하는 경우로 스팸 메일이 아닌데 스팸 메일로 분류해서 업무 차질 발생\n"
      ],
      "metadata": {
        "id": "v5a4S46WH_xs"
      }
    },
    {
      "cell_type": "markdown",
      "source": [
        "#### 정밀도/제현율 트레이드오프\n",
        "* 정밀도 또는 재현율이 특별히 강조돼야 할 경우 분류의 결정 임곗값(Threshold)을 조정해 정밀도 또는 재현율의 수치를 높일 수 있음\n",
        "* 정밀도와 재현율은 한쪽을 높이면 다른 하나의 수치는 낮아지므로 트레이드오프(Trade-off) 관계임\n",
        "\n",
        "#### 예측 확률을 반환하는 predict_proba()\n",
        "* 사이킷런 분류 알고리즘은 예측 데이터가 특정 레이블(결정 클래스 값)에 속하는지를 계산하기 위해 먼저 개별 레이블별로 결정 확률을 구함\n",
        "* 그리고 예측 확률이 큰 레이블 값으로 예측\n",
        "* 이진 분류 모델에서 특정 데이터가 0이 될 확률이 10%, 1이 될 확률이 90%로 예측되었다면 최종 예측은 더 큰 확률을 가진 1로 예측\n",
        "* 이진 분류에서는 이 임곗값을 0.5로 정하고 이 기준 값보다 확률이 크면 Positive, 작으면 Negative로 결정함\n",
        "* 사이킷런은 개별 데이터별로 예측 확률을 반환하는 메서드인 predict_prob()를 제공 - 학습이 완료된 사이킷런 Classifier 객체에서 호출\n",
        "* predict() 메서드와 유사하지만 단지 반환 결과가 예측 결과 클래스값이 아닌 예측 확률 결과임"
      ],
      "metadata": {
        "id": "A743IsdOIBWM"
      }
    },
    {
      "cell_type": "code",
      "source": [
        "# 일괄 전처리 사용자 함수(null 처리, 불필요 칼럼 삭제, 레이블 인코딩)\n",
        "import pandas as pd\n",
        "from sklearn.preprocessing import LabelEncoder\n",
        "\n",
        "# Null 처리 함수\n",
        "# Age(평균), Cabin('N'), Embarked('N'), Fare(0)\n",
        "def fillna(df):\n",
        "    df['Age'].fillna(df['Age'].mean(),inplace=True)\n",
        "    df['Cabin'].fillna('N',inplace=True)\n",
        "    df['Embarked'].fillna('N',inplace=True)\n",
        "    df['Fare'].fillna(0,inplace=True)\n",
        "    return df\n",
        "\n",
        "# 머신러닝 알고리즘에 불필요한 속성 제거\n",
        "# PassengerId, Name, Ticket(티켓번호)\n",
        "def drop_features(df):\n",
        "    df.drop(['PassengerId','Name','Ticket'],axis=1,inplace=True)\n",
        "    return df\n",
        "\n",
        "# 레이블 인코딩 수행.\n",
        "# Cabin(선실번호 첫문자만 추출 후 인코딩), Sex(성별), Embarked(중간 정착 항구)\n",
        "def format_features(df):\n",
        "    df['Cabin'] = df['Cabin'].str[:1]\n",
        "    features = ['Cabin','Sex','Embarked']\n",
        "    for feature in features:\n",
        "        le = LabelEncoder()\n",
        "        le = le.fit(df[feature])\n",
        "        df[feature] = le.transform(df[feature])\n",
        "    return df\n",
        "\n",
        "# 앞에서 설정한 Data Preprocessing 함수 호출\n",
        "def transform_features(df):\n",
        "    df = fillna(df)\n",
        "    df = drop_features(df)\n",
        "    df = format_features(df)\n",
        "    return df"
      ],
      "metadata": {
        "id": "E17XohyJOuEO"
      },
      "execution_count": 3,
      "outputs": []
    },
    {
      "cell_type": "code",
      "source": [
        "from google.colab import drive\n",
        "drive.mount('/content/drive')"
      ],
      "metadata": {
        "colab": {
          "base_uri": "https://localhost:8080/"
        },
        "id": "tAfpT7m_O_d9",
        "outputId": "e9c8748f-35d9-4269-f9e1-c4c5a649cd5d"
      },
      "execution_count": 4,
      "outputs": [
        {
          "output_type": "stream",
          "name": "stdout",
          "text": [
            "Drive already mounted at /content/drive; to attempt to forcibly remount, call drive.mount(\"/content/drive\", force_remount=True).\n"
          ]
        }
      ]
    },
    {
      "cell_type": "code",
      "source": [
        "from re import X\n",
        "import pandas as pd\n",
        "from sklearn.model_selection import train_test_split\n",
        "from sklearn.metrics import accuracy_score\n",
        "from sklearn.linear_model import LogisticRegression\n",
        "\n",
        "titanic_df = pd.read_csv('/content/drive/MyDrive/kdt_240424/M5_머신러닝/dataset/train (1).csv')\n",
        "y_titanic_df = titanic_df['Survived']\n",
        "X_titanic_df= titanic_df.drop('Survived', axis=1)\n",
        "X_titanic_df = transform_features(X_titanic_df)\n",
        "\n",
        "X_train, X_test, y_train, y_test=train_test_split(X_titanic_df, y_titanic_df, \\\n",
        "                                            test_size=0.2, random_state=11)\n",
        "# lbfgs는 \"Limited-memory Broybn-Fletcher-Goldfarb-Shanno의 약자로 메모리 사용량을 줄이는데 최적화\"\n",
        "lr_clf = LogisticRegression(max_iter=500, solver='lbfgs', random_state=42)\n",
        "\n",
        "lr_clf.fit(X_train, y_train)\n",
        "pred = lr_clf.predict(X_test)\n",
        "\n",
        "accuracy_lr = accuracy_score(y_test, pred)\n",
        "print(round(accuracy_lr,4))\n",
        "# len(X_test)"
      ],
      "metadata": {
        "colab": {
          "base_uri": "https://localhost:8080/"
        },
        "id": "SxkDnvVmP32-",
        "outputId": "6c93a4ed-fc11-4083-8d04-bc05b221576c"
      },
      "execution_count": 9,
      "outputs": [
        {
          "output_type": "stream",
          "name": "stdout",
          "text": [
            "0.8492\n"
          ]
        }
      ]
    },
    {
      "cell_type": "code",
      "source": [
        "pred_proba = lr_clf.predict_proba(X_test)\n",
        "pred_proba[:3]"
      ],
      "metadata": {
        "colab": {
          "base_uri": "https://localhost:8080/"
        },
        "id": "oEuZW2WaU9SH",
        "outputId": "8af64e23-72ea-40e9-a354-cdf1e882fef2"
      },
      "execution_count": 12,
      "outputs": [
        {
          "output_type": "execute_result",
          "data": {
            "text/plain": [
              "array([[0.4621693 , 0.5378307 ],\n",
              "       [0.87879062, 0.12120938],\n",
              "       [0.87724729, 0.12275271]])"
            ]
          },
          "metadata": {},
          "execution_count": 12
        }
      ]
    },
    {
      "cell_type": "code",
      "source": [
        "pred = lr_clf.predict(X_test)\n",
        "print(pred[:3])\n",
        "pred.reshape(-1,1)[:3]"
      ],
      "metadata": {
        "colab": {
          "base_uri": "https://localhost:8080/"
        },
        "id": "oKpe94MrVSkg",
        "outputId": "4f9e2244-74c4-4f72-9424-b75e57c09c42"
      },
      "execution_count": 13,
      "outputs": [
        {
          "output_type": "stream",
          "name": "stdout",
          "text": [
            "[1 0 0]\n"
          ]
        },
        {
          "output_type": "execute_result",
          "data": {
            "text/plain": [
              "array([[1],\n",
              "       [0],\n",
              "       [0]])"
            ]
          },
          "metadata": {},
          "execution_count": 13
        }
      ]
    },
    {
      "cell_type": "code",
      "source": [
        "import numpy as np\n",
        "pred_proba_result = np.concatenate([pred_proba , pred.reshape(-1,1)], axis=1)\n",
        "print('두개의 class 중에서 더 큰 확률을 클래스 값으로 예측 \\n', pred_proba_result[:3])\n",
        "type(pred_proba_result)"
      ],
      "metadata": {
        "colab": {
          "base_uri": "https://localhost:8080/"
        },
        "id": "3uHsoJ6BVcka",
        "outputId": "c0a328b4-ee74-4a82-d5e6-6c95ccb26cde"
      },
      "execution_count": 15,
      "outputs": [
        {
          "output_type": "stream",
          "name": "stdout",
          "text": [
            "두개의 class 중에서 더 큰 확률을 클래스 값으로 예측 \n",
            " [[0.4621693  0.5378307  1.        ]\n",
            " [0.87879062 0.12120938 0.        ]\n",
            " [0.87724729 0.12275271 0.        ]]\n"
          ]
        },
        {
          "output_type": "execute_result",
          "data": {
            "text/plain": [
              "numpy.ndarray"
            ]
          },
          "metadata": {},
          "execution_count": 15
        }
      ]
    },
    {
      "cell_type": "code",
      "source": [
        "# 사이킷런은 분류 결정 임곗값을 조절해 정밀도와 재현율의 성능 수치를 상호 보완적으로 조정\n",
        "# threshold 변수를 특정 값으로 설정하고 사이킷런의 Binarizer 클래스 객채로 생성\n",
        "# fit_transform() 매서드를 이용해 넘파이 ndarray를 입력하면 입력된 ndarray 의 값이\n",
        "# threshold 보다 같거나 작으면 0, 크면 1값 반환\n",
        "\n",
        "from sklearn.preprocessing import Binarizer\n",
        "\n",
        "X = [[ 1, -1, 2],\n",
        "     [2, 0, 0],\n",
        "     [0, 1.1, 1.2]]\n",
        "\n",
        "# threshold 기준값보다 같거나 작으면 0, 크면 1반환\n",
        "Binarizer = Binarizer(threshold=1.1)\n",
        "print(Binarizer.fit_transform(X))"
      ],
      "metadata": {
        "colab": {
          "base_uri": "https://localhost:8080/"
        },
        "id": "-tAgXp6CWjo5",
        "outputId": "b10ba1a8-d99c-4562-9e6a-d2136671a1ab"
      },
      "execution_count": 16,
      "outputs": [
        {
          "output_type": "stream",
          "name": "stdout",
          "text": [
            "[[0. 0. 1.]\n",
            " [1. 0. 0.]\n",
            " [0. 0. 1.]]\n"
          ]
        }
      ]
    },
    {
      "cell_type": "code",
      "source": [
        "# 생존 확률을 선택해서 임곗값 0.5를 기준과 비교하여 예측\n",
        "\n",
        "from sklearn.preprocessing import Binarizer\n",
        "custom_treshold = 0.12\n",
        "print('pred_proba: \\n', pred_proba[0:5])\n",
        "print()\n",
        "# 생존 확률 추룰 후 2차원 배열오 변환\n",
        "pred_proba_1 = pred_proba[:,1].reshape(-1,1)\n",
        "# pred_proba_1 = pred_proba[:,1]\n",
        "print('생존확률: \\n', pred_proba_1[0:5] )\n",
        "print()\n",
        "binarizer = Binarizer(threshold=custom_treshold)\n",
        "custom_predict = binarizer.fit_transform(pred_proba_1)\n",
        "print('예측값: \\n', custom_predict[0:5])"
      ],
      "metadata": {
        "colab": {
          "base_uri": "https://localhost:8080/"
        },
        "id": "7TVpftvnXu77",
        "outputId": "c80d327a-80a9-44c4-d5b4-1334eb71a9ee"
      },
      "execution_count": 28,
      "outputs": [
        {
          "output_type": "stream",
          "name": "stdout",
          "text": [
            "pred_proba: \n",
            " [[0.4621693  0.5378307 ]\n",
            " [0.87879062 0.12120938]\n",
            " [0.87724729 0.12275271]\n",
            " [0.88248085 0.11751915]\n",
            " [0.85524966 0.14475034]]\n",
            "\n",
            "생존확률: \n",
            " [[0.5378307 ]\n",
            " [0.12120938]\n",
            " [0.12275271]\n",
            " [0.11751915]\n",
            " [0.14475034]]\n",
            "\n",
            "예측값: \n",
            " [[1.]\n",
            " [1.]\n",
            " [1.]\n",
            " [0.]\n",
            " [1.]]\n"
          ]
        }
      ]
    },
    {
      "cell_type": "markdown",
      "source": [],
      "metadata": {
        "id": "oZ3xMrRcZkbE"
      }
    },
    {
      "cell_type": "code",
      "source": [
        "# get_clf_eval 평가 사용자 정의 함수\n",
        "from sklearn.metrics import accuracy_score, precision_score , recall_score, confusion_matrix, f1_score\n",
        "\n",
        "def get_clf_eval(y_test, pred):\n",
        "    confusion = confusion_matrix( y_test, pred)\n",
        "    accuracy = accuracy_score(y_test , pred)\n",
        "    precision = precision_score(y_test , pred)\n",
        "    recall = recall_score(y_test , pred)\n",
        "    f1 = f1_score(y_test,pred)\n",
        "    print('오차 행렬')\n",
        "    print(confusion)\n",
        "    print('정확도: {0:.4f}, 정밀도: {1:.4f}, 재현율: {2:.4f}, F1 score: {3:.4f}'.format(accuracy, precision, recall, f1))\n",
        "\n",
        "get_clf_eval(y_test, custom_predict)"
      ],
      "metadata": {
        "colab": {
          "base_uri": "https://localhost:8080/"
        },
        "id": "DsfE-BsNZu__",
        "outputId": "782e4968-98c2-4b2f-c94c-4ca496a7d565"
      },
      "execution_count": 33,
      "outputs": [
        {
          "output_type": "stream",
          "name": "stdout",
          "text": [
            "오차 행렬\n",
            "[[43 75]\n",
            " [ 2 59]]\n",
            "정확도: 0.5698, 정밀도: 0.4403, 재현율: 0.9672, F1 score: 0.6051\n"
          ]
        }
      ]
    },
    {
      "cell_type": "code",
      "source": [
        "TN FN\n",
        "FP TP"
      ],
      "metadata": {
        "id": "Ih2m6jnBcFVU"
      },
      "execution_count": null,
      "outputs": []
    },
    {
      "cell_type": "code",
      "source": [
        "# 정확도 = (TP + TN) / ( TP + TN + FP + FN)\n",
        "\n",
        "TN=43;TP=75;FP=2;FN=59\n",
        "accuracy = (TP+TN)/(TP+TN+FP+FN)\n",
        "round(accuracy,4)"
      ],
      "metadata": {
        "colab": {
          "base_uri": "https://localhost:8080/"
        },
        "id": "8lYhShrdcNAk",
        "outputId": "70dc8cb8-59cf-4239-8a65-2c926939d8d9"
      },
      "execution_count": 40,
      "outputs": [
        {
          "output_type": "execute_result",
          "data": {
            "text/plain": [
              "0.6592"
            ]
          },
          "metadata": {},
          "execution_count": 40
        }
      ]
    },
    {
      "cell_type": "code",
      "source": [
        "# 오차 행렬을 통해 직접 지표 계산\n",
        "\n",
        "TN=43;TP=75;FP=2;FN=59\n",
        "\n",
        "accuracy = accuracy = (TP+TN)/(TP+TN+FP+FN)\n",
        "precision = TP / ( TP + FP)\n",
        "recall = TP / ( TP + FN)\n",
        "F1 = 2 * ( precision * recall) / (precision + recall)\n",
        "print(f'정확도: {round(accuracy,2)}, 정밀도: {round(precision,2)}, 재현율: {round(recall,2)}, F1 score: {round(F1,2)}')"
      ],
      "metadata": {
        "colab": {
          "base_uri": "https://localhost:8080/"
        },
        "id": "-ckmSSRkcq3q",
        "outputId": "9df341cb-ba1f-4d7c-ef75-e6b944d8a0b7"
      },
      "execution_count": 41,
      "outputs": [
        {
          "output_type": "stream",
          "name": "stdout",
          "text": [
            "정확도: 0.66, 정밀도: 0.97, 재현율: 0.56, F1 score: 0.71\n"
          ]
        }
      ]
    },
    {
      "cell_type": "markdown",
      "source": [
        "Q. pred와 y_test를 배열로 만든 후 동일한 인덱스에서 0이 일치하는 경우와 1이 모두 일치하는 경우의 수를 산출"
      ],
      "metadata": {
        "id": "tuOoAV8kemt-"
      }
    },
    {
      "cell_type": "code",
      "source": [
        "import numpy as np\n",
        "\n",
        "# 예시 배열 생성\n",
        "\n",
        "array1 = pred\n",
        "array2 = y_test.values\n",
        "\n",
        "# 동일한 인덱스에서 0이 모두 일치하는 경우의 수\n",
        "\n",
        "matching_zeros = np.sum((array1 == 0) & (array2 == 0))\n",
        "\n",
        "# 동일한 인덱스에서 1이 모두 일치하는 경우의 수\n",
        "matching_ones = np.sum((array1 == 1) & (array2 == 1))\n",
        "\n",
        "matching_zeros, matching_ones"
      ],
      "metadata": {
        "colab": {
          "base_uri": "https://localhost:8080/"
        },
        "id": "Cm3x9pDPeuvK",
        "outputId": "b406d6f9-1f18-46ef-8bb2-c3007aa59026"
      },
      "execution_count": 43,
      "outputs": [
        {
          "output_type": "execute_result",
          "data": {
            "text/plain": [
              "(104, 48)"
            ]
          },
          "metadata": {},
          "execution_count": 43
        }
      ]
    },
    {
      "cell_type": "markdown",
      "source": [
        "Q. 오차 행렬을 통해 직접 수작업으로 지표 계산"
      ],
      "metadata": {
        "id": "Wp2T14dWf7mG"
      }
    },
    {
      "cell_type": "code",
      "source": [
        "pred_proba[:,1]"
      ],
      "metadata": {
        "id": "TfcJLQfdgAnn"
      },
      "execution_count": null,
      "outputs": []
    },
    {
      "cell_type": "code",
      "source": [
        "# 분류 결정 임곗값은 Positive 예측값을 결정하는 확률의 기준\n",
        "# 임곗값을 낮출수록 Positive 예측값이 많아지면 FN은 하락해서 재현율은 올라가고 FP는 증가해서 정밀도는 내려간다\n",
        "# Binarizer의 threshold 설정값을 0.4로 설정 즉 분류 결정 임곗값을 0.5에서 0.4로 낮춤\n",
        "\n",
        "custom_treshold = 0.4\n",
        "pred_proba_1 = pred_proba[:,1].reshape(-1,1)\n",
        "binarizer = Binarizer(threshold=custom_treshold)\n",
        "custom_predict = binarizer.fit_transform(pred_proba_1)\n",
        "\n",
        "get_clf_eval(y_test, custom_predict)"
      ],
      "metadata": {
        "colab": {
          "base_uri": "https://localhost:8080/"
        },
        "id": "nefgyymogKqe",
        "outputId": "f5171a8c-3dbd-4d7a-d33f-3cbfbf7434e8"
      },
      "execution_count": 46,
      "outputs": [
        {
          "output_type": "stream",
          "name": "stdout",
          "text": [
            "오차 행렬\n",
            "[[98 20]\n",
            " [10 51]]\n",
            "정확도: 0.8324, 정밀도: 0.7183, 재현율: 0.8361, F1 score: 0.7727\n"
          ]
        }
      ]
    },
    {
      "cell_type": "code",
      "source": [
        "# 테스트를 수행할 모든 임곗값을 리스트 객체로 저장\n",
        "thresholds = [0.4, 0.45, 0.50, 0.55, 0.60]\n",
        "\n",
        "def get_eval_by_threshold(y_test , pred_proba_c1, thresholds):\n",
        "    # thresholds list객체내의 값을 차례로 iteration하면서 Evaluation 수행\n",
        "    for custom_treshold in thresholds:\n",
        "        binarizer = Binarizer(threshold=custom_treshold)\n",
        "        custom_predict = binarizer.transform(pred_proba_c1)\n",
        "        print('임곗값:',custom_treshold)\n",
        "\n",
        "        get_clf_eval(y_test , custom_predict)\n",
        "        print()\n",
        "get_eval_by_threshold(y_test, pred_proba[:,1].reshape(-1,1), thresholds)\n"
      ],
      "metadata": {
        "colab": {
          "base_uri": "https://localhost:8080/"
        },
        "id": "SzOEAKvFlB7k",
        "outputId": "20720773-5bed-4b57-f79d-57e6847837c1"
      },
      "execution_count": 47,
      "outputs": [
        {
          "output_type": "stream",
          "name": "stdout",
          "text": [
            "임곗값: 0.4\n",
            "오차 행렬\n",
            "[[98 20]\n",
            " [10 51]]\n",
            "정확도: 0.8324, 정밀도: 0.7183, 재현율: 0.8361, F1 score: 0.7727\n",
            "\n",
            "임곗값: 0.45\n",
            "오차 행렬\n",
            "[[103  15]\n",
            " [ 12  49]]\n",
            "정확도: 0.8492, 정밀도: 0.7656, 재현율: 0.8033, F1 score: 0.7840\n",
            "\n",
            "임곗값: 0.5\n",
            "오차 행렬\n",
            "[[104  14]\n",
            " [ 13  48]]\n",
            "정확도: 0.8492, 정밀도: 0.7742, 재현율: 0.7869, F1 score: 0.7805\n",
            "\n",
            "임곗값: 0.55\n",
            "오차 행렬\n",
            "[[109   9]\n",
            " [ 15  46]]\n",
            "정확도: 0.8659, 정밀도: 0.8364, 재현율: 0.7541, F1 score: 0.7931\n",
            "\n",
            "임곗값: 0.6\n",
            "오차 행렬\n",
            "[[112   6]\n",
            " [ 16  45]]\n",
            "정확도: 0.8771, 정밀도: 0.8824, 재현율: 0.7377, F1 score: 0.8036\n",
            "\n"
          ]
        }
      ]
    },
    {
      "cell_type": "code",
      "source": [
        "# precision_recall_curve() API는 정밀도와 재현율의 임곗값에 따른 값 변화를 곡선 형태의 그래프로\n",
        "# 시각화 하는데 이용\n",
        "\n",
        "import matplotlib.pyplot as plt\n",
        "import matplotlib.ticker as ticker\n",
        "from sklearn.metrics import precision_recall_curve\n",
        "\n",
        "def precision_recall_curve_plot(y_test , pred_proba_c1):\n",
        "    # threshold ndarray와 이 threshold에 따른 정밀도, 재현율 ndarray추출\n",
        "    precisions, recalls, thresholds = precision_recall_curve( y_test, pred_proba_c1)\n",
        "    print(list(thresholds))\n",
        "    print(thresholds.shape)\n",
        "    threshold_boundary = thresholds.shape[0]\n",
        "    print(threshold_boundary)\n",
        "\n",
        "    # X축을 threshold값으로, Y축은 정밀도, 재현율 값으로 각각 plot 수행, 정밀도는 점선으로 표시\n",
        "    plt.figure(figsize=(8,6))\n",
        "    plt.plot(thresholds, precisions[0:threshold_boundary], linestyle='--', label='precision')\n",
        "    plt.plot(thresholds, recalls[0:threshold_boundary],label='recall')\n",
        "\n",
        "    # threshold 값 X축의 Scaler을 0.1단위로 변경\n",
        "    start, end = plt.xlim() # 플롯의 x축의 현재 한계를 반환\n",
        "    plt.xticks(np.round(np.arange(start, end, 0.1),2))\n",
        "\n",
        "    # x축, y축 label과 legend, 그리고 grid 설정\n",
        "    plt.xlabel('Threshold value'); plt.ylabel('Precision and Recall value')\n",
        "    plt.legend(); plt.grid()\n",
        "    plt.show()\n",
        "\n",
        "precision_recall_curve_plot( y_test, lr_clf.predict_proba(X_test)[:, 1])"
      ],
      "metadata": {
        "colab": {
          "base_uri": "https://localhost:8080/",
          "height": 616
        },
        "id": "VB08KJISoA_-",
        "outputId": "4fa85ab5-bb4c-43cf-a4dc-78e28e100ff3"
      },
      "execution_count": 51,
      "outputs": [
        {
          "output_type": "stream",
          "name": "stdout",
          "text": [
            "[0.011598372575398511, 0.05287340486279165, 0.06227561122938843, 0.06364094783971665, 0.0686219662613237, 0.07092890650201744, 0.07234603067485273, 0.07413043607846309, 0.07562166741024949, 0.07566661784879643, 0.08333212396669866, 0.09120100650915934, 0.091560651397997, 0.09157987900451375, 0.09435725208266034, 0.09452239940304241, 0.09619244530116186, 0.09746243943307457, 0.10030355036400172, 0.10063186552225592, 0.10064163243131444, 0.10112568271596792, 0.1038279558108009, 0.10383019258726989, 0.10385528934347624, 0.10784254995723651, 0.10879460682559956, 0.11147917332518803, 0.11151614267240531, 0.11152497156250002, 0.1118948212509743, 0.11192928031694493, 0.11612275854688298, 0.11715367846517333, 0.1175191524613993, 0.11787278700417052, 0.11796405770966477, 0.12120937604354148, 0.12269827596483582, 0.122752713414334, 0.12275375259392679, 0.12275868102173296, 0.12447908787914164, 0.1248381432704732, 0.1253963060334748, 0.12682307771233894, 0.1282555250281109, 0.12872407433542024, 0.13072489175356858, 0.1326627910499618, 0.13282577635860984, 0.13320395213178793, 0.14044980700450668, 0.14087846048447425, 0.14092538201135502, 0.1409323779910874, 0.14475034158618533, 0.14523464821917043, 0.14814020112872167, 0.14814050740272655, 0.14962270772372513, 0.15348118906999744, 0.1540444321197314, 0.16824105170789289, 0.16826733709890268, 0.1837684064943341, 0.18520386741442013, 0.18610547112696957, 0.1970366255449226, 0.19850938366427343, 0.19873933081636866, 0.21717077882585642, 0.226478859492681, 0.23243788608427216, 0.23422252631563203, 0.2345929094632814, 0.24021755096949357, 0.24649529301483084, 0.25088713366994914, 0.26666566566974714, 0.27532531949201944, 0.2801960113169058, 0.28048746763905946, 0.30457644027329617, 0.3094006860182245, 0.30959064395380964, 0.3166935500167955, 0.3215397113073963, 0.32192059885599716, 0.3477906829354629, 0.3510582482874573, 0.3511160145799845, 0.3590955960837383, 0.3800222366639612, 0.38098066995032964, 0.3994476065789501, 0.40114403628649503, 0.40301437301826437, 0.4291787791806946, 0.43285269688341566, 0.44314223707805783, 0.44410765339107755, 0.44915783383742375, 0.4538725078626214, 0.4870948507701291, 0.5015462340219125, 0.5049438790687056, 0.514747513097182, 0.529844656163925, 0.5378306982948076, 0.5446422346062686, 0.5452082602951924, 0.5630340622234883, 0.5696124045252727, 0.5922596612277655, 0.5939256696078559, 0.6107692169378384, 0.626653963161417, 0.6303405920690747, 0.6303568572704505, 0.6310075462374306, 0.6312735201845598, 0.636336108535658, 0.6455720315313637, 0.6510773622860373, 0.6538868652843541, 0.6665038965206248, 0.6665713260677474, 0.6681793762379544, 0.6775520838431709, 0.6903011772024685, 0.7078864210482909, 0.7252423453666945, 0.7352259918334876, 0.7486258976238449, 0.7516276681852865, 0.7778024088703422, 0.7911547095815608, 0.7931445479786432, 0.7947570604813935, 0.803751178419722, 0.8171622996976929, 0.8216761359000179, 0.826108504162193, 0.8283209648660664, 0.8356795897062272, 0.8541152242270367, 0.8745765985642697, 0.8807374619239923, 0.8842819346705456, 0.8930458417791781, 0.9089636741149039, 0.9180370905597434, 0.9188677463113689, 0.9259594352318542, 0.928939147429317, 0.9312274845505684, 0.9471922192334125, 0.9478602079368733, 0.9479523362658112, 0.9488781732893911, 0.948917832259027, 0.9502787982271287, 0.9518140715985584, 0.9650606138432577]\n",
            "(165,)\n",
            "165\n"
          ]
        },
        {
          "output_type": "display_data",
          "data": {
            "text/plain": [
              "<Figure size 800x600 with 1 Axes>"
            ],
            "image/png": "[encoded data removed]"
          },
          "metadata": {}
        }
      ]
    },
    {
      "cell_type": "markdown",
      "source": [
        "#### 결과 해석\n",
        "* 임계값이 낮을수록 많은 수의 양성 예측으로 인해 재현율 값이 극도로 높아지고 정밀도 값이 낮아짐.(FN이 작아지고 FP가 커짐)\n",
        "* 로지스틱 회귀 기반의 타이타닉 생존자 예측 모델의 경우 임곗값이 약 0.5 지점에서 재현율과 정밀도가 비슷해지는 모습을 보임.\n",
        "* 단순히 하나의 성능 지표 수치를 높이기 위한 수단으로 사용하는 것은 지양하고 업무 환경에 맞게 두 개의 수치를 상호 보완할 수 있는 수준에서 적용\n",
        "\n",
        "#### 정밀도 및 재현율 활용시 유의 사항\n",
        "* 정밀도와 재현율 성능 수치는 어느 한쪽만 참조하면 극단적인 수치 조작이 가능\n",
        "* 정밀도 100%가 되는 방법:\n",
        "  확실한 기준이 되는 경우만 Positive로 예측하고 나머지는 모두 Negative로 예측\n",
        "  전체 환자 1000명중 확실한 Positive 징후만 가진 환자는 단 1명이라고 하면 이 한 명만 P로 예측하고 나머지는 모두 N으로 예측\n",
        "  FP는 0, TP는 1이 되며 정밀도(TP/(TP+FP)는 1/(1+0) = 1\n",
        "* 재현율이 100%가 되는 방법:\n",
        "  모든 환자를 Positive로 예측\n",
        "  1000명의 환자중 실제 양성인 사람이 30명 정도라도 TN이 수치에 포함되지 않고 FN은 0이므로 재현율(TP/(TP+FN)은 30/(30+0) = 1\n",
        "* 분류가 정밀도, 재현율 중 하나에 상대적인 중요도를 부여할 수 있지만 하나만 강조해서는 안됨\n",
        "* 암 예측 모델에서 재현율을 높인다고 주로 양성만 판정한다면 환자의 부담과 불평이 커지게 됨"
      ],
      "metadata": {
        "id": "E1hkngbjsLiq"
      }
    },
    {
      "cell_type": "code",
      "source": [
        "# F1 스코어는 정밀도와 재현율을 결합한 지표 : 정밀도와 재현율의 균형이 필요한 경우: 특히 클래스 불균형이 있을때 유용\n",
        "# F1 스코어는 정밀도와 재현율이 어느 한쪽으로 치우치지 않는 수치를 나타낼때 상대적으로 높은 값을 가짐\n",
        "\n",
        "from sklearn.metrics import f1_score\n",
        "f1 = f1_score(y_test , pred)\n",
        "print('F1 스코어: {0:.4f}'.format(f1))"
      ],
      "metadata": {
        "colab": {
          "base_uri": "https://localhost:8080/"
        },
        "id": "d7cmDLBvsTUU",
        "outputId": "ca5d31eb-204f-4a52-e5b1-7a8ef3ff7b93"
      },
      "execution_count": 52,
      "outputs": [
        {
          "output_type": "stream",
          "name": "stdout",
          "text": [
            "F1 스코어: 0.7805\n"
          ]
        }
      ]
    },
    {
      "cell_type": "markdown",
      "source": [
        "#### ROC 곡선과 AUC\n",
        "* 수신자 판단 곡선이라고 하며 ML의 이진 분류 모델의 예측 성능을 판단하는 중요한 평가 지표.\n",
        "* FPR이 변할 때 TPR이 어떻게 변하는지를 나타내는 곡선으로 FPR은 1- 특이성(TNR), (TN + FP)/(TN + FP) - TN/(TN+FP) = FP/(TN+FP), TPR은 재현율(민감도)를 나타냄.\n",
        "* 특이성은 실제로 음성인 사례들 중에서 모델이 음성으로 예측한 사례의 비율\n",
        "* TNR은 TN/(TN+FP)이며 FPR은 FP/(TN+FP)임\n",
        "* ROC 곡선은 FPR을 0부터 1까지 변경하면서 FPR을 구하고 이 FPR값의 변화에 따른 TPR의 변화 값을 구함.\n",
        "* FPR을 0에서 1까지 변경하는 것은 Positive 예측값을 결정하는 기준인 분류 결정 임곗값을 변경하면 됨.\n",
        "* FPR을 0으로 만들려면 임곗값을 1로 지정하고 반대로 FPR을 1로 만들려면 임곗값을 0으로 지정하면 됨."
      ],
      "metadata": {
        "id": "jVFTg2QABsXg"
      }
    },
    {
      "cell_type": "code",
      "source": [
        "import pandas as pd\n",
        "import numpy as np\n",
        "from sklearn.model_selection import train_test_split\n",
        "from sklearn.linear_model import LogisticRegression\n",
        "from sklearn.metrics import accuracy_score\n",
        "import warnings\n",
        "warnings.filterwarnings('ignore')\n",
        "titanic_df = pd.read_csv('/content/drive/MyDrive/kdt_240424/M5_머신러닝/dataset/train (1).csv')\n",
        "y_titanic_df = titanic_df['Survived']\n",
        "X_titanic_df = titanic_df.drop('Survived',axis=1)\n",
        "X_titanic_df = transform_features(X_titanic_df)\n",
        "\n",
        "X_train, X_test, y_train, y_test = \\\n",
        "                        train_test_split(X_titanic_df, y_titanic_df, test_size= 0.20, random_state=11)\n",
        "lr_clf = LogisticRegression()\n",
        "lr_clf.fit(X_train,y_train)\n",
        "pred = lr_clf.predict(X_test)\n",
        "accuracy_lr = accuracy_score(y_test, pred)\n",
        "accuracy_lr"
      ],
      "metadata": {
        "colab": {
          "base_uri": "https://localhost:8080/"
        },
        "id": "va2k9f73BwmL",
        "outputId": "4f2e8c6a-2e9f-433c-92a7-6b5bc2d79a8c"
      },
      "execution_count": 54,
      "outputs": [
        {
          "output_type": "execute_result",
          "data": {
            "text/plain": [
              "0.8491620111731844"
            ]
          },
          "metadata": {},
          "execution_count": 54
        }
      ]
    },
    {
      "cell_type": "code",
      "source": [
        "from sklearn.metrics import roc_curve\n",
        "pred_proba_c1 = lr_clf.predict_proba(X_test)[:,1]\n",
        "fprs, tprs, thresholds = roc_curve(y_test, pred_proba_c1)\n",
        "thr_index = np.arange(1, thresholds. shape[0],5)\n",
        "print(thr_index)\n",
        "print(np.round(thresholds[thr_index],2))\n",
        "print(np.round(fprs[thr_index],2))\n",
        "print(np.round(tprs[thr_index],2))"
      ],
      "metadata": {
        "colab": {
          "base_uri": "https://localhost:8080/"
        },
        "id": "4SDskDnTEHL1",
        "outputId": "ef7cea65-136a-4343-adda-84267cde02d1"
      },
      "execution_count": 58,
      "outputs": [
        {
          "output_type": "stream",
          "name": "stdout",
          "text": [
            "[ 1  6 11 16 21 26 31 36 41 46 51]\n",
            "[0.97 0.65 0.63 0.56 0.45 0.4  0.35 0.15 0.13 0.11 0.11]\n",
            "[0.   0.02 0.03 0.08 0.13 0.17 0.2  0.47 0.58 0.69 0.8 ]\n",
            "[0.03 0.64 0.72 0.75 0.8  0.84 0.89 0.9  0.93 0.97 0.98]\n"
          ]
        }
      ]
    },
    {
      "cell_type": "code",
      "source": [
        "# ROC_Curve는 임곗값이 1에 가까운 값에서 점점 작아지면서 FPR이 점점 커지는데\n",
        "# FPR이 조금씩 커질때 TPR은 가파르게 커짐을 알 수 있음\n",
        "# AUC가 커지려면 FPR이 작은 상태에서 얼마나 큰 TPR을 얻을 수 있느냐가 관건\n",
        "# 가운데 대각선 직선은 랜덤 수준의 이진 분류 AUC 값으로 0.5이며 일반적으로 분류는 0.5 이상의 AUC값을 가짐\n",
        "\n",
        "import matplotlib.pyplot as plt\n",
        "def roc_curve_plot(y_test , pred_proba_c1):\n",
        "    # 임곗값에 따른 FPR, TPR 값을 반환 받음\n",
        "    fprs, tprs, thresholds = roc_curve(y_test , pred_proba_c1)\n",
        "\n",
        "    # ROC Curve를 plot 곡선으로 그림\n",
        "    plt.plot(fprs , tprs, label='ROC')\n",
        "    # 가운데 대각선 직선을 그림\n",
        "    plt.plot([0, 1], [0, 1], 'k--', label='Random')\n",
        "\n",
        "    # FPR X축의 Scale을 0.1 단위로 변경, X,Y 축명 설정 등\n",
        "    start, end = plt.xlim()\n",
        "    plt.xticks(np.round(np.arange(start, end, 0.1),2))\n",
        "    plt.xlim(0,1); plt.ylim(0,1)\n",
        "    plt.xlabel('FPR( 1 - Sensitivity )'); plt.ylabel('TPR( Recall )')\n",
        "    plt.legend()\n",
        "    plt.show()\n",
        "\n",
        "roc_curve_plot(y_test, lr_clf.predict_proba(X_test)[:, 1] )"
      ],
      "metadata": {
        "colab": {
          "base_uri": "https://localhost:8080/",
          "height": 455
        },
        "id": "8-sqQs8CFWZ5",
        "outputId": "9255f193-01df-4332-a732-255bf2f0a484"
      },
      "execution_count": 60,
      "outputs": [
        {
          "output_type": "display_data",
          "data": {
            "text/plain": [
              "<Figure size 640x480 with 1 Axes>"
            ],
            "image/png": "[encoded data removed]"
          },
          "metadata": {}
        }
      ]
    },
    {
      "cell_type": "code",
      "source": [
        "# ROC 곡선 자체는 FPR과 TPR의 변화 값을 보는데 이용하며\n",
        "# 분류의 성능 지표로 사용되는 것은 ROC곡선이며 면적에 기반한 AUC값으로 결정\n",
        "# AUC값은 ROC 곡선 밑의 면적을 구한것으로서 일반적으로 1에 가까울수록 좋은 수치임\n",
        "# AUC 수치가 커지려면 FPR이 작은 상태에서 얼마나 큰 TPR을 얻을수 있느냐가 관건\n",
        "\n",
        "from  sklearn.metrics import roc_auc_score\n",
        "\n",
        "pred_proba = lr_clf.predict_proba(X_test)[:,1].reshape(-1,1)\n",
        "roc_score = roc_auc_score(y_test, pred_proba)\n",
        "print('ROC AUC 값: {0:.4f}'.format(roc_score))"
      ],
      "metadata": {
        "colab": {
          "base_uri": "https://localhost:8080/"
        },
        "id": "HWF5p89FIAJ-",
        "outputId": "337b7d1d-89e4-4fb7-dba8-5c3f5ed517ec"
      },
      "execution_count": 61,
      "outputs": [
        {
          "output_type": "stream",
          "name": "stdout",
          "text": [
            "ROC AUC 값: 0.9024\n"
          ]
        }
      ]
    },
    {
      "cell_type": "code",
      "source": [
        "from sklearn.metrics import roc_auc_score, precision_score , recall_score, confusion_matrix, f1_score, roc_auc_score\n",
        "\n",
        "def get_clf_eval(y_test, pred, pred_proba):\n",
        "    confusion = confusion_matrix( y_test, pred)\n",
        "    accuracy = accuracy_score(y_test , pred)\n",
        "    precision = precision_score(y_test , pred)\n",
        "    recall = recall_score(y_test , pred)\n",
        "    f1 = f1_score(y_test,pred)\n",
        "\n",
        "    # ROC-AUC 추가\n",
        "    roc_auc = roc_auc_score(y_test, pred_proba)\n",
        "    print('오차행렬')\n",
        "    print(confusion)\n",
        "    # ROC-AUC print 추가\n",
        "    print('정확도: {0:.4f}, 정밀도: {1:.4f}, 재현율: {2:.4f}),\\\n",
        "    F1: {3:.4f}, AUC:{4:.4f}'.format(accuracy, precision, recall, f1, roc_auc))\n",
        "\n",
        "get_clf_eval(y_test, pred, pred_proba)"
      ],
      "metadata": {
        "colab": {
          "base_uri": "https://localhost:8080/"
        },
        "id": "S_fCIr2yHu-9",
        "outputId": "690721c0-5349-417b-effe-1f6acf844200"
      },
      "execution_count": 65,
      "outputs": [
        {
          "output_type": "stream",
          "name": "stdout",
          "text": [
            "오차행렬\n",
            "[[104  14]\n",
            " [ 13  48]]\n",
            "정확도: 0.8492, 정밀도: 0.7742, 재현율: 0.7869),    F1: 0.7805, AUC:0.9024\n"
          ]
        }
      ]
    },
    {
      "cell_type": "code",
      "source": [
        "import numpy as np\n",
        "from sklearn.datasets import make_classification\n",
        "from sklearn.model_selection import train_test_split\n",
        "from sklearn.ensemble import RandomForestClassifier\n",
        "from sklearn.metrics import roc_auc_score\n",
        "from sklearn.preprocessing import label_binarize\n",
        "\n",
        "# 데이터 생성\n",
        "X, y = make_classification(n_samples=1000, n_features=20, n_classes=3, n_informative=15, random_state=42)\n",
        "print(X.shape)\n",
        "\n",
        "# 데이터 분할\n",
        "\n",
        "X_train , X_test, y_train, y_test = train_test_split(X, y, test_size=0.2, random_state=42)\n",
        "\n",
        "# 모델 훈련\n",
        "\n",
        "model = RandomForestClassifier()\n",
        "model.fit(X_train, y_train)\n",
        "\n",
        "# 예측 확률\n",
        "\n",
        "y_score = model.predict_proba(X_test)\n",
        "\n",
        "# 다중 클래스 라벨을 이진화\n",
        "\n",
        "y_test_binarized = label_binarize(y_test, classes=[0, 1, 2])\n",
        "\n",
        "# ROC AUC 계산 (ovR 방식)\n",
        "\n",
        "roc_auc_ovr = roc_auc_score(y_test_binarized, y_score, multi_class='ovr')\n",
        "\n",
        "print(f\"ROC AUC (One-vs-Rest): {roc_auc_ovr}\")\n"
      ],
      "metadata": {
        "colab": {
          "base_uri": "https://localhost:8080/"
        },
        "id": "4_cs7qEMNA1T",
        "outputId": "4e14385b-ad0a-4ee4-f307-62bcf9be6fd9"
      },
      "execution_count": 67,
      "outputs": [
        {
          "output_type": "stream",
          "name": "stdout",
          "text": [
            "(1000, 20)\n",
            "ROC AUC (One-vs-Rest): 0.8847733197784952\n"
          ]
        }
      ]
    }
  ]
}